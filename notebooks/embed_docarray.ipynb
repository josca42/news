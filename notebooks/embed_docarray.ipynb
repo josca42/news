{
 "cells": [
  {
   "cell_type": "code",
   "execution_count": 21,
   "id": "6000abf9-5a15-49ee-8e2a-0bda659f2125",
   "metadata": {},
   "outputs": [
    {
     "name": "stdout",
     "output_type": "stream",
     "text": [
      "The autoreload extension is already loaded. To reload it, use:\n",
      "  %reload_ext autoreload\n"
     ]
    }
   ],
   "source": [
    "%load_ext autoreload\n",
    "%autoreload 2"
   ]
  },
  {
   "cell_type": "code",
   "execution_count": 23,
   "id": "29a69700-5d59-491a-a483-7205e63a9c04",
   "metadata": {},
   "outputs": [
    {
     "ename": "ModuleNotFoundError",
     "evalue": "No module named 'Annlite'",
     "output_type": "error",
     "traceback": [
      "\u001b[0;31m---------------------------------------------------------------------------\u001b[0m",
      "\u001b[0;31mModuleNotFoundError\u001b[0m                       Traceback (most recent call last)",
      "Input \u001b[0;32mIn [23]\u001b[0m, in \u001b[0;36m<cell line: 10>\u001b[0;34m()\u001b[0m\n\u001b[1;32m      8\u001b[0m \u001b[38;5;28;01mfrom\u001b[39;00m \u001b[38;5;21;01mnews\u001b[39;00m\u001b[38;5;21;01m.\u001b[39;00m\u001b[38;5;21;01mdb\u001b[39;00m \u001b[38;5;28;01mimport\u001b[39;00m crud\n\u001b[1;32m      9\u001b[0m \u001b[38;5;28;01mimport\u001b[39;00m \u001b[38;5;21;01mnumpy\u001b[39;00m \u001b[38;5;28;01mas\u001b[39;00m \u001b[38;5;21;01mnp\u001b[39;00m\n\u001b[0;32m---> 10\u001b[0m \u001b[38;5;28;01mimport\u001b[39;00m \u001b[38;5;21;01mAnnlite\u001b[39;00m\n",
      "\u001b[0;31mModuleNotFoundError\u001b[0m: No module named 'Annlite'"
     ]
    }
   ],
   "source": [
    "import pandas as pd\n",
    "from docarray import Document, DocumentArray\n",
    "from news import config\n",
    "from news.data import io\n",
    "from datetime import datetime\n",
    "from news.doc.db import da_store\n",
    "from tqdm import tqdm\n",
    "from news.db import crud\n",
    "import numpy as np\n",
    "import Annlite"
   ]
  },
  {
   "cell_type": "code",
   "execution_count": 3,
   "id": "6d500c3f-257f-40e1-a5a9-f37e9dfddd72",
   "metadata": {},
   "outputs": [
    {
     "name": "stderr",
     "output_type": "stream",
     "text": [
      "/opt/homebrew/Caskroom/miniforge/base/envs/nlp/lib/python3.9/site-packages/tqdm/auto.py:22: TqdmWarning: IProgress not found. Please update jupyter and ipywidgets. See https://ipywidgets.readthedocs.io/en/stable/user_install.html\n",
      "  from .autonotebook import tqdm as notebook_tqdm\n"
     ]
    }
   ],
   "source": [
    "from sentence_transformers import SentenceTransformer\n",
    "\n",
    "\n",
    "model = SentenceTransformer('sentence-transformers/paraphrase-xlm-r-multilingual-v1')"
   ]
  },
  {
   "cell_type": "code",
   "execution_count": 24,
   "id": "b28b12ed-2112-4806-8dec-28892b5a5320",
   "metadata": {},
   "outputs": [],
   "source": [
    "da = DocumentArray(da_store, copy=True)"
   ]
  },
  {
   "cell_type": "code",
   "execution_count": null,
   "id": "d38459d8-9c51-430b-b638-ba3b32fd2e25",
   "metadata": {},
   "outputs": [],
   "source": []
  },
  {
   "cell_type": "code",
   "execution_count": null,
   "id": "400dcb61-af2a-414d-b2cf-991bf41c269a",
   "metadata": {},
   "outputs": [],
   "source": []
  },
  {
   "cell_type": "code",
   "execution_count": null,
   "id": "9f4c55c3-8542-49e6-a27f-d6b8458ef19c",
   "metadata": {},
   "outputs": [],
   "source": []
  },
  {
   "cell_type": "code",
   "execution_count": null,
   "id": "a3825767-f1d6-438b-815d-7fa75267057e",
   "metadata": {},
   "outputs": [],
   "source": []
  },
  {
   "cell_type": "code",
   "execution_count": null,
   "id": "b9b869e9-f6a4-413b-b8c8-a21b2ec4f0ff",
   "metadata": {},
   "outputs": [],
   "source": []
  },
  {
   "cell_type": "code",
   "execution_count": 20,
   "id": "9d8f3f0b-3c0b-4490-9e3c-b23684004639",
   "metadata": {},
   "outputs": [
    {
     "data": {
      "text/plain": [
       "14094"
      ]
     },
     "execution_count": 20,
     "metadata": {},
     "output_type": "execute_result"
    }
   ],
   "source": [
    "len(da)"
   ]
  },
  {
   "cell_type": "code",
   "execution_count": 5,
   "id": "5efd3ad7-e8a9-4ea6-84b9-cffec7fe92cf",
   "metadata": {},
   "outputs": [],
   "source": [
    "da_sections = da[\"@c\"].split_by_tag(\"section\")"
   ]
  },
  {
   "cell_type": "code",
   "execution_count": 6,
   "id": "41cb70e4-2405-4d3b-9938-811336ef21ee",
   "metadata": {},
   "outputs": [],
   "source": [
    "da_title = da_sections[\"title\"]"
   ]
  },
  {
   "cell_type": "code",
   "execution_count": 7,
   "id": "ac7b78e6-313c-426a-82a6-677f0f810578",
   "metadata": {},
   "outputs": [],
   "source": [
    "da_title_s = da_title[:5]"
   ]
  },
  {
   "cell_type": "code",
   "execution_count": 8,
   "id": "e8ac8b02-0baa-4443-92a4-7d61075321a5",
   "metadata": {},
   "outputs": [],
   "source": [
    "t1 = datetime.now()\n",
    "\n",
    "da_title_s.embeddings = model.encode(da_title_s.texts)\n",
    "\n",
    "t2 = datetime.now()"
   ]
  },
  {
   "cell_type": "code",
   "execution_count": 9,
   "id": "1dd8d174-43e2-489b-8179-0a8ce86693a6",
   "metadata": {},
   "outputs": [
    {
     "data": {
      "text/plain": [
       "array([[ 0.19074842,  0.2530414 , -0.04863293, ..., -0.35610864,\n",
       "        -0.20182848,  0.14219669],\n",
       "       [ 0.12862396,  0.11448166,  0.07267581, ...,  0.12828456,\n",
       "         0.12673977,  0.14472754],\n",
       "       [-0.04751807,  0.22862555, -0.09746677, ..., -0.1762039 ,\n",
       "         0.00317142,  0.11314272],\n",
       "       [ 0.09782358,  0.06960673, -0.13332504, ...,  0.15385666,\n",
       "         0.10268586,  0.19765325],\n",
       "       [ 0.14430995, -0.1746565 ,  0.1362471 , ...,  0.29951426,\n",
       "         0.17467389,  0.3252131 ]], dtype=float32)"
      ]
     },
     "execution_count": 9,
     "metadata": {},
     "output_type": "execute_result"
    }
   ],
   "source": [
    "da_title_s.embeddings"
   ]
  },
  {
   "cell_type": "code",
   "execution_count": 19,
   "id": "f52f018b-5b68-4ad2-8e6a-76537d826dd1",
   "metadata": {},
   "outputs": [],
   "source": [
    "#da_title_s.plot_embeddings()"
   ]
  },
  {
   "cell_type": "code",
   "execution_count": 17,
   "id": "71ffd197-ed0a-49a1-a780-2c4c6e201fb8",
   "metadata": {},
   "outputs": [
    {
     "data": {
      "text/html": [
       "<pre style=\"white-space:pre;overflow-x:auto;line-height:normal;font-family:Menlo,'DejaVu Sans Mono',consolas,'Courier New',monospace\"><span style=\"font-style: italic\">                                      Documents Summary                                      </span>\n",
       "                                                                                             \n",
       "  Length                            14094                                                    \n",
       "  Homogenous Documents              False                                                    \n",
       "  13995 Documents have attributes   ('id', 'parent_id', 'granularity', 'mime_type', 'text',  \n",
       "                                    'tags')                                                  \n",
       "  94 Documents have attributes      ('id', 'parent_id', 'granularity', 'tags')               \n",
       "  5 Documents have attributes       ('id', 'parent_id', 'granularity', 'mime_type', 'text',  \n",
       "                                    'tags', 'embedding')                                     \n",
       "                                                                                             \n",
       "<span style=\"font-style: italic\">                             Attributes Summary                             </span>\n",
       "                                                                            \n",
       " <span style=\"font-weight: bold\"> Attribute   </span> <span style=\"font-weight: bold\"> Data type               </span> <span style=\"font-weight: bold\"> #Unique values </span> <span style=\"font-weight: bold\"> Has empty value </span> \n",
       " ────────────────────────────────────────────────────────────────────────── \n",
       "  embedding     ('NoneType', 'ndarray')   14094            True             \n",
       "  granularity   ('int',)                  1                False            \n",
       "  id            ('str',)                  14094            False            \n",
       "  mime_type     ('str',)                  2                False            \n",
       "  parent_id     ('str',)                  14094            False            \n",
       "  tags          ('dict',)                 14094            False            \n",
       "  text          ('str',)                  3800             False            \n",
       "                                                                            \n",
       "</pre>\n"
      ],
      "text/plain": [
       "\u001b[3m                                      Documents Summary                                      \u001b[0m\n",
       "                                                                                             \n",
       "  Length                            14094                                                    \n",
       "  Homogenous Documents              False                                                    \n",
       "  13995 Documents have attributes   ('id', 'parent_id', 'granularity', 'mime_type', 'text',  \n",
       "                                    'tags')                                                  \n",
       "  94 Documents have attributes      ('id', 'parent_id', 'granularity', 'tags')               \n",
       "  5 Documents have attributes       ('id', 'parent_id', 'granularity', 'mime_type', 'text',  \n",
       "                                    'tags', 'embedding')                                     \n",
       "                                                                                             \n",
       "\u001b[3m                             Attributes Summary                             \u001b[0m\n",
       "                                                                            \n",
       " \u001b[1m \u001b[0m\u001b[1mAttribute  \u001b[0m\u001b[1m \u001b[0m \u001b[1m \u001b[0m\u001b[1mData type              \u001b[0m\u001b[1m \u001b[0m \u001b[1m \u001b[0m\u001b[1m#Unique values\u001b[0m\u001b[1m \u001b[0m \u001b[1m \u001b[0m\u001b[1mHas empty value\u001b[0m\u001b[1m \u001b[0m \n",
       " ────────────────────────────────────────────────────────────────────────── \n",
       "  embedding     ('NoneType', 'ndarray')   14094            True             \n",
       "  granularity   ('int',)                  1                False            \n",
       "  id            ('str',)                  14094            False            \n",
       "  mime_type     ('str',)                  2                False            \n",
       "  parent_id     ('str',)                  14094            False            \n",
       "  tags          ('dict',)                 14094            False            \n",
       "  text          ('str',)                  3800             False            \n",
       "                                                                            \n"
      ]
     },
     "metadata": {},
     "output_type": "display_data"
    }
   ],
   "source": [
    "da_title"
   ]
  },
  {
   "cell_type": "code",
   "execution_count": null,
   "id": "c96e43b0-192f-43b5-be1c-5dc93ce7a125",
   "metadata": {},
   "outputs": [],
   "source": []
  },
  {
   "cell_type": "code",
   "execution_count": 13,
   "id": "59c5dc4c-43ab-4cdc-98d8-7187852b5ef2",
   "metadata": {},
   "outputs": [
    {
     "ename": "ModuleNotFoundError",
     "evalue": "No module named 'pydantic'",
     "output_type": "error",
     "traceback": [
      "\u001b[0;31m---------------------------------------------------------------------------\u001b[0m",
      "\u001b[0;31mModuleNotFoundError\u001b[0m                       Traceback (most recent call last)",
      "Input \u001b[0;32mIn [13]\u001b[0m, in \u001b[0;36m<cell line: 1>\u001b[0;34m()\u001b[0m\n\u001b[0;32m----> 1\u001b[0m \u001b[38;5;28;01mimport\u001b[39;00m \u001b[38;5;21;01mpydantic\u001b[39;00m\n",
      "\u001b[0;31mModuleNotFoundError\u001b[0m: No module named 'pydantic'"
     ]
    }
   ],
   "source": [
    "import pydantic"
   ]
  },
  {
   "cell_type": "code",
   "execution_count": null,
   "id": "de6f96cf-bdf9-4e07-9da7-c411a95ee527",
   "metadata": {},
   "outputs": [],
   "source": []
  },
  {
   "cell_type": "code",
   "execution_count": null,
   "id": "941c31db-c7be-4d14-88ac-9949c2b85459",
   "metadata": {},
   "outputs": [],
   "source": []
  },
  {
   "cell_type": "code",
   "execution_count": 55,
   "id": "2c4054e4-852c-4471-8913-4ef5289476a4",
   "metadata": {},
   "outputs": [],
   "source": [
    "#model.encode('Aman Patel on the revisionist history essay supposedly written by Vladimir Putin in 2021 to justify the Russian invasion of Ukraine.')"
   ]
  },
  {
   "cell_type": "code",
   "execution_count": 82,
   "id": "79107b7b-be08-4890-a078-c53dbecf14a1",
   "metadata": {},
   "outputs": [
    {
     "data": {
      "text/plain": [
       "47.61904761904762"
      ]
     },
     "execution_count": 82,
     "metadata": {},
     "output_type": "execute_result"
    }
   ],
   "source": [
    "1000 / 21"
   ]
  },
  {
   "cell_type": "code",
   "execution_count": null,
   "id": "cc782555-3372-4266-b81d-84bda0cc5b74",
   "metadata": {},
   "outputs": [],
   "source": []
  },
  {
   "cell_type": "code",
   "execution_count": 37,
   "id": "7a4fb6af-04c0-4595-a584-3d5ed6a2c09e",
   "metadata": {},
   "outputs": [
    {
     "data": {
      "text/plain": [
       "'Aman Patel on the revisionist history essay supposedly written by Vladimir Putin in 2021 to justify the Russian invasion of Ukraine.'"
      ]
     },
     "execution_count": 37,
     "metadata": {},
     "output_type": "execute_result"
    }
   ],
   "source": [
    "da_descr[5].text"
   ]
  },
  {
   "cell_type": "code",
   "execution_count": 17,
   "id": "ecd8ae58-edcc-4648-b30d-a46b174877a8",
   "metadata": {},
   "outputs": [
    {
     "name": "stderr",
     "output_type": "stream",
     "text": [
      "Downloading: 100%|███████████████████████████████████████████████████████████████████████████████████████████████████████████████████████████████████████████████████████████████████████████████████████████████████████████████████████████████████████| 345/345 [00:00<00:00, 94.8kB/s]\n",
      "Downloading: 100%|███████████████████████████████████████████████████████████████████████████████████████████████████████████████████████████████████████████████████████████████████████████████████████████████████████████████████████████████████| 3.74k/3.74k [00:00<00:00, 5.88MB/s]\n",
      "Downloading: 100%|████████████████████████████████████████████████████████████████████████████████████████████████████████████████████████████████████████████████████████████████████████████████████████████████████████████████████████████████████████| 718/718 [00:00<00:00, 402kB/s]\n",
      "Downloading: 100%|███████████████████████████████████████████████████████████████████████████████████████████████████████████████████████████████████████████████████████████████████████████████████████████████████████████████████████████████████████| 122/122 [00:00<00:00, 26.2kB/s]\n",
      "Downloading: 100%|███████████████████████████████████████████████████████████████████████████████████████████████████████████████████████████████████████████████████████████████████████████████████████████████████████████████████████████████████████| 229/229 [00:00<00:00, 37.6kB/s]\n",
      "Downloading: 100%|███████████████████████████████████████████████████████████████████████████████████████████████████████████████████████████████████████████████████████████████████████████████████████████████████████████████████████████████████| 1.11G/1.11G [01:36<00:00, 11.5MB/s]\n",
      "Downloading: 100%|█████████████████████████████████████████████████████████████████████████████████████████████████████████████████████████████████████████████████████████████████████████████████████████████████████████████████████████████████████| 53.0/53.0 [00:00<00:00, 17.4kB/s]\n",
      "Downloading: 100%|███████████████████████████████████████████████████████████████████████████████████████████████████████████████████████████████████████████████████████████████████████████████████████████████████████████████████████████████████| 5.07M/5.07M [00:01<00:00, 4.61MB/s]\n",
      "Downloading: 100%|███████████████████████████████████████████████████████████████████████████████████████████████████████████████████████████████████████████████████████████████████████████████████████████████████████████████████████████████████████| 150/150 [00:00<00:00, 44.2kB/s]\n",
      "Downloading: 100%|███████████████████████████████████████████████████████████████████████████████████████████████████████████████████████████████████████████████████████████████████████████████████████████████████████████████████████████████████| 9.10M/9.10M [00:01<00:00, 5.96MB/s]\n",
      "Downloading: 100%|████████████████████████████████████████████████████████████████████████████████████████████████████████████████████████████████████████████████████████████████████████████████████████████████████████████████████████████████████████| 550/550 [00:00<00:00, 100kB/s]\n",
      "Downloading: 100%|███████████████████████████████████████████████████████████████████████████████████████████████████████████████████████████████████████████████████████████████████████████████████████████████████████████████████████████████████████| 190/190 [00:00<00:00, 25.5kB/s]\n"
     ]
    }
   ],
   "source": [
    "\n",
    "embeddings = model.encode(sentences)"
   ]
  },
  {
   "cell_type": "code",
   "execution_count": 6,
   "id": "4c127b6a-f9ca-4179-8614-c54a2830a975",
   "metadata": {},
   "outputs": [
    {
     "data": {
      "text/plain": [
       "dict_keys(['input_ids', 'attention_mask'])"
      ]
     },
     "execution_count": 6,
     "metadata": {},
     "output_type": "execute_result"
    }
   ],
   "source": [
    "encoded_input.keys()"
   ]
  },
  {
   "cell_type": "code",
   "execution_count": 9,
   "id": "736a2e61-b0b6-4bea-8fb6-56b24682e2e9",
   "metadata": {},
   "outputs": [],
   "source": [
    "output = model(**encoded_input)"
   ]
  },
  {
   "cell_type": "code",
   "execution_count": 14,
   "id": "58b92e32-9445-4664-972d-4f37c09b7b21",
   "metadata": {},
   "outputs": [
    {
     "data": {
      "text/plain": [
       "tensor([[[ 6.4861e+01,  1.6883e-02,  3.7656e+01,  ...,  2.1584e+01,\n",
       "           1.4380e+01,  1.8790e+01],\n",
       "         [ 2.7493e+01, -1.4091e+00,  6.4847e+01,  ...,  4.0234e+01,\n",
       "           1.6296e+01,  3.0925e+01],\n",
       "         [ 1.9604e+01, -1.2597e+00,  4.8981e+01,  ...,  3.5830e+01,\n",
       "           1.7145e+01,  2.7173e+01],\n",
       "         ...,\n",
       "         [ 2.2920e+01, -1.4657e+00,  5.1211e+01,  ...,  3.8495e+01,\n",
       "           1.6508e+01,  2.7687e+01],\n",
       "         [ 2.8598e+01, -1.2868e+00,  6.7706e+01,  ...,  4.4857e+01,\n",
       "           1.8004e+01,  3.5004e+01],\n",
       "         [ 4.4955e+01, -2.1554e-01,  4.9643e+01,  ...,  2.8253e+01,\n",
       "           1.6841e+01,  2.3610e+01]]], grad_fn=<AddBackward0>)"
      ]
     },
     "execution_count": 14,
     "metadata": {},
     "output_type": "execute_result"
    }
   ],
   "source": [
    "output.logits"
   ]
  },
  {
   "cell_type": "code",
   "execution_count": 30,
   "id": "aa70faea-a169-4483-bdc1-2e8aeed26596",
   "metadata": {},
   "outputs": [
    {
     "data": {
      "text/html": [
       "<pre style=\"white-space:pre;overflow-x:auto;line-height:normal;font-family:Menlo,'DejaVu Sans Mono',consolas,'Courier New',monospace\"><span style=\"font-style: italic\">                                      Documents Summary                                      </span>\n",
       "                                                                                             \n",
       "  Length                            14094                                                    \n",
       "  Homogenous Documents              False                                                    \n",
       "  14000 Documents have attributes   ('id', 'parent_id', 'granularity', 'mime_type', 'text',  \n",
       "                                    'tags')                                                  \n",
       "  94 Documents have attributes      ('id', 'parent_id', 'granularity', 'tags')               \n",
       "                                                                                             \n",
       "<span style=\"font-style: italic\">                      Attributes Summary                      </span>\n",
       "                                                              \n",
       " <span style=\"font-weight: bold\"> Attribute   </span> <span style=\"font-weight: bold\"> Data type </span> <span style=\"font-weight: bold\"> #Unique values </span> <span style=\"font-weight: bold\"> Has empty value </span> \n",
       " ──────────────────────────────────────────────────────────── \n",
       "  granularity   ('int',)    1                False            \n",
       "  id            ('str',)    14094            False            \n",
       "  mime_type     ('str',)    2                False            \n",
       "  parent_id     ('str',)    14094            False            \n",
       "  tags          ('dict',)   14094            False            \n",
       "  text          ('str',)    3800             False            \n",
       "                                                              \n",
       "</pre>\n"
      ],
      "text/plain": [
       "\u001b[3m                                      Documents Summary                                      \u001b[0m\n",
       "                                                                                             \n",
       "  Length                            14094                                                    \n",
       "  Homogenous Documents              False                                                    \n",
       "  14000 Documents have attributes   ('id', 'parent_id', 'granularity', 'mime_type', 'text',  \n",
       "                                    'tags')                                                  \n",
       "  94 Documents have attributes      ('id', 'parent_id', 'granularity', 'tags')               \n",
       "                                                                                             \n",
       "\u001b[3m                      Attributes Summary                      \u001b[0m\n",
       "                                                              \n",
       " \u001b[1m \u001b[0m\u001b[1mAttribute  \u001b[0m\u001b[1m \u001b[0m \u001b[1m \u001b[0m\u001b[1mData type\u001b[0m\u001b[1m \u001b[0m \u001b[1m \u001b[0m\u001b[1m#Unique values\u001b[0m\u001b[1m \u001b[0m \u001b[1m \u001b[0m\u001b[1mHas empty value\u001b[0m\u001b[1m \u001b[0m \n",
       " ──────────────────────────────────────────────────────────── \n",
       "  granularity   ('int',)    1                False            \n",
       "  id            ('str',)    14094            False            \n",
       "  mime_type     ('str',)    2                False            \n",
       "  parent_id     ('str',)    14094            False            \n",
       "  tags          ('dict',)   14094            False            \n",
       "  text          ('str',)    3800             False            \n",
       "                                                              \n"
      ]
     },
     "metadata": {},
     "output_type": "display_data"
    }
   ],
   "source": [
    "da_sections[\"title\"]"
   ]
  },
  {
   "cell_type": "code",
   "execution_count": null,
   "id": "dd34062a-68c6-424c-9181-138953927838",
   "metadata": {},
   "outputs": [],
   "source": []
  },
  {
   "cell_type": "code",
   "execution_count": 10,
   "id": "b59f3886-c15f-410c-b443-93c4c4996e12",
   "metadata": {},
   "outputs": [
    {
     "data": {
      "text/plain": [
       "'1031879598'"
      ]
     },
     "execution_count": 10,
     "metadata": {},
     "output_type": "execute_result"
    }
   ],
   "source": [
    "chunk.parent_id"
   ]
  },
  {
   "cell_type": "code",
   "execution_count": 11,
   "id": "961053ca-6d1e-4d6a-af7d-f01525277545",
   "metadata": {},
   "outputs": [
    {
     "data": {
      "text/plain": [
       "'1031879598'"
      ]
     },
     "execution_count": 11,
     "metadata": {},
     "output_type": "execute_result"
    }
   ],
   "source": [
    "d.id"
   ]
  },
  {
   "cell_type": "code",
   "execution_count": 18,
   "id": "eca1446c-a829-4a11-8cbc-9720f0ae97f2",
   "metadata": {},
   "outputs": [
    {
     "data": {
      "text/plain": [
       "{}"
      ]
     },
     "execution_count": 18,
     "metadata": {},
     "output_type": "execute_result"
    }
   ],
   "source": [
    "chunk.tags"
   ]
  },
  {
   "cell_type": "code",
   "execution_count": null,
   "id": "77326d77-d2c2-4ca4-987e-10c02f2e8fb7",
   "metadata": {},
   "outputs": [],
   "source": [
    "da."
   ]
  },
  {
   "cell_type": "code",
   "execution_count": 15,
   "id": "5b14ac24-7e5b-4414-818a-fed9699dfece",
   "metadata": {},
   "outputs": [],
   "source": [
    "#da[\"@c\"]"
   ]
  },
  {
   "cell_type": "code",
   "execution_count": null,
   "id": "02bf0305-6fbe-4fc3-aa4b-212c841c99bf",
   "metadata": {},
   "outputs": [],
   "source": [
    "da."
   ]
  },
  {
   "cell_type": "code",
   "execution_count": null,
   "id": "6b4523a6-cca7-4c73-a780-dd46382795c5",
   "metadata": {},
   "outputs": [],
   "source": []
  },
  {
   "cell_type": "code",
   "execution_count": null,
   "id": "7a5be8a7-eade-406b-b8b6-de935fa40b70",
   "metadata": {},
   "outputs": [],
   "source": []
  },
  {
   "cell_type": "code",
   "execution_count": null,
   "id": "5bb6008b-5774-4325-9015-4f81a77f73a8",
   "metadata": {},
   "outputs": [],
   "source": []
  },
  {
   "cell_type": "code",
   "execution_count": null,
   "id": "6463ac76-b924-49af-bcf9-9fb7276a6683",
   "metadata": {},
   "outputs": [],
   "source": []
  },
  {
   "cell_type": "code",
   "execution_count": null,
   "id": "ac5208b6-411c-4ba2-9b0f-bb410590bc7d",
   "metadata": {},
   "outputs": [],
   "source": []
  }
 ],
 "metadata": {
  "kernelspec": {
   "display_name": "Python 3 (ipykernel)",
   "language": "python",
   "name": "python3"
  },
  "language_info": {
   "codemirror_mode": {
    "name": "ipython",
    "version": 3
   },
   "file_extension": ".py",
   "mimetype": "text/x-python",
   "name": "python",
   "nbconvert_exporter": "python",
   "pygments_lexer": "ipython3",
   "version": "3.9.10"
  }
 },
 "nbformat": 4,
 "nbformat_minor": 5
}
