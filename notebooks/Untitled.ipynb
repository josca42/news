{
 "cells": [
  {
   "cell_type": "code",
   "execution_count": 1,
   "id": "79ca7e53-5428-4570-b534-d649a5111c51",
   "metadata": {},
   "outputs": [],
   "source": [
    "%load_ext autoreload\n",
    "%autoreload 2"
   ]
  },
  {
   "cell_type": "code",
   "execution_count": 1,
   "id": "859f9098-3443-449f-b492-aa9a1646b629",
   "metadata": {},
   "outputs": [],
   "source": [
    "import httpx\n",
    "import pandas as pd\n",
    "from io import BytesIO, StringIO\n",
    "from zipfile import ZipFile\n",
    "from news.data import gdelt, io\n",
    "from newsplease import NewsPlease\n",
    "from news.db.db.init_db import init_db\n",
    "from news.data import io\n",
    "from news.db import crud\n",
    "from news import config"
   ]
  },
  {
   "cell_type": "code",
   "execution_count": 2,
   "id": "4717b0ff-1db4-4d0d-bc75-769eb4093e58",
   "metadata": {},
   "outputs": [
    {
     "data": {
      "text/plain": [
       "4189"
      ]
     },
     "execution_count": 2,
     "metadata": {},
     "output_type": "execute_result"
    }
   ],
   "source": [
    "articles = crud.article.not_fetched()\n",
    "len(articles)"
   ]
  },
  {
   "cell_type": "code",
   "execution_count": 5,
   "id": "d6f24ae2-3ed4-4d56-9f7a-450c761b0d3a",
   "metadata": {},
   "outputs": [
    {
     "data": {
      "text/plain": [
       "0    4222\n",
       "1      45\n",
       "Name: retries, dtype: int64"
      ]
     },
     "execution_count": 5,
     "metadata": {},
     "output_type": "execute_result"
    }
   ],
   "source": [
    "articles[\"retries\"].value_counts()"
   ]
  },
  {
   "cell_type": "code",
   "execution_count": 173,
   "id": "e524fc11-51b1-46d8-98ba-d029752806bc",
   "metadata": {},
   "outputs": [],
   "source": [
    "import time"
   ]
  },
  {
   "cell_type": "code",
   "execution_count": null,
   "id": "0bc294db-ce7e-490d-9422-d02cc9df27cb",
   "metadata": {},
   "outputs": [],
   "source": [
    "from sql"
   ]
  },
  {
   "cell_type": "code",
   "execution_count": null,
   "id": "34fe38a3-f9c2-4df2-8930-d3ec70752cff",
   "metadata": {},
   "outputs": [],
   "source": [
    "article_obj = NewsPlease.from_url(article_url)\n",
    "article_obj.get_dict()"
   ]
  },
  {
   "cell_type": "code",
   "execution_count": 236,
   "id": "11827af4-805f-479e-af5a-79fe7d35d9a4",
   "metadata": {},
   "outputs": [],
   "source": [
    "articles = crud.article.not_fetched()\n",
    "len(articles)"
   ]
  },
  {
   "cell_type": "code",
   "execution_count": 237,
   "id": "59f8d46d-1b99-4256-8f63-ad7ad292a559",
   "metadata": {},
   "outputs": [
    {
     "data": {
      "text/plain": [
       "2713"
      ]
     },
     "execution_count": 237,
     "metadata": {},
     "output_type": "execute_result"
    }
   ],
   "source": [
    "len(articles)"
   ]
  },
  {
   "cell_type": "code",
   "execution_count": 214,
   "id": "3cd95d28-2a99-421e-921a-8a300f32c47f",
   "metadata": {},
   "outputs": [],
   "source": [
    "articles = crud.article.not_fetched()\n",
    "n1 = len(articles)\n",
    "\n",
    "time.sleep(10)\n",
    "\n",
    "articles = crud.article.not_fetched()\n",
    "n2 = len(articles)\n"
   ]
  },
  {
   "cell_type": "code",
   "execution_count": 215,
   "id": "9e31531c-5876-47b8-b161-b82630b7fe2e",
   "metadata": {},
   "outputs": [
    {
     "data": {
      "text/plain": [
       "30"
      ]
     },
     "execution_count": 215,
     "metadata": {},
     "output_type": "execute_result"
    }
   ],
   "source": [
    "(n1 - n2)# / 10"
   ]
  },
  {
   "cell_type": "code",
   "execution_count": 217,
   "id": "aa76424a-b5ff-47fa-8dbe-1bb62243019e",
   "metadata": {},
   "outputs": [
    {
     "data": {
      "text/plain": [
       "2700"
      ]
     },
     "execution_count": 217,
     "metadata": {},
     "output_type": "execute_result"
    }
   ],
   "source": [
    "(30 * 6) * 15"
   ]
  },
  {
   "cell_type": "code",
   "execution_count": 209,
   "id": "8bfd48f7-104b-4a4b-812c-4c9147f6ad01",
   "metadata": {},
   "outputs": [
    {
     "data": {
      "text/plain": [
       "17380"
      ]
     },
     "execution_count": 209,
     "metadata": {},
     "output_type": "execute_result"
    }
   ],
   "source": [
    "3993"
   ]
  },
  {
   "cell_type": "code",
   "execution_count": 221,
   "id": "71b64a57-e370-448a-9cf3-c4aad4fc5501",
   "metadata": {},
   "outputs": [
    {
     "data": {
      "text/plain": [
       "1920"
      ]
     },
     "execution_count": 221,
     "metadata": {},
     "output_type": "execute_result"
    }
   ],
   "source": [
    "(20 * 4)*24"
   ]
  },
  {
   "cell_type": "code",
   "execution_count": 227,
   "id": "2ea6e4fb-2f90-4016-9d24-201e2b7cf947",
   "metadata": {},
   "outputs": [
    {
     "data": {
      "text/plain": [
       "96.0"
      ]
     },
     "execution_count": 227,
     "metadata": {},
     "output_type": "execute_result"
    }
   ],
   "source": [
    "1.920 * 50"
   ]
  },
  {
   "cell_type": "code",
   "execution_count": null,
   "id": "70d761d9-5283-441f-8173-56856b18f68d",
   "metadata": {},
   "outputs": [],
   "source": []
  },
  {
   "cell_type": "code",
   "execution_count": null,
   "id": "c8c54651-ac49-4f2d-a3ca-42ef5d7c03a5",
   "metadata": {},
   "outputs": [],
   "source": []
  },
  {
   "cell_type": "code",
   "execution_count": 169,
   "id": "930f1e8d-28ce-4078-b005-d0bc23835abb",
   "metadata": {},
   "outputs": [
    {
     "data": {
      "text/plain": [
       "(14280, 5)"
      ]
     },
     "execution_count": 169,
     "metadata": {},
     "output_type": "execute_result"
    }
   ],
   "source": [
    "len(articles)# .shape"
   ]
  },
  {
   "cell_type": "code",
   "execution_count": 170,
   "id": "c74fcdf0-9e61-4e39-84fa-5e62f466619f",
   "metadata": {},
   "outputs": [
    {
     "data": {
      "text/plain": [
       "(14280, 5)"
      ]
     },
     "execution_count": 170,
     "metadata": {},
     "output_type": "execute_result"
    }
   ],
   "source": [
    "articles.shape"
   ]
  },
  {
   "cell_type": "code",
   "execution_count": 171,
   "id": "ba3594ee-682e-411f-9059-dbca41d16113",
   "metadata": {},
   "outputs": [
    {
     "data": {
      "text/html": [
       "<div>\n",
       "<style scoped>\n",
       "    .dataframe tbody tr th:only-of-type {\n",
       "        vertical-align: middle;\n",
       "    }\n",
       "\n",
       "    .dataframe tbody tr th {\n",
       "        vertical-align: top;\n",
       "    }\n",
       "\n",
       "    .dataframe thead th {\n",
       "        text-align: right;\n",
       "    }\n",
       "</style>\n",
       "<table border=\"1\" class=\"dataframe\">\n",
       "  <thead>\n",
       "    <tr style=\"text-align: right;\">\n",
       "      <th></th>\n",
       "      <th>id</th>\n",
       "      <th>url</th>\n",
       "      <th>downloaded</th>\n",
       "      <th>language</th>\n",
       "      <th>retries</th>\n",
       "    </tr>\n",
       "  </thead>\n",
       "  <tbody>\n",
       "    <tr>\n",
       "      <th>0</th>\n",
       "      <td>1031831791</td>\n",
       "      <td>https://scroll.in/latest/1018738/russia-expand...</td>\n",
       "      <td>False</td>\n",
       "      <td>en</td>\n",
       "      <td>2</td>\n",
       "    </tr>\n",
       "    <tr>\n",
       "      <th>1</th>\n",
       "      <td>1031831792</td>\n",
       "      <td>https://www.dailymail.co.uk/news/article-10577...</td>\n",
       "      <td>False</td>\n",
       "      <td>en</td>\n",
       "      <td>2</td>\n",
       "    </tr>\n",
       "    <tr>\n",
       "      <th>2</th>\n",
       "      <td>1031831793</td>\n",
       "      <td>https://www.dailymail.co.uk/news/article-10577...</td>\n",
       "      <td>False</td>\n",
       "      <td>en</td>\n",
       "      <td>2</td>\n",
       "    </tr>\n",
       "    <tr>\n",
       "      <th>3</th>\n",
       "      <td>1031831794</td>\n",
       "      <td>https://www.dailymail.co.uk/news/article-10577...</td>\n",
       "      <td>False</td>\n",
       "      <td>en</td>\n",
       "      <td>2</td>\n",
       "    </tr>\n",
       "    <tr>\n",
       "      <th>4</th>\n",
       "      <td>1031831795</td>\n",
       "      <td>http://www.businessghana.com/site/news/politic...</td>\n",
       "      <td>False</td>\n",
       "      <td>en</td>\n",
       "      <td>2</td>\n",
       "    </tr>\n",
       "    <tr>\n",
       "      <th>...</th>\n",
       "      <td>...</td>\n",
       "      <td>...</td>\n",
       "      <td>...</td>\n",
       "      <td>...</td>\n",
       "      <td>...</td>\n",
       "    </tr>\n",
       "    <tr>\n",
       "      <th>14275</th>\n",
       "      <td>1031846017</td>\n",
       "      <td>https://pda.kp.ru/daily/27373/4554218/</td>\n",
       "      <td>False</td>\n",
       "      <td>trans</td>\n",
       "      <td>0</td>\n",
       "    </tr>\n",
       "    <tr>\n",
       "      <th>14276</th>\n",
       "      <td>1031846018</td>\n",
       "      <td>https://pda.kp.ru/daily/27373/4554218/</td>\n",
       "      <td>False</td>\n",
       "      <td>trans</td>\n",
       "      <td>0</td>\n",
       "    </tr>\n",
       "    <tr>\n",
       "      <th>14277</th>\n",
       "      <td>1031846019</td>\n",
       "      <td>https://www.vol.at/uno-untersucht-menschenrech...</td>\n",
       "      <td>False</td>\n",
       "      <td>trans</td>\n",
       "      <td>0</td>\n",
       "    </tr>\n",
       "    <tr>\n",
       "      <th>14278</th>\n",
       "      <td>1031846020</td>\n",
       "      <td>https://www.las2orillas.co/seguridad-humana-mi...</td>\n",
       "      <td>False</td>\n",
       "      <td>trans</td>\n",
       "      <td>0</td>\n",
       "    </tr>\n",
       "    <tr>\n",
       "      <th>14279</th>\n",
       "      <td>1031846021</td>\n",
       "      <td>https://www.panchjanya.com/world/american-expl...</td>\n",
       "      <td>False</td>\n",
       "      <td>trans</td>\n",
       "      <td>0</td>\n",
       "    </tr>\n",
       "  </tbody>\n",
       "</table>\n",
       "<p>14280 rows × 5 columns</p>\n",
       "</div>"
      ],
      "text/plain": [
       "               id                                                url  \\\n",
       "0      1031831791  https://scroll.in/latest/1018738/russia-expand...   \n",
       "1      1031831792  https://www.dailymail.co.uk/news/article-10577...   \n",
       "2      1031831793  https://www.dailymail.co.uk/news/article-10577...   \n",
       "3      1031831794  https://www.dailymail.co.uk/news/article-10577...   \n",
       "4      1031831795  http://www.businessghana.com/site/news/politic...   \n",
       "...           ...                                                ...   \n",
       "14275  1031846017             https://pda.kp.ru/daily/27373/4554218/   \n",
       "14276  1031846018             https://pda.kp.ru/daily/27373/4554218/   \n",
       "14277  1031846019  https://www.vol.at/uno-untersucht-menschenrech...   \n",
       "14278  1031846020  https://www.las2orillas.co/seguridad-humana-mi...   \n",
       "14279  1031846021  https://www.panchjanya.com/world/american-expl...   \n",
       "\n",
       "       downloaded language  retries  \n",
       "0           False       en        2  \n",
       "1           False       en        2  \n",
       "2           False       en        2  \n",
       "3           False       en        2  \n",
       "4           False       en        2  \n",
       "...           ...      ...      ...  \n",
       "14275       False    trans        0  \n",
       "14276       False    trans        0  \n",
       "14277       False    trans        0  \n",
       "14278       False    trans        0  \n",
       "14279       False    trans        0  \n",
       "\n",
       "[14280 rows x 5 columns]"
      ]
     },
     "execution_count": 171,
     "metadata": {},
     "output_type": "execute_result"
    }
   ],
   "source": [
    "articles"
   ]
  },
  {
   "cell_type": "code",
   "execution_count": null,
   "id": "0432f5c1-4ec3-4ed9-a131-b5e713647806",
   "metadata": {},
   "outputs": [],
   "source": []
  },
  {
   "cell_type": "code",
   "execution_count": null,
   "id": "e524a5e7-8bcd-4e9f-ad2b-db534545c1bf",
   "metadata": {},
   "outputs": [],
   "source": []
  },
  {
   "cell_type": "code",
   "execution_count": 40,
   "id": "1d819984-b057-4fee-917e-025c2b98424b",
   "metadata": {},
   "outputs": [],
   "source": [
    "#articles"
   ]
  },
  {
   "cell_type": "code",
   "execution_count": 15,
   "id": "a2956751-f59b-46e0-b3f9-3d1582a29302",
   "metadata": {},
   "outputs": [],
   "source": [
    "articles = crud.article.not_downloaded()\n",
    "for idx, row in articles.iterrows():\n",
    "    try:\n",
    "        article_id, article_url = row[\"id\"], row[\"url\"]\n",
    "        article = NewsPlease.from_url(article_url).get_dict()\n",
    "\n",
    "        fp = config[\"articles_dir\"] / f\"{article_id}.json.lz4\"\n",
    "        io.json_writer(fp, article)\n",
    "\n",
    "        crud.article.update(dict(id=article_id, downloaded=1))\n",
    "    except:\n",
    "        retries = row[\"retries\"] +1\n",
    "        crud.article.update(dict(id=article_id, retries=retries))"
   ]
  },
  {
   "cell_type": "code",
   "execution_count": 30,
   "id": "9a3774f4-2bf2-4728-8194-956b55e92d42",
   "metadata": {},
   "outputs": [],
   "source": [
    "\n",
    "    "
   ]
  },
  {
   "cell_type": "code",
   "execution_count": 41,
   "id": "65ba0757-2178-4138-ad1b-7fb60b156664",
   "metadata": {},
   "outputs": [
    {
     "data": {
      "text/plain": [
       "0"
      ]
     },
     "execution_count": 41,
     "metadata": {},
     "output_type": "execute_result"
    }
   ],
   "source": [
    "row[\"retries\"]"
   ]
  },
  {
   "cell_type": "code",
   "execution_count": 37,
   "id": "0b326744-d5c3-4a03-930f-8a81953a928f",
   "metadata": {},
   "outputs": [
    {
     "data": {
      "text/plain": [
       "PosixPath('/mnt/articles/1031823833.json.lz4')"
      ]
     },
     "execution_count": 37,
     "metadata": {},
     "output_type": "execute_result"
    }
   ],
   "source": []
  },
  {
   "cell_type": "code",
   "execution_count": 31,
   "id": "dca53909-9ea0-4ecf-9bfe-aa3404dccfb3",
   "metadata": {},
   "outputs": [
    {
     "data": {
      "text/plain": [
       "{'authors': [],\n",
       " 'date_download': datetime.datetime(2022, 3, 4, 10, 27, 38),\n",
       " 'date_modify': None,\n",
       " 'date_publish': datetime.datetime(2022, 3, 4, 9, 41, 12),\n",
       " 'description': None,\n",
       " 'filename': 'https%3A%2F%2Fmg.co.za%2Fspecial-reports%2F2022-03-04-meetings-africa%2F.json',\n",
       " 'image_url': 'https://media.mg.co.za/wp-media/2022/03/e4870bee-article-1-ceo-of-south-african-tourism-opening-remarks-.jpg',\n",
       " 'language': 'en',\n",
       " 'localpath': None,\n",
       " 'maintext': 'Pandemic devastated tourism and meetings industry\\n“For the past two years the world has been shut down, we couldn’t meet, we couldn’t travel. We believe that the time has come for meetings to begin, for people not to relate to one another as pixels on a screen but to meet in person and to feed on one another’s energy,” said acting CEO of South African tourism Themba Khumalo at the official opening of Meetings Africa.\\nThe flagship event of the South African National Conventions Bureau was hosted at the Sandton Convention Centre; it was cancelled last year. According to the bureau, there have been over 35 events postponed since last year.\\nBefore Covid-19 the meetings, incentives, conferences and exhibitions (MICE) industry was estimated to be worth R853-billion and was projected to double to R1.6-trillion in 2030, said Deputy Minister of Tourism Fish Mahlalele.\\nA djembe player from Drum Cafe plays at Mandela Square\\nBusiness was drastically affected because there was no travel or movement, which are vital to the meetings industry. Although the tourism industry was deeply devastated by the pandemic with the introduction of lockdowns, “It was the MICE industry that was most devastated by the pandemic,” said Mahlalele. “It was devastating, but we did not sleep,” said Amanda Kotze-Nhlapo, CEO of the South African National Conventions Bureau (SANBC).\\nAfter having to cancel last year’s event, the national convention bureau went on to conduct research that would determine how they should move with this year’s meeting, given the uncertain climate at the time. The research led them to invite buyers from all over the world with an option for some of them to participate virtually, but there was a need for physical events. They went ahead because they believed that with enough preparation, they could host a meeting that would set an example that South Africa was indeed ready to welcome the world. “We are so ready, we are inviting everyone over,” added Minister of Tourism Lindiwe Sisulu in an interview.\\n“Opening trade corridors across the continent must also open pathways for intra-African tourism to thrive and vice versa,” said Sisulu in her opening remarks. “It is us, the African business events sector that has to be intentional and strategic in ensuring that we leverage this mutual benefit between trade and tourism,” she added.\\n“Resilience, industriousness, and adaptability are part of the indefatigable South African spirit. Fuelled by these qualities, and driven by an unshakable conviction that we can and must climb back to the peaks we have previously climbed with tourism in our country, we boldly announce to the world that South Africa is open and ready to welcome visitors,” said Sisulu.\\nZinhle Zama, General Manager for Strategic Events at South African Tourism, said: “When we were building towards the show, what was key for us was to ensure that we offer value to our exhibitors as well as our buyers, so when we were seeing the numbers picking up of buyers and exhibitors taking up those stands, there was great excitement.”\\nMeetings Africa is a platform where exhibitors such as hotel groups and tourism associations from across the country and continent are represented in stands, with plenty of opportunities to meet potential buyers. Exhibitors are paired with buyers, who are international visitors with an interest and the capacity to host conferences or various meetings in different fields. The South African national convention bureau is responsible for facilitating a meeting between exhibitors and buyers, and one of the ways it does this is through a diary system, where each buyer has to have at least 20 meetings in one day with the different exhibitors.\\nThere were 216 exhibitors and 161 buyers, which meant that there was enough room for buyers to sample all products and find what they are looking for, and for exhibitors to sell to enough buyers. Kotze-Nhlapo said they have confirmed about 4 000 meetings through their diary system — with a capacity of 1 000 people hosted at the Sandton Convention Centre. Some of the exhibitors included Tsogo Sun, Mauritius Tourism, Minor Hotel Group, Eastern Cape Parks and Tourism Authority and Mpumalanga Convention Bureau.\\nThe National Convention Bureau has also been working on one of their projects to recover the industry, which includes working with 27 small towns, three from each province, and has identified 50 national associations in different fields, from a bees association to engineering, science and technology. It has helped the associations identify meetings or conferences that they can host in South Africa so that they could help them put together bids to win the meetings and bring business home. This initiative started with creating a database of quality assured service — with the help of the grading council — that ensures the meetings are delivered to the best standards.\\nAlthough the industry took a hard knock, “our target market of having 21-million visitors by 2030 has not changed”, said Kotze-Nhlapo when asked if she was confident the industry could bounce back.\\nAfter Meetings Africa, the convention bureau has channels of keeping in touch to ensure it “find ways of reaching out to buyers, and understanding what their needs are so we can prepare our bids and facilities in response to their needs”.\\nOne of the popular programmes at Meetings Africa was the BONDay educational session and the Africa Business Tourism & MICE Master class, in which industries took the stage to share insights about pitching meetings and creating more business opportunities. One of the speakers was author of Business Events and director at MICE Knowledge, Dr Rob Davidson, who shared some insights from meetings in Europe.\\nIn his talk, he said: “There was a lot of attendance of students from all over South Africa; young men and women planning careers in the MICE industry. For me, that’s very heartening. It’s a reminder for me coming from Europe to South Africa for the first time in three years just what a wonderful destination this is, and even in that time, despite everything that’s been going on, new developments and wonderful venues are opening their doors, which is another jewel in your crown.”\\nLessons learnt from the pandemic\\nThe most prominent lesson learnt from the pandemic for the tourism industry is the importance of domestic travel in sustaining the industry. “Local is lekker” offers an opportunity for the tourism industry to sustain itself. “The industry needs to rely on the movement of locals as the core of its business,” explained Mahlalele. Having a robust local tourism industry also means that we have excellent pre-existing ecosystems of services and providers who will make hosting other countries over meetings and conferences much easier.\\nThe tourism industry is fragile, and the realisation of this by many in the sector was made apparent by how everyone was quick to get their hands on deck to help build back the industry. Sisulu said that she was amazed by the support she continues to receive from the industry, as many continue to find ways to improve and build back the tourism industry.\\nSafety is still a concern when it comes to South Africa’s reputation in the international market. The minister said the department of tourism is working with various other departments, including the police and tour guides, to be able to guarantee better safety for tourists. One of the ways they are thinking of doing this is introducing a safety certificate that would be expected from tour guides when hosting visitors. — Welcome Mandla Lishivha\\n——————————————————————————————————————————————————————————————–\\nThe meetings industry can revolutionise trade on the continent\\nThere was a strong sense of the continent coming together, especially in light of the intra-trade agreement, that between the 55 countries and a population of 1.6-billion, Africa has the capacity for business opportunities that could help sustain itself. Although exhibition stands in Meetings Africa were mostly showcasing South African products, there were also many from other African countries such as Mozambique, Mauritius, Botswana, Lesotho, Zimbabwe and Uganda, and there were buyers from many other countries, including India.\\nMinister of Tourism Lindiwe Sisulu meets Boipelo Tladinyani Hlubi, author of A Safari Back to Self: Backpacking Through 54 African Countries\\nThe African Continental Free Trade Area (AfCFTA) inspired many discussions about the future of the meetings industry on the continent. The trade agreement allows for vast opportunities that allow Africa to make the most of its resources, including human resources, to ease access and increase economic participation within the region. There is also a need to establish and grow alliances, associations and convention bureaus that will help create an African network for hosting meetings and conferences.\\nThe market has the potential for huge growth in Africa, said the International Congress of Conventions Associations (ICCA), which has over 350 members internationally and only 14 in Africa. There is scope for finding out how Africans are meeting and what meeting facilities they each have to offer each other and the rest of the world. Conventions are ways for various industries to get together to find solutions through what is called the knowledge economy. They function largely to help solve problems, network and generate more business.\\n“Africa can sustain itself. This has been an eye-opener for me,” said Minister of Tourism Lindiwe Sisulu on AfCFTA. Boipelo Tladinyani Hlubi, author of A Safari Back to Self: Backpacking Through 54 African Countries, said that although most of the roads she traversed during her inland trip through 54 of 55 states in Africa were in bad condition, “what stayed with me is that we have routes connecting all inland countries, routes that if improved, could benefit intra-Africa trade, which is already taking place informally and extensively on the continent”.\\nHow to bid and win meetings\\nThose wondering how to pitch meetings and conferences to host must seriously consider reaching out to the national conventions bureau. “Bring your lead to us and we can help you convert that lead by helping you bid well. We want to help you win the meeting,” said Amanda Kotze-Nhlapo, CEO of the South African National Conventions Bureau (SANBC).\\nOut of the 66 bids that SANBC submitted last year, they have already won 20 of those bids. Some of these meetings go on to 2027. These events are said to generate up to R269-million.\\n“Someone could be sitting in Atlanta studying engineering today and might not know they are coming to South Africa, but we already know, because we won the meeting. That’s why I am optimistic about this industry; we are a long-term focused market,” said Kotze-Nhlapo.\\nThe recovery plan will first focus on the recovery of the domestic and regional markets. “It is not about competition, it is about cooperation,” said Kotze-Nhalpo. The process of countries bidding against one another to host international events presents opportunities for collaborations as countries have much to learn from each, she said. “We can help build that knowledge economy on this continent.”\\nThe goal for the SANBC, which is celebrating its 10th anniversary this year, is to be able to assist provinces to have a seamless process when hosting international events and conferences. “I think that will be a real milestone for us, to get an equal spread of business to all provinces,” said Kotze-Nhlapo. The bureau has already hosted events in Phokeng in North West, Upington in Northern Cape and Gariep Dam in the Free State since the pandemic.\\nTo those looking to pitch conferences or meetings, Kotze-Nhalpo suggested: “Join various associations and be part of them to have the latest updates on the developments in your field. Sign up for relevant newsletters and databases so that you can get the right information and equip yourself with knowledge about the industry,” she adds.\\n“Don’t be afraid to pick up the phone and call to find out if they are fixed on dates. They could say no, but do ask if you have to,” said Justin Cohen, author of Pitch to Win, who emphasised the need to make pitching a two-way stream by always tuning in to what clients really want for their event before jumping to conclusions.\\nFind a way to take advantage of hybrid events. While we value physical events more, there is always value in having the option to incorporate various aspects of an event, and the combination of physical events with virtual meetings offer the best of both worlds without taking from either — and an excellent pitch should include this consideration or possibility. The hybrid model also works well as a contingency plan.\\n“Forget luxury and focus on how visitors can expect to make a difference in the area they are visiting. Since the pandemic, we know that people have lost livelihoods, and so advertising opulence can appear to be bad taste in such an environment. Emphasis corporate social responsibility and make an impact,” added Cohen.\\nTravellers know that the pandemic had an effect on the communities they are visiting and are keen to leave those communities better than they found them, with the assistance of the tour guides. So always include the meaningful impact of your event, or what your venue can offer when pitching to host a conference or meeting. — Welcome Mandla Lishivha\\n——————————————————————————————————————————————————————————————–\\nGlimmers of hope for the future of meetings\\nDespite the devastating impact of the pandemic on many businesses and livelihoods, South Africa still has a lot going on for itself when it comes to tourism offerings. Our climate makes us an excellent destination of choice for travel. “The winter period in Europe is not comfortable for Europeans themselves,” joked Fish Mahlalele, Deputy Minister of Tourism, who went on to say “we need to intensify our marketing strategy to make sure that we can better sell South Africa to the world.” This sentiment was also echoed by Justin Cohen, author of Pitch to Win, when he said, “Africa is beautiful but it doesn’t mean they will come, and so we have to pitch Africa” in his presentation during the BONDay sessions.\\nA tuba player from the Field Band Foundation welcomes the crowd at Meetings Africa\\n“The tourism industry is resilient because people will always need to travel, and luckily in South Africa, we have everything— our climate, food, our culture, history and heritage — travellers need to have a wonderful holiday,” said Manamela. The resilience of the industry lies in the fact that people will almost always want a reprieve from their everyday lives, especially given the high levels of mental health challenges that have been reported in the past few months.\\nSouth Africa is positioning itself as the number one destination for holiday and business travel. The various initiatives between South African Tourism, the South African National Conventions Bureau (SANBC) and various other tourism associations and authorities are aimed at offering tourists a place to rejuvenate mind, body and soul, and indeed our climate, food and beautiful landscapes might just grow in popularity with the right marketing plan in place. It was during the lockdown that the Kruger National Park was listed as one of the most searched-for national parks in the world on TikTok.\\nThe PCR test might be done away with soon. The minister acknowledged that PCR was cumbersome, costly and took time to deliver results . When she went to visit Spain as part of the World Tourism Organization (UNWTO) conference, she had experienced a Covid-19 scanner that could tell whether you had Covid-19 or not by the time you had passed to the other side. She said they were working closely with the Council for Scientific and Industrial Research and the Department of Health to find less cumbersome ways of testing for Covid-19 to ease the limitations of having to wait hours as one does with the PCR test, which is also costly.\\nSince the discovery of the Omicron virus, South Africa was unfairly placed on red list, which the minister says was prejudicial, because we were the first to discover the variant wasn’t only exclusive to us. The minister is confident the days of South Africa being red-listed are well behind us. “We have convinced many of those countries of this fact, and none of them would dare red-list us now.”\\nSince South African tourism discovered that local travel is the way to go, they have been on a serious mission to encourage South Africans to travel. “Explore your own country — this is how we protect jobs and sustain the industry,” said Mahlalele. “We know that South Africans travel a lot, mostly to visit family and friends and attend weddings and funerals. But we are saying that when you travel and you can afford to, take a short left and explore your own country.”\\nWhen asked what ordinary South Africans can do to help build back the industry, the minister said: “Keep South Africa safe, and be part of reducing crime. Help create a safe environment, because a good country to visit grows the economy and creates jobs. The tourism industry does not belong to a select few, it can accommodate everyone — including women and youth — and it is a vital sector to our economy. Keep our streets clean, don’t litter and be hospitable.”\\nThe Youth Development Programme is a platform that Meetings Africa established for tourism students to learn and interact with other learners and tourism industry leaders. Lerato Gengwe, a student in tourism development at the University of Johannesburg, said: “I have found the sessions very useful. They have taught me the importance and power of networking and planning”.\\nThe sessions involved putting students into groups and assigning them various tourism-related exercises that were rated with feedback by professionals in the tourism industry. One of the exercises they had to do was plan an itinerary for a leisure trip and incorporate various elements in it. Mbali Mnguni, studying ecotourism at VUT, said that she learnt about the specifics that go into planning trips, with an emphasis on eco-tourism. “When I invite people to come to experience various destinations, I have to think carefully about how I can emphasise sustainability so they know that sustainability is at the heart of the destinations I would be recommending. This session has had me thinking about ways of communicating sustainability in ways that are also fun.”\\nStands were available for small, medium and micro enterprises to showcase their products and meet buyers. The SANBC prides itself on creating opportunities for small businesses during Meetings Africa, and one of their most effective way of doing this is through the sustainability village, where small South African businesses that are BEE accredited have a chance to showcase locally produced products, most of which are recycled — promoting eco-friendly tourism while also supporting upcoming artists and entrepreneurs. Delegates were given vouchers that were redeemable for products at any of the stalls at the sustainability market.\\n——————————————————————————————————————————————————————————————–\\nThe e-visa that could radically change tourism\\nThe Department of Tourism is working on easing visa restrictions into South Africa to make travelling into the country easier by introducing an e-visa. It has already earmarked 14 countries they are working with to kick the e-visa initiative off the ground.\\nMinister of Tourism addresses delegates, audience members, buyers, sellers, conference organisers and the media at Meetings Africa.\\nIt has been years since there was talk about the e-visa, a point that was made by President Cyril Ramaphosa at the 2019 Africa’s Travel Indaba in Durban. However, Minister of Tourism Lindiwe Sisulu alluded to the fact that it might be ready within a few months. The 14 countries that have been identified are said to have similar identifying systems that will make it possible and easy to share technological infrastructure to make the e-visa a reality.\\nAt the moment, visitors applying for a South African visa are required to petition for it in person, provide biometric data and hold a passport at least a month after they depart from South Africa, and visitors from more than 100 countries must obtain a visa from one of the South African diplomatic missions in order to explore our country. However, there are still over 50 nationalities that can enter South Africa without a visa for up to 90 days, and more than 25 that can enter without a visa for up to 30 days,\\n“We are leapfrogging into the future,” said the minister, after pointing out how time-consuming and costly the visa process is. The project is starting with 14 countries — which includes Ethiopia, China, Mexico, Kenya, Egypt, Uganda and others — with the long-term goal of inviting more with time. If this is done right, South Africa might lead a revolutionary wave of changes that help simplify visa applications throughout the world for travellers.\\nAttendees listen closely to a session conveying insights about the tourism industry in Africa\\nThe e-visa and simplifying of travel, especially between African countries, “will benefit SMMEs as it allows freedom of movement of people and goods as well as provide market access”, according to Desire Loumou, African Continental Free Trade Agreement (AfCFTA) Trade-in-Services Officer. “Most countries still require visas to enter and depart. The African Continental Free Trade Agreement is addressing this. We have already developed the African Union passport that allows visa-free travel for Africans across the continent,” she added.\\nThe new visa system is entirely online, which reduces waiting times and the costs involved with travelling to a South African embassy to collect the paper visa. This also has the benefit of less exposure to Covid-19. The new visa promises border checks that are quicker and more secure. At the moment, the new e-visa is planned for short-term tourists and business trips. It allows for flexibility as the quick turnaround times make it ideal for last-minute trips. — Welcome Mandla Lishivha',\n",
       " 'source_domain': 'mg.co.za',\n",
       " 'text': None,\n",
       " 'title': 'Meetings Africa',\n",
       " 'title_page': None,\n",
       " 'title_rss': None,\n",
       " 'url': 'https://mg.co.za/special-reports/2022-03-04-meetings-africa/'}"
      ]
     },
     "execution_count": 31,
     "metadata": {},
     "output_type": "execute_result"
    }
   ],
   "source": [
    "article"
   ]
  },
  {
   "cell_type": "code",
   "execution_count": 29,
   "id": "741a32bf-04bb-4c4f-94cf-4425657000a4",
   "metadata": {},
   "outputs": [
    {
     "data": {
      "text/plain": [
       "<NewsArticle.NewsArticle at 0x7f5dfc75feb0>"
      ]
     },
     "execution_count": 29,
     "metadata": {},
     "output_type": "execute_result"
    }
   ],
   "source": [
    "NewsPlease.from_url(article_url)"
   ]
  },
  {
   "cell_type": "code",
   "execution_count": 20,
   "id": "ac5ebcbf-70c6-4cd6-aa69-7b7a6adeb806",
   "metadata": {},
   "outputs": [
    {
     "data": {
      "text/plain": [
       "{'authors': [],\n",
       " 'date_download': datetime.datetime(2022, 3, 4, 10, 24, 31),\n",
       " 'date_modify': None,\n",
       " 'date_publish': datetime.datetime(2022, 3, 4, 9, 41, 12),\n",
       " 'description': None,\n",
       " 'filename': 'https%3A%2F%2Fmg.co.za%2Fspecial-reports%2F2022-03-04-meetings-africa%2F.json',\n",
       " 'image_url': 'https://media.mg.co.za/wp-media/2022/03/e4870bee-article-1-ceo-of-south-african-tourism-opening-remarks-.jpg',\n",
       " 'language': 'en',\n",
       " 'localpath': None,\n",
       " 'maintext': 'Pandemic devastated tourism and meetings industry\\n“For the past two years the world has been shut down, we couldn’t meet, we couldn’t travel. We believe that the time has come for meetings to begin, for people not to relate to one another as pixels on a screen but to meet in person and to feed on one another’s energy,” said acting CEO of South African tourism Themba Khumalo at the official opening of Meetings Africa.\\nThe flagship event of the South African National Conventions Bureau was hosted at the Sandton Convention Centre; it was cancelled last year. According to the bureau, there have been over 35 events postponed since last year.\\nBefore Covid-19 the meetings, incentives, conferences and exhibitions (MICE) industry was estimated to be worth R853-billion and was projected to double to R1.6-trillion in 2030, said Deputy Minister of Tourism Fish Mahlalele.\\nA djembe player from Drum Cafe plays at Mandela Square\\nBusiness was drastically affected because there was no travel or movement, which are vital to the meetings industry. Although the tourism industry was deeply devastated by the pandemic with the introduction of lockdowns, “It was the MICE industry that was most devastated by the pandemic,” said Mahlalele. “It was devastating, but we did not sleep,” said Amanda Kotze-Nhlapo, CEO of the South African National Conventions Bureau (SANBC).\\nAfter having to cancel last year’s event, the national convention bureau went on to conduct research that would determine how they should move with this year’s meeting, given the uncertain climate at the time. The research led them to invite buyers from all over the world with an option for some of them to participate virtually, but there was a need for physical events. They went ahead because they believed that with enough preparation, they could host a meeting that would set an example that South Africa was indeed ready to welcome the world. “We are so ready, we are inviting everyone over,” added Minister of Tourism Lindiwe Sisulu in an interview.\\n“Opening trade corridors across the continent must also open pathways for intra-African tourism to thrive and vice versa,” said Sisulu in her opening remarks. “It is us, the African business events sector that has to be intentional and strategic in ensuring that we leverage this mutual benefit between trade and tourism,” she added.\\n“Resilience, industriousness, and adaptability are part of the indefatigable South African spirit. Fuelled by these qualities, and driven by an unshakable conviction that we can and must climb back to the peaks we have previously climbed with tourism in our country, we boldly announce to the world that South Africa is open and ready to welcome visitors,” said Sisulu.\\nZinhle Zama, General Manager for Strategic Events at South African Tourism, said: “When we were building towards the show, what was key for us was to ensure that we offer value to our exhibitors as well as our buyers, so when we were seeing the numbers picking up of buyers and exhibitors taking up those stands, there was great excitement.”\\nMeetings Africa is a platform where exhibitors such as hotel groups and tourism associations from across the country and continent are represented in stands, with plenty of opportunities to meet potential buyers. Exhibitors are paired with buyers, who are international visitors with an interest and the capacity to host conferences or various meetings in different fields. The South African national convention bureau is responsible for facilitating a meeting between exhibitors and buyers, and one of the ways it does this is through a diary system, where each buyer has to have at least 20 meetings in one day with the different exhibitors.\\nThere were 216 exhibitors and 161 buyers, which meant that there was enough room for buyers to sample all products and find what they are looking for, and for exhibitors to sell to enough buyers. Kotze-Nhlapo said they have confirmed about 4 000 meetings through their diary system — with a capacity of 1 000 people hosted at the Sandton Convention Centre. Some of the exhibitors included Tsogo Sun, Mauritius Tourism, Minor Hotel Group, Eastern Cape Parks and Tourism Authority and Mpumalanga Convention Bureau.\\nThe National Convention Bureau has also been working on one of their projects to recover the industry, which includes working with 27 small towns, three from each province, and has identified 50 national associations in different fields, from a bees association to engineering, science and technology. It has helped the associations identify meetings or conferences that they can host in South Africa so that they could help them put together bids to win the meetings and bring business home. This initiative started with creating a database of quality assured service — with the help of the grading council — that ensures the meetings are delivered to the best standards.\\nAlthough the industry took a hard knock, “our target market of having 21-million visitors by 2030 has not changed”, said Kotze-Nhlapo when asked if she was confident the industry could bounce back.\\nAfter Meetings Africa, the convention bureau has channels of keeping in touch to ensure it “find ways of reaching out to buyers, and understanding what their needs are so we can prepare our bids and facilities in response to their needs”.\\nOne of the popular programmes at Meetings Africa was the BONDay educational session and the Africa Business Tourism & MICE Master class, in which industries took the stage to share insights about pitching meetings and creating more business opportunities. One of the speakers was author of Business Events and director at MICE Knowledge, Dr Rob Davidson, who shared some insights from meetings in Europe.\\nIn his talk, he said: “There was a lot of attendance of students from all over South Africa; young men and women planning careers in the MICE industry. For me, that’s very heartening. It’s a reminder for me coming from Europe to South Africa for the first time in three years just what a wonderful destination this is, and even in that time, despite everything that’s been going on, new developments and wonderful venues are opening their doors, which is another jewel in your crown.”\\nLessons learnt from the pandemic\\nThe most prominent lesson learnt from the pandemic for the tourism industry is the importance of domestic travel in sustaining the industry. “Local is lekker” offers an opportunity for the tourism industry to sustain itself. “The industry needs to rely on the movement of locals as the core of its business,” explained Mahlalele. Having a robust local tourism industry also means that we have excellent pre-existing ecosystems of services and providers who will make hosting other countries over meetings and conferences much easier.\\nThe tourism industry is fragile, and the realisation of this by many in the sector was made apparent by how everyone was quick to get their hands on deck to help build back the industry. Sisulu said that she was amazed by the support she continues to receive from the industry, as many continue to find ways to improve and build back the tourism industry.\\nSafety is still a concern when it comes to South Africa’s reputation in the international market. The minister said the department of tourism is working with various other departments, including the police and tour guides, to be able to guarantee better safety for tourists. One of the ways they are thinking of doing this is introducing a safety certificate that would be expected from tour guides when hosting visitors. — Welcome Mandla Lishivha\\n——————————————————————————————————————————————————————————————–\\nThe meetings industry can revolutionise trade on the continent\\nThere was a strong sense of the continent coming together, especially in light of the intra-trade agreement, that between the 55 countries and a population of 1.6-billion, Africa has the capacity for business opportunities that could help sustain itself. Although exhibition stands in Meetings Africa were mostly showcasing South African products, there were also many from other African countries such as Mozambique, Mauritius, Botswana, Lesotho, Zimbabwe and Uganda, and there were buyers from many other countries, including India.\\nMinister of Tourism Lindiwe Sisulu meets Boipelo Tladinyani Hlubi, author of A Safari Back to Self: Backpacking Through 54 African Countries\\nThe African Continental Free Trade Area (AfCFTA) inspired many discussions about the future of the meetings industry on the continent. The trade agreement allows for vast opportunities that allow Africa to make the most of its resources, including human resources, to ease access and increase economic participation within the region. There is also a need to establish and grow alliances, associations and convention bureaus that will help create an African network for hosting meetings and conferences.\\nThe market has the potential for huge growth in Africa, said the International Congress of Conventions Associations (ICCA), which has over 350 members internationally and only 14 in Africa. There is scope for finding out how Africans are meeting and what meeting facilities they each have to offer each other and the rest of the world. Conventions are ways for various industries to get together to find solutions through what is called the knowledge economy. They function largely to help solve problems, network and generate more business.\\n“Africa can sustain itself. This has been an eye-opener for me,” said Minister of Tourism Lindiwe Sisulu on AfCFTA. Boipelo Tladinyani Hlubi, author of A Safari Back to Self: Backpacking Through 54 African Countries, said that although most of the roads she traversed during her inland trip through 54 of 55 states in Africa were in bad condition, “what stayed with me is that we have routes connecting all inland countries, routes that if improved, could benefit intra-Africa trade, which is already taking place informally and extensively on the continent”.\\nHow to bid and win meetings\\nThose wondering how to pitch meetings and conferences to host must seriously consider reaching out to the national conventions bureau. “Bring your lead to us and we can help you convert that lead by helping you bid well. We want to help you win the meeting,” said Amanda Kotze-Nhlapo, CEO of the South African National Conventions Bureau (SANBC).\\nOut of the 66 bids that SANBC submitted last year, they have already won 20 of those bids. Some of these meetings go on to 2027. These events are said to generate up to R269-million.\\n“Someone could be sitting in Atlanta studying engineering today and might not know they are coming to South Africa, but we already know, because we won the meeting. That’s why I am optimistic about this industry; we are a long-term focused market,” said Kotze-Nhlapo.\\nThe recovery plan will first focus on the recovery of the domestic and regional markets. “It is not about competition, it is about cooperation,” said Kotze-Nhalpo. The process of countries bidding against one another to host international events presents opportunities for collaborations as countries have much to learn from each, she said. “We can help build that knowledge economy on this continent.”\\nThe goal for the SANBC, which is celebrating its 10th anniversary this year, is to be able to assist provinces to have a seamless process when hosting international events and conferences. “I think that will be a real milestone for us, to get an equal spread of business to all provinces,” said Kotze-Nhlapo. The bureau has already hosted events in Phokeng in North West, Upington in Northern Cape and Gariep Dam in the Free State since the pandemic.\\nTo those looking to pitch conferences or meetings, Kotze-Nhalpo suggested: “Join various associations and be part of them to have the latest updates on the developments in your field. Sign up for relevant newsletters and databases so that you can get the right information and equip yourself with knowledge about the industry,” she adds.\\n“Don’t be afraid to pick up the phone and call to find out if they are fixed on dates. They could say no, but do ask if you have to,” said Justin Cohen, author of Pitch to Win, who emphasised the need to make pitching a two-way stream by always tuning in to what clients really want for their event before jumping to conclusions.\\nFind a way to take advantage of hybrid events. While we value physical events more, there is always value in having the option to incorporate various aspects of an event, and the combination of physical events with virtual meetings offer the best of both worlds without taking from either — and an excellent pitch should include this consideration or possibility. The hybrid model also works well as a contingency plan.\\n“Forget luxury and focus on how visitors can expect to make a difference in the area they are visiting. Since the pandemic, we know that people have lost livelihoods, and so advertising opulence can appear to be bad taste in such an environment. Emphasis corporate social responsibility and make an impact,” added Cohen.\\nTravellers know that the pandemic had an effect on the communities they are visiting and are keen to leave those communities better than they found them, with the assistance of the tour guides. So always include the meaningful impact of your event, or what your venue can offer when pitching to host a conference or meeting. — Welcome Mandla Lishivha\\n——————————————————————————————————————————————————————————————–\\nGlimmers of hope for the future of meetings\\nDespite the devastating impact of the pandemic on many businesses and livelihoods, South Africa still has a lot going on for itself when it comes to tourism offerings. Our climate makes us an excellent destination of choice for travel. “The winter period in Europe is not comfortable for Europeans themselves,” joked Fish Mahlalele, Deputy Minister of Tourism, who went on to say “we need to intensify our marketing strategy to make sure that we can better sell South Africa to the world.” This sentiment was also echoed by Justin Cohen, author of Pitch to Win, when he said, “Africa is beautiful but it doesn’t mean they will come, and so we have to pitch Africa” in his presentation during the BONDay sessions.\\nA tuba player from the Field Band Foundation welcomes the crowd at Meetings Africa\\n“The tourism industry is resilient because people will always need to travel, and luckily in South Africa, we have everything— our climate, food, our culture, history and heritage — travellers need to have a wonderful holiday,” said Manamela. The resilience of the industry lies in the fact that people will almost always want a reprieve from their everyday lives, especially given the high levels of mental health challenges that have been reported in the past few months.\\nSouth Africa is positioning itself as the number one destination for holiday and business travel. The various initiatives between South African Tourism, the South African National Conventions Bureau (SANBC) and various other tourism associations and authorities are aimed at offering tourists a place to rejuvenate mind, body and soul, and indeed our climate, food and beautiful landscapes might just grow in popularity with the right marketing plan in place. It was during the lockdown that the Kruger National Park was listed as one of the most searched-for national parks in the world on TikTok.\\nThe PCR test might be done away with soon. The minister acknowledged that PCR was cumbersome, costly and took time to deliver results . When she went to visit Spain as part of the World Tourism Organization (UNWTO) conference, she had experienced a Covid-19 scanner that could tell whether you had Covid-19 or not by the time you had passed to the other side. She said they were working closely with the Council for Scientific and Industrial Research and the Department of Health to find less cumbersome ways of testing for Covid-19 to ease the limitations of having to wait hours as one does with the PCR test, which is also costly.\\nSince the discovery of the Omicron virus, South Africa was unfairly placed on red list, which the minister says was prejudicial, because we were the first to discover the variant wasn’t only exclusive to us. The minister is confident the days of South Africa being red-listed are well behind us. “We have convinced many of those countries of this fact, and none of them would dare red-list us now.”\\nSince South African tourism discovered that local travel is the way to go, they have been on a serious mission to encourage South Africans to travel. “Explore your own country — this is how we protect jobs and sustain the industry,” said Mahlalele. “We know that South Africans travel a lot, mostly to visit family and friends and attend weddings and funerals. But we are saying that when you travel and you can afford to, take a short left and explore your own country.”\\nWhen asked what ordinary South Africans can do to help build back the industry, the minister said: “Keep South Africa safe, and be part of reducing crime. Help create a safe environment, because a good country to visit grows the economy and creates jobs. The tourism industry does not belong to a select few, it can accommodate everyone — including women and youth — and it is a vital sector to our economy. Keep our streets clean, don’t litter and be hospitable.”\\nThe Youth Development Programme is a platform that Meetings Africa established for tourism students to learn and interact with other learners and tourism industry leaders. Lerato Gengwe, a student in tourism development at the University of Johannesburg, said: “I have found the sessions very useful. They have taught me the importance and power of networking and planning”.\\nThe sessions involved putting students into groups and assigning them various tourism-related exercises that were rated with feedback by professionals in the tourism industry. One of the exercises they had to do was plan an itinerary for a leisure trip and incorporate various elements in it. Mbali Mnguni, studying ecotourism at VUT, said that she learnt about the specifics that go into planning trips, with an emphasis on eco-tourism. “When I invite people to come to experience various destinations, I have to think carefully about how I can emphasise sustainability so they know that sustainability is at the heart of the destinations I would be recommending. This session has had me thinking about ways of communicating sustainability in ways that are also fun.”\\nStands were available for small, medium and micro enterprises to showcase their products and meet buyers. The SANBC prides itself on creating opportunities for small businesses during Meetings Africa, and one of their most effective way of doing this is through the sustainability village, where small South African businesses that are BEE accredited have a chance to showcase locally produced products, most of which are recycled — promoting eco-friendly tourism while also supporting upcoming artists and entrepreneurs. Delegates were given vouchers that were redeemable for products at any of the stalls at the sustainability market.\\n——————————————————————————————————————————————————————————————–\\nThe e-visa that could radically change tourism\\nThe Department of Tourism is working on easing visa restrictions into South Africa to make travelling into the country easier by introducing an e-visa. It has already earmarked 14 countries they are working with to kick the e-visa initiative off the ground.\\nMinister of Tourism addresses delegates, audience members, buyers, sellers, conference organisers and the media at Meetings Africa.\\nIt has been years since there was talk about the e-visa, a point that was made by President Cyril Ramaphosa at the 2019 Africa’s Travel Indaba in Durban. However, Minister of Tourism Lindiwe Sisulu alluded to the fact that it might be ready within a few months. The 14 countries that have been identified are said to have similar identifying systems that will make it possible and easy to share technological infrastructure to make the e-visa a reality.\\nAt the moment, visitors applying for a South African visa are required to petition for it in person, provide biometric data and hold a passport at least a month after they depart from South Africa, and visitors from more than 100 countries must obtain a visa from one of the South African diplomatic missions in order to explore our country. However, there are still over 50 nationalities that can enter South Africa without a visa for up to 90 days, and more than 25 that can enter without a visa for up to 30 days,\\n“We are leapfrogging into the future,” said the minister, after pointing out how time-consuming and costly the visa process is. The project is starting with 14 countries — which includes Ethiopia, China, Mexico, Kenya, Egypt, Uganda and others — with the long-term goal of inviting more with time. If this is done right, South Africa might lead a revolutionary wave of changes that help simplify visa applications throughout the world for travellers.\\nAttendees listen closely to a session conveying insights about the tourism industry in Africa\\nThe e-visa and simplifying of travel, especially between African countries, “will benefit SMMEs as it allows freedom of movement of people and goods as well as provide market access”, according to Desire Loumou, African Continental Free Trade Agreement (AfCFTA) Trade-in-Services Officer. “Most countries still require visas to enter and depart. The African Continental Free Trade Agreement is addressing this. We have already developed the African Union passport that allows visa-free travel for Africans across the continent,” she added.\\nThe new visa system is entirely online, which reduces waiting times and the costs involved with travelling to a South African embassy to collect the paper visa. This also has the benefit of less exposure to Covid-19. The new visa promises border checks that are quicker and more secure. At the moment, the new e-visa is planned for short-term tourists and business trips. It allows for flexibility as the quick turnaround times make it ideal for last-minute trips. — Welcome Mandla Lishivha',\n",
       " 'source_domain': 'mg.co.za',\n",
       " 'text': None,\n",
       " 'title': 'Meetings Africa',\n",
       " 'title_page': None,\n",
       " 'title_rss': None,\n",
       " 'url': 'https://mg.co.za/special-reports/2022-03-04-meetings-africa/'}"
      ]
     },
     "execution_count": 20,
     "metadata": {},
     "output_type": "execute_result"
    }
   ],
   "source": [
    "article_obj.get_dict()"
   ]
  },
  {
   "cell_type": "code",
   "execution_count": null,
   "id": "47394a38-0760-4727-8e06-136e209bd098",
   "metadata": {},
   "outputs": [],
   "source": []
  },
  {
   "cell_type": "code",
   "execution_count": null,
   "id": "2dd61ab7-378d-4e21-8aab-b3e1fb2481d7",
   "metadata": {},
   "outputs": [],
   "source": []
  },
  {
   "cell_type": "code",
   "execution_count": 5,
   "id": "df6ce7b9-aeea-4ef4-b57c-ba932b4ca1ae",
   "metadata": {},
   "outputs": [],
   "source": [
    "from news.db import crud"
   ]
  },
  {
   "cell_type": "code",
   "execution_count": 10,
   "id": "6ab60f7a-10a3-4c02-a896-d69cd690de3b",
   "metadata": {},
   "outputs": [],
   "source": [
    "from news.db.db.session import engine"
   ]
  },
  {
   "cell_type": "code",
   "execution_count": 3,
   "id": "7fca08f9-b552-424f-9da3-a4ad67190538",
   "metadata": {},
   "outputs": [],
   "source": [
    "init_db()"
   ]
  },
  {
   "cell_type": "code",
   "execution_count": null,
   "id": "f79cd860-8fdd-464d-bdee-670726e93245",
   "metadata": {},
   "outputs": [],
   "source": []
  },
  {
   "cell_type": "code",
   "execution_count": 3,
   "id": "af874430-27aa-4b38-95b3-8e2446a181ff",
   "metadata": {},
   "outputs": [],
   "source": [
    "from news import config"
   ]
  },
  {
   "cell_type": "code",
   "execution_count": 12,
   "id": "5290ec8b-5d13-4a64-81cb-f0ec6c243841",
   "metadata": {},
   "outputs": [
    {
     "data": {
      "text/plain": [
       "PosixPath('/root/news/data/db/sqlite_articles.db')"
      ]
     },
     "execution_count": 14,
     "metadata": {},
     "output_type": "execute_result"
    }
   ],
   "source": [
    "config[\"sqlite_db_fp\"]"
   ]
  },
  {
   "cell_type": "code",
   "execution_count": 6,
   "id": "26816e2c-2afb-4cd7-9e65-40c53e8948b5",
   "metadata": {},
   "outputs": [],
   "source": [
    "url = get_latest_gdelt_events()"
   ]
  },
  {
   "cell_type": "code",
   "execution_count": 16,
   "id": "2f17deea-7469-4a5b-89ad-d4470a01439e",
   "metadata": {},
   "outputs": [],
   "source": [
    "df = gdelt_events_url2df(url)"
   ]
  },
  {
   "cell_type": "code",
   "execution_count": 17,
   "id": "0169bb74-8212-4497-9cbf-555fe8e30543",
   "metadata": {},
   "outputs": [
    {
     "data": {
      "text/html": [
       "<div>\n",
       "<style scoped>\n",
       "    .dataframe tbody tr th:only-of-type {\n",
       "        vertical-align: middle;\n",
       "    }\n",
       "\n",
       "    .dataframe tbody tr th {\n",
       "        vertical-align: top;\n",
       "    }\n",
       "\n",
       "    .dataframe thead th {\n",
       "        text-align: right;\n",
       "    }\n",
       "</style>\n",
       "<table border=\"1\" class=\"dataframe\">\n",
       "  <thead>\n",
       "    <tr style=\"text-align: right;\">\n",
       "      <th></th>\n",
       "      <th>GLOBALEVENTID</th>\n",
       "      <th>SQLDATE</th>\n",
       "      <th>MonthYear</th>\n",
       "      <th>Year</th>\n",
       "      <th>FractionDate</th>\n",
       "      <th>Actor1Code</th>\n",
       "      <th>Actor1Name</th>\n",
       "      <th>Actor1CountryCode</th>\n",
       "      <th>Actor1KnownGroupCode</th>\n",
       "      <th>Actor1EthnicCode</th>\n",
       "      <th>...</th>\n",
       "      <th>ActionGeo_Type</th>\n",
       "      <th>ActionGeo_FullName</th>\n",
       "      <th>ActionGeo_CountryCode</th>\n",
       "      <th>ActionGeo_ADM1Code</th>\n",
       "      <th>ActionGeo_ADM2Code</th>\n",
       "      <th>ActionGeo_Lat</th>\n",
       "      <th>ActionGeo_Long</th>\n",
       "      <th>ActionGeo_FeatureID</th>\n",
       "      <th>DATEADDED</th>\n",
       "      <th>SOURCEURL</th>\n",
       "    </tr>\n",
       "  </thead>\n",
       "  <tbody>\n",
       "    <tr>\n",
       "      <th>0</th>\n",
       "      <td>1031803424</td>\n",
       "      <td>20210304</td>\n",
       "      <td>202103</td>\n",
       "      <td>2021</td>\n",
       "      <td>2021.1753</td>\n",
       "      <td>COP</td>\n",
       "      <td>POLICE</td>\n",
       "      <td>NaN</td>\n",
       "      <td>NaN</td>\n",
       "      <td>NaN</td>\n",
       "      <td>...</td>\n",
       "      <td>2</td>\n",
       "      <td>Ohio, United States</td>\n",
       "      <td>US</td>\n",
       "      <td>USOH</td>\n",
       "      <td>NaN</td>\n",
       "      <td>40.3736</td>\n",
       "      <td>-82.7755</td>\n",
       "      <td>OH</td>\n",
       "      <td>20220304074500</td>\n",
       "      <td>http://www.reviewonline.com/wire/?category=536...</td>\n",
       "    </tr>\n",
       "    <tr>\n",
       "      <th>1</th>\n",
       "      <td>1031803425</td>\n",
       "      <td>20220202</td>\n",
       "      <td>202202</td>\n",
       "      <td>2022</td>\n",
       "      <td>2022.0877</td>\n",
       "      <td>BUS</td>\n",
       "      <td>COMPANY</td>\n",
       "      <td>NaN</td>\n",
       "      <td>NaN</td>\n",
       "      <td>NaN</td>\n",
       "      <td>...</td>\n",
       "      <td>1</td>\n",
       "      <td>Taiwan</td>\n",
       "      <td>TW</td>\n",
       "      <td>TW</td>\n",
       "      <td>NaN</td>\n",
       "      <td>24.0000</td>\n",
       "      <td>121.0000</td>\n",
       "      <td>TW</td>\n",
       "      <td>20220304074500</td>\n",
       "      <td>https://www.deccanchronicle.com/technology/mob...</td>\n",
       "    </tr>\n",
       "    <tr>\n",
       "      <th>2</th>\n",
       "      <td>1031803426</td>\n",
       "      <td>20220202</td>\n",
       "      <td>202202</td>\n",
       "      <td>2022</td>\n",
       "      <td>2022.0877</td>\n",
       "      <td>CHN</td>\n",
       "      <td>BEIJING</td>\n",
       "      <td>CHN</td>\n",
       "      <td>NaN</td>\n",
       "      <td>NaN</td>\n",
       "      <td>...</td>\n",
       "      <td>4</td>\n",
       "      <td>Beijing, Beijing, China</td>\n",
       "      <td>CH</td>\n",
       "      <td>CH22</td>\n",
       "      <td>13001</td>\n",
       "      <td>39.9289</td>\n",
       "      <td>116.3880</td>\n",
       "      <td>-1898541</td>\n",
       "      <td>20220304074500</td>\n",
       "      <td>https://www.philstar.com/happens/823</td>\n",
       "    </tr>\n",
       "    <tr>\n",
       "      <th>3</th>\n",
       "      <td>1031803427</td>\n",
       "      <td>20220202</td>\n",
       "      <td>202202</td>\n",
       "      <td>2022</td>\n",
       "      <td>2022.0877</td>\n",
       "      <td>CHN</td>\n",
       "      <td>BEIJING</td>\n",
       "      <td>CHN</td>\n",
       "      <td>NaN</td>\n",
       "      <td>NaN</td>\n",
       "      <td>...</td>\n",
       "      <td>4</td>\n",
       "      <td>Shandong, Jiangsu, China</td>\n",
       "      <td>CH</td>\n",
       "      <td>CH04</td>\n",
       "      <td>13151</td>\n",
       "      <td>32.9793</td>\n",
       "      <td>118.8520</td>\n",
       "      <td>11415469</td>\n",
       "      <td>20220304074500</td>\n",
       "      <td>https://www.philstar.com/happens/823</td>\n",
       "    </tr>\n",
       "    <tr>\n",
       "      <th>4</th>\n",
       "      <td>1031803428</td>\n",
       "      <td>20220202</td>\n",
       "      <td>202202</td>\n",
       "      <td>2022</td>\n",
       "      <td>2022.0877</td>\n",
       "      <td>CHN</td>\n",
       "      <td>BEIJING</td>\n",
       "      <td>CHN</td>\n",
       "      <td>NaN</td>\n",
       "      <td>NaN</td>\n",
       "      <td>...</td>\n",
       "      <td>3</td>\n",
       "      <td>Washington, District of Columbia, United States</td>\n",
       "      <td>US</td>\n",
       "      <td>USDC</td>\n",
       "      <td>DC001</td>\n",
       "      <td>38.8951</td>\n",
       "      <td>-77.0364</td>\n",
       "      <td>531871</td>\n",
       "      <td>20220304074500</td>\n",
       "      <td>https://www.philstar.com/happens/823</td>\n",
       "    </tr>\n",
       "    <tr>\n",
       "      <th>...</th>\n",
       "      <td>...</td>\n",
       "      <td>...</td>\n",
       "      <td>...</td>\n",
       "      <td>...</td>\n",
       "      <td>...</td>\n",
       "      <td>...</td>\n",
       "      <td>...</td>\n",
       "      <td>...</td>\n",
       "      <td>...</td>\n",
       "      <td>...</td>\n",
       "      <td>...</td>\n",
       "      <td>...</td>\n",
       "      <td>...</td>\n",
       "      <td>...</td>\n",
       "      <td>...</td>\n",
       "      <td>...</td>\n",
       "      <td>...</td>\n",
       "      <td>...</td>\n",
       "      <td>...</td>\n",
       "      <td>...</td>\n",
       "      <td>...</td>\n",
       "    </tr>\n",
       "    <tr>\n",
       "      <th>1152</th>\n",
       "      <td>1031804576</td>\n",
       "      <td>20220304</td>\n",
       "      <td>202203</td>\n",
       "      <td>2022</td>\n",
       "      <td>2022.1753</td>\n",
       "      <td>sco</td>\n",
       "      <td>SCOTTISH</td>\n",
       "      <td>NaN</td>\n",
       "      <td>NaN</td>\n",
       "      <td>sco</td>\n",
       "      <td>...</td>\n",
       "      <td>1</td>\n",
       "      <td>United Kingdom</td>\n",
       "      <td>UK</td>\n",
       "      <td>UK</td>\n",
       "      <td>NaN</td>\n",
       "      <td>54.0000</td>\n",
       "      <td>-4.0000</td>\n",
       "      <td>UK</td>\n",
       "      <td>20220304074500</td>\n",
       "      <td>https://www.scotsman.com/business/heriot-watt-...</td>\n",
       "    </tr>\n",
       "    <tr>\n",
       "      <th>1153</th>\n",
       "      <td>1031804577</td>\n",
       "      <td>20220304</td>\n",
       "      <td>202203</td>\n",
       "      <td>2022</td>\n",
       "      <td>2022.1753</td>\n",
       "      <td>sco</td>\n",
       "      <td>SCOTTISH</td>\n",
       "      <td>NaN</td>\n",
       "      <td>NaN</td>\n",
       "      <td>sco</td>\n",
       "      <td>...</td>\n",
       "      <td>4</td>\n",
       "      <td>Glasgow, Glasgow City, United Kingdom</td>\n",
       "      <td>UK</td>\n",
       "      <td>UKV2</td>\n",
       "      <td>40176</td>\n",
       "      <td>55.8333</td>\n",
       "      <td>-4.2500</td>\n",
       "      <td>-2597039</td>\n",
       "      <td>20220304074500</td>\n",
       "      <td>https://www.pressandjournal.co.uk/fp/politics/...</td>\n",
       "    </tr>\n",
       "    <tr>\n",
       "      <th>1154</th>\n",
       "      <td>1031804578</td>\n",
       "      <td>20220304</td>\n",
       "      <td>202203</td>\n",
       "      <td>2022</td>\n",
       "      <td>2022.1753</td>\n",
       "      <td>sco</td>\n",
       "      <td>SCOTTISH</td>\n",
       "      <td>NaN</td>\n",
       "      <td>NaN</td>\n",
       "      <td>sco</td>\n",
       "      <td>...</td>\n",
       "      <td>4</td>\n",
       "      <td>Glasgow, Glasgow City, United Kingdom</td>\n",
       "      <td>UK</td>\n",
       "      <td>UKV2</td>\n",
       "      <td>40176</td>\n",
       "      <td>55.8333</td>\n",
       "      <td>-4.2500</td>\n",
       "      <td>-2597039</td>\n",
       "      <td>20220304074500</td>\n",
       "      <td>https://www.pressandjournal.co.uk/fp/politics/...</td>\n",
       "    </tr>\n",
       "    <tr>\n",
       "      <th>1155</th>\n",
       "      <td>1031804579</td>\n",
       "      <td>20220304</td>\n",
       "      <td>202203</td>\n",
       "      <td>2022</td>\n",
       "      <td>2022.1753</td>\n",
       "      <td>sco</td>\n",
       "      <td>SCOTTISH</td>\n",
       "      <td>NaN</td>\n",
       "      <td>NaN</td>\n",
       "      <td>sco</td>\n",
       "      <td>...</td>\n",
       "      <td>1</td>\n",
       "      <td>United Kingdom</td>\n",
       "      <td>UK</td>\n",
       "      <td>UK</td>\n",
       "      <td>NaN</td>\n",
       "      <td>54.0000</td>\n",
       "      <td>-4.0000</td>\n",
       "      <td>UK</td>\n",
       "      <td>20220304074500</td>\n",
       "      <td>https://www.scotsman.com/business/heriot-watt-...</td>\n",
       "    </tr>\n",
       "    <tr>\n",
       "      <th>1156</th>\n",
       "      <td>1031804580</td>\n",
       "      <td>20220304</td>\n",
       "      <td>202203</td>\n",
       "      <td>2022</td>\n",
       "      <td>2022.1753</td>\n",
       "      <td>ukr</td>\n",
       "      <td>UKRANIAN</td>\n",
       "      <td>NaN</td>\n",
       "      <td>NaN</td>\n",
       "      <td>ukr</td>\n",
       "      <td>...</td>\n",
       "      <td>4</td>\n",
       "      <td>Kyiv, Kyyiv, Misto, Ukraine</td>\n",
       "      <td>UP</td>\n",
       "      <td>UP12</td>\n",
       "      <td>28554</td>\n",
       "      <td>50.4333</td>\n",
       "      <td>30.5167</td>\n",
       "      <td>-1044367</td>\n",
       "      <td>20220304074500</td>\n",
       "      <td>https://103gbfrocks.com/report-jinjer-bow-out-...</td>\n",
       "    </tr>\n",
       "  </tbody>\n",
       "</table>\n",
       "<p>1157 rows × 61 columns</p>\n",
       "</div>"
      ],
      "text/plain": [
       "      GLOBALEVENTID   SQLDATE  MonthYear  Year  FractionDate Actor1Code  \\\n",
       "0        1031803424  20210304     202103  2021     2021.1753        COP   \n",
       "1        1031803425  20220202     202202  2022     2022.0877        BUS   \n",
       "2        1031803426  20220202     202202  2022     2022.0877        CHN   \n",
       "3        1031803427  20220202     202202  2022     2022.0877        CHN   \n",
       "4        1031803428  20220202     202202  2022     2022.0877        CHN   \n",
       "...             ...       ...        ...   ...           ...        ...   \n",
       "1152     1031804576  20220304     202203  2022     2022.1753        sco   \n",
       "1153     1031804577  20220304     202203  2022     2022.1753        sco   \n",
       "1154     1031804578  20220304     202203  2022     2022.1753        sco   \n",
       "1155     1031804579  20220304     202203  2022     2022.1753        sco   \n",
       "1156     1031804580  20220304     202203  2022     2022.1753        ukr   \n",
       "\n",
       "     Actor1Name Actor1CountryCode Actor1KnownGroupCode Actor1EthnicCode  ...  \\\n",
       "0        POLICE               NaN                  NaN              NaN  ...   \n",
       "1       COMPANY               NaN                  NaN              NaN  ...   \n",
       "2       BEIJING               CHN                  NaN              NaN  ...   \n",
       "3       BEIJING               CHN                  NaN              NaN  ...   \n",
       "4       BEIJING               CHN                  NaN              NaN  ...   \n",
       "...         ...               ...                  ...              ...  ...   \n",
       "1152   SCOTTISH               NaN                  NaN              sco  ...   \n",
       "1153   SCOTTISH               NaN                  NaN              sco  ...   \n",
       "1154   SCOTTISH               NaN                  NaN              sco  ...   \n",
       "1155   SCOTTISH               NaN                  NaN              sco  ...   \n",
       "1156   UKRANIAN               NaN                  NaN              ukr  ...   \n",
       "\n",
       "     ActionGeo_Type                               ActionGeo_FullName  \\\n",
       "0                 2                              Ohio, United States   \n",
       "1                 1                                           Taiwan   \n",
       "2                 4                          Beijing, Beijing, China   \n",
       "3                 4                         Shandong, Jiangsu, China   \n",
       "4                 3  Washington, District of Columbia, United States   \n",
       "...             ...                                              ...   \n",
       "1152              1                                   United Kingdom   \n",
       "1153              4            Glasgow, Glasgow City, United Kingdom   \n",
       "1154              4            Glasgow, Glasgow City, United Kingdom   \n",
       "1155              1                                   United Kingdom   \n",
       "1156              4                      Kyiv, Kyyiv, Misto, Ukraine   \n",
       "\n",
       "     ActionGeo_CountryCode ActionGeo_ADM1Code ActionGeo_ADM2Code  \\\n",
       "0                       US               USOH                NaN   \n",
       "1                       TW                 TW                NaN   \n",
       "2                       CH               CH22              13001   \n",
       "3                       CH               CH04              13151   \n",
       "4                       US               USDC              DC001   \n",
       "...                    ...                ...                ...   \n",
       "1152                    UK                 UK                NaN   \n",
       "1153                    UK               UKV2              40176   \n",
       "1154                    UK               UKV2              40176   \n",
       "1155                    UK                 UK                NaN   \n",
       "1156                    UP               UP12              28554   \n",
       "\n",
       "     ActionGeo_Lat ActionGeo_Long ActionGeo_FeatureID       DATEADDED  \\\n",
       "0          40.3736       -82.7755                  OH  20220304074500   \n",
       "1          24.0000       121.0000                  TW  20220304074500   \n",
       "2          39.9289       116.3880            -1898541  20220304074500   \n",
       "3          32.9793       118.8520            11415469  20220304074500   \n",
       "4          38.8951       -77.0364              531871  20220304074500   \n",
       "...            ...            ...                 ...             ...   \n",
       "1152       54.0000        -4.0000                  UK  20220304074500   \n",
       "1153       55.8333        -4.2500            -2597039  20220304074500   \n",
       "1154       55.8333        -4.2500            -2597039  20220304074500   \n",
       "1155       54.0000        -4.0000                  UK  20220304074500   \n",
       "1156       50.4333        30.5167            -1044367  20220304074500   \n",
       "\n",
       "                                              SOURCEURL  \n",
       "0     http://www.reviewonline.com/wire/?category=536...  \n",
       "1     https://www.deccanchronicle.com/technology/mob...  \n",
       "2                  https://www.philstar.com/happens/823  \n",
       "3                  https://www.philstar.com/happens/823  \n",
       "4                  https://www.philstar.com/happens/823  \n",
       "...                                                 ...  \n",
       "1152  https://www.scotsman.com/business/heriot-watt-...  \n",
       "1153  https://www.pressandjournal.co.uk/fp/politics/...  \n",
       "1154  https://www.pressandjournal.co.uk/fp/politics/...  \n",
       "1155  https://www.scotsman.com/business/heriot-watt-...  \n",
       "1156  https://103gbfrocks.com/report-jinjer-bow-out-...  \n",
       "\n",
       "[1157 rows x 61 columns]"
      ]
     },
     "execution_count": 17,
     "metadata": {},
     "output_type": "execute_result"
    }
   ],
   "source": [
    "df"
   ]
  },
  {
   "cell_type": "code",
   "execution_count": 18,
   "id": "4051d3da-deb9-4bf8-a8a6-6e9c80d28f1d",
   "metadata": {},
   "outputs": [],
   "source": [
    "for idx, row in df.iterrows():\n",
    "    article_dict = dict(\n",
    "    id=row[\"GLOBALEVENTID\"],\n",
    "    url=row[\"SOURCEURL\"],\n",
    "    language=\"en\",\n",
    ")\n",
    "    if idx==0:\n",
    "        continue\n",
    "    crud.article.create(article_dict)"
   ]
  },
  {
   "cell_type": "code",
   "execution_count": 19,
   "id": "def9d081-e83e-4fc0-aa27-220fbe62625f",
   "metadata": {},
   "outputs": [],
   "source": [
    "df = pd.read_sql_table(\"articles\", con=engine)"
   ]
  },
  {
   "cell_type": "code",
   "execution_count": 20,
   "id": "cf1e723a-b752-4fba-8437-08eae5f34e6e",
   "metadata": {},
   "outputs": [
    {
     "data": {
      "text/plain": [
       "1031802032    1\n",
       "1031803735    1\n",
       "1031803728    1\n",
       "1031803729    1\n",
       "1031803730    1\n",
       "             ..\n",
       "1031802881    1\n",
       "1031802882    1\n",
       "1031802883    1\n",
       "1031802884    1\n",
       "1031804580    1\n",
       "Name: id, Length: 2548, dtype: int64"
      ]
     },
     "execution_count": 20,
     "metadata": {},
     "output_type": "execute_result"
    }
   ],
   "source": [
    "df['id'].value_counts()"
   ]
  },
  {
   "cell_type": "code",
   "execution_count": null,
   "id": "86fedc4e-958c-49fd-b3e2-92adeaed502f",
   "metadata": {},
   "outputs": [],
   "source": []
  },
  {
   "cell_type": "code",
   "execution_count": 34,
   "id": "97672e34-d9f3-42c4-9348-ae81eb8270f9",
   "metadata": {},
   "outputs": [],
   "source": [
    "#crud.article.list_articles_in_db()"
   ]
  },
  {
   "cell_type": "code",
   "execution_count": 10,
   "id": "0e6cae0b-b588-4b5e-8fa8-11dbd1eef8de",
   "metadata": {},
   "outputs": [
    {
     "data": {
      "text/plain": [
       "{'id': 1031802032,\n",
       " 'url': 'https://www.zimbabwesituation.com/news/trooper-jailed-5-years-over-armed-robbery/',\n",
       " 'language': 'en'}"
      ]
     },
     "execution_count": 10,
     "metadata": {},
     "output_type": "execute_result"
    }
   ],
   "source": [
    "article_dict"
   ]
  },
  {
   "cell_type": "code",
   "execution_count": 19,
   "id": "923f2e14-a101-4b36-9038-fa33ac6591f4",
   "metadata": {},
   "outputs": [],
   "source": [
    "\n"
   ]
  },
  {
   "cell_type": "code",
   "execution_count": 17,
   "id": "43ad81ef-16d3-4e1c-b0cf-25e22f7077de",
   "metadata": {},
   "outputs": [
    {
     "data": {
      "text/plain": [
       "GLOBALEVENTID                                           1031799413\n",
       "SOURCEURL        https://www.bignewsnetwork.com/news/272354431/...\n",
       "Name: 0, dtype: object"
      ]
     },
     "execution_count": 17,
     "metadata": {},
     "output_type": "execute_result"
    }
   ],
   "source": [
    "row[[\"GLOBALEVENTID\", \"SOURCEURL\"]].to"
   ]
  },
  {
   "cell_type": "code",
   "execution_count": null,
   "id": "99478a03-d06e-4d40-9212-4bba860709ce",
   "metadata": {},
   "outputs": [],
   "source": []
  },
  {
   "cell_type": "code",
   "execution_count": 9,
   "id": "e882757d-2fbd-44c2-8750-0a399947a317",
   "metadata": {},
   "outputs": [
    {
     "data": {
      "text/plain": [
       "Index(['GLOBALEVENTID', 'SQLDATE', 'MonthYear', 'Year', 'FractionDate',\n",
       "       'Actor1Code', 'Actor1Name', 'Actor1CountryCode', 'Actor1KnownGroupCode',\n",
       "       'Actor1EthnicCode', 'Actor1Religion1Code', 'Actor1Religion2Code',\n",
       "       'Actor1Type1Code', 'Actor1Type2Code', 'Actor1Type3Code', 'Actor2Code',\n",
       "       'Actor2Name', 'Actor2CountryCode', 'Actor2KnownGroupCode',\n",
       "       'Actor2EthnicCode', 'Actor2Religion1Code', 'Actor2Religion2Code',\n",
       "       'Actor2Type1Code', 'Actor2Type2Code', 'Actor2Type3Code', 'IsRootEvent',\n",
       "       'EventCode', 'EventBaseCode', 'EventRootCode', 'QuadClass',\n",
       "       'GoldsteinScale', 'NumMentions', 'NumSources', 'NumArticles', 'AvgTone',\n",
       "       'Actor1Geo_Type', 'Actor1Geo_FullName', 'Actor1Geo_CountryCode',\n",
       "       'Actor1Geo_ADM1Code', 'Actor1Geo_ADM2Code', 'Actor1Geo_Lat',\n",
       "       'Actor1Geo_Long', 'Actor1Geo_FeatureID', 'Actor2Geo_Type',\n",
       "       'Actor2Geo_FullName', 'Actor2Geo_CountryCode', 'Actor2Geo_ADM1Code',\n",
       "       'Actor2Geo_ADM2Code', 'Actor2Geo_Lat', 'Actor2Geo_Long',\n",
       "       'Actor2Geo_FeatureID', 'ActionGeo_Type', 'ActionGeo_FullName',\n",
       "       'ActionGeo_CountryCode', 'ActionGeo_ADM1Code', 'ActionGeo_ADM2Code',\n",
       "       'ActionGeo_Lat', 'ActionGeo_Long', 'ActionGeo_FeatureID', 'DATEADDED',\n",
       "       'SOURCEURL'],\n",
       "      dtype='object')"
      ]
     },
     "execution_count": 9,
     "metadata": {},
     "output_type": "execute_result"
    }
   ],
   "source": [
    "\"GLOBALEVENTID\", \"SOURCEURL\""
   ]
  },
  {
   "cell_type": "code",
   "execution_count": 10,
   "id": "3a8b7a29-4dcf-4921-a0ed-05fd80e34bf2",
   "metadata": {},
   "outputs": [
    {
     "data": {
      "text/plain": [
       "7680000"
      ]
     },
     "execution_count": 10,
     "metadata": {},
     "output_type": "execute_result"
    }
   ],
   "source": [
    "4_000 * (4*24*20)"
   ]
  },
  {
   "cell_type": "code",
   "execution_count": null,
   "id": "309ce72d-fd1e-42cc-af88-f5cc743b2c96",
   "metadata": {},
   "outputs": [],
   "source": []
  },
  {
   "cell_type": "code",
   "execution_count": null,
   "id": "d22af648-adb7-4eac-af04-ab7e28505035",
   "metadata": {},
   "outputs": [],
   "source": []
  },
  {
   "cell_type": "code",
   "execution_count": 85,
   "id": "413b406c-b4cb-46d7-a4f8-b451666abe3f",
   "metadata": {},
   "outputs": [],
   "source": [
    "from sqlalchemy.orm import sessionmaker"
   ]
  },
  {
   "cell_type": "code",
   "execution_count": null,
   "id": "35370585-cffb-418a-a68d-eb5ed88ebd65",
   "metadata": {},
   "outputs": [],
   "source": []
  },
  {
   "cell_type": "code",
   "execution_count": 16,
   "id": "3e85cbe8-e803-4814-b1d7-9054ace2d17c",
   "metadata": {},
   "outputs": [],
   "source": [
    "def get_latest_gdelt_events(english=True):\n",
    "\n",
    "    if english:\n",
    "        url = \"http://data.gdeltproject.org/gdeltv2/lastupdate-translation.txt\"\n",
    "    else:\n",
    "        url = \"http://data.gdeltproject.org/gdeltv2/lastupdate-translation.txt\"\n",
    "\n",
    "    r = httpx.get('http://data.gdeltproject.org/gdeltv2/lastupdate.txt')\n",
    "    df = pd.read_csv(BytesIO(r.content), sep=\" \", names=[\"f1\", \"id\", \"url\"])\n",
    "    url = df['url'].iloc[0]\n",
    "    return url"
   ]
  },
  {
   "cell_type": "code",
   "execution_count": 17,
   "id": "cbb528e7-079a-45bd-a940-51c740840e12",
   "metadata": {},
   "outputs": [],
   "source": [
    "def gdelt_events_url2df(url):\n",
    "    r = httpx.get(url)\n",
    "    zipfile = ZipFile(BytesIO(r.content))\n",
    "    fn = zipfile.namelist()[0]\n",
    "    df = pd.read_csv(zipfile.open(fn), sep=\"\\t\", names=gdel_event_headers)\n",
    "    return df"
   ]
  },
  {
   "cell_type": "code",
   "execution_count": 28,
   "id": "e8396c6e-0e64-4213-9ff0-d298ece49840",
   "metadata": {},
   "outputs": [],
   "source": [
    "url = get_latest_gdelt_events()"
   ]
  },
  {
   "cell_type": "code",
   "execution_count": 29,
   "id": "b9d7739b-9884-43b6-850d-6e850ef92357",
   "metadata": {},
   "outputs": [],
   "source": [
    "df = gdelt_events_url2df(url)"
   ]
  },
  {
   "cell_type": "code",
   "execution_count": 75,
   "id": "8aa92234-af5b-46f4-bb3c-1d4731471dab",
   "metadata": {},
   "outputs": [],
   "source": [
    "for i, article_url in enumerate(df[\"SOURCEURL\"]):\n",
    "\n",
    "    if i == 102:\n",
    "        break\n",
    "    "
   ]
  },
  {
   "cell_type": "code",
   "execution_count": 35,
   "id": "216fe526-ba3a-4349-acb2-ad03663c1f7a",
   "metadata": {},
   "outputs": [],
   "source": [
    "#df"
   ]
  },
  {
   "cell_type": "code",
   "execution_count": null,
   "id": "22791c5b-8af5-43e3-bc9b-3c71ca67c420",
   "metadata": {},
   "outputs": [],
   "source": []
  },
  {
   "cell_type": "code",
   "execution_count": null,
   "id": "273907e7-efef-4801-a5c0-902a61edd3a5",
   "metadata": {},
   "outputs": [],
   "source": []
  },
  {
   "cell_type": "code",
   "execution_count": null,
   "id": "bf0f344b-7a5e-4693-aea0-f8165376f181",
   "metadata": {},
   "outputs": [],
   "source": []
  },
  {
   "cell_type": "code",
   "execution_count": 76,
   "id": "86414f56-3e46-40f6-b119-0a4e338e2b07",
   "metadata": {},
   "outputs": [
    {
     "data": {
      "text/plain": [
       "'https://thetab.com/uk/2022/03/02/theyre-at-it-again-heres-a-bunch-of-celebs-making-ukraine-about-themselves-242666'"
      ]
     },
     "execution_count": 76,
     "metadata": {},
     "output_type": "execute_result"
    }
   ],
   "source": [
    "article_url"
   ]
  },
  {
   "cell_type": "code",
   "execution_count": 83,
   "id": "f6d6f766-ebe0-43e4-9490-5ddf5f4b3ce6",
   "metadata": {},
   "outputs": [
    {
     "name": "stderr",
     "output_type": "stream",
     "text": [
      "not a 200 response: 404\n",
      "not a 200 response: 404\n",
      "not a 200 response: 404\n",
      "not a 200 response: 451\n",
      "connection/timeout error: https://www.epa.gov/newsreleases/icymi-epa-administrator-regan-regional-administrator-guzman-visit-hawaii-highlight HTTPSConnectionPool(host='www.epa.gov', port=443): Max retries exceeded with url: /newsreleases/icymi-epa-administrator-regan-regional-administrator-guzman-visit-hawaii-highlight (Caused by NewConnectionError('<urllib3.connection.HTTPSConnection object at 0x7f1a581ea970>: Failed to establish a new connection: [Errno -3] Temporary failure in name resolution'))\n",
      "connection/timeout error: https://www.cnn.com/2022/03/02/us/brett-hankison-trial-testimony/ HTTPSConnectionPool(host='www.cnn.com', port=443): Max retries exceeded with url: /2022/03/02/us/brett-hankison-trial-testimony/ (Caused by NewConnectionError('<urllib3.connection.HTTPSConnection object at 0x7f1a5818bd90>: Failed to establish a new connection: [Errno -3] Temporary failure in name resolution'))\n",
      "connection/timeout error: https://www.plenglish.com/news/2022/03/02/angolan-minister-of-state-winds-up-official-visit-to-cuba/ HTTPSConnectionPool(host='www.plenglish.com', port=443): Max retries exceeded with url: /news/2022/03/02/angolan-minister-of-state-winds-up-official-visit-to-cuba/ (Caused by NewConnectionError('<urllib3.connection.HTTPSConnection object at 0x7f1a581ac580>: Failed to establish a new connection: [Errno -3] Temporary failure in name resolution'))\n",
      "connection/timeout error: https://www.plenglish.com/news/2022/03/02/angolan-minister-of-state-winds-up-official-visit-to-cuba/ HTTPSConnectionPool(host='www.plenglish.com', port=443): Max retries exceeded with url: /news/2022/03/02/angolan-minister-of-state-winds-up-official-visit-to-cuba/ (Caused by NewConnectionError('<urllib3.connection.HTTPSConnection object at 0x7f1a581acac0>: Failed to establish a new connection: [Errno -3] Temporary failure in name resolution'))\n",
      "connection/timeout error: https://www.zawya.com/uae/en/story/Namibias_new_era_of_hydrocarbon_exploration_and_production-AFPR020320225120/ HTTPSConnectionPool(host='www.zawya.com', port=443): Max retries exceeded with url: /uae/en/story/Namibias_new_era_of_hydrocarbon_exploration_and_production-AFPR020320225120/ (Caused by NewConnectionError('<urllib3.connection.HTTPSConnection object at 0x7f1a581b0d90>: Failed to establish a new connection: [Errno -3] Temporary failure in name resolution'))\n",
      "connection/timeout error: https://www.rferl.org/a/kyiv-mayor-klitschko-interview-russian-attack/31732331.html HTTPSConnectionPool(host='www.rferl.org', port=443): Max retries exceeded with url: /a/kyiv-mayor-klitschko-interview-russian-attack/31732331.html (Caused by NewConnectionError('<urllib3.connection.HTTPSConnection object at 0x7f1a580fad00>: Failed to establish a new connection: [Errno -3] Temporary failure in name resolution'))\n"
     ]
    },
    {
     "ename": "ArticleException",
     "evalue": "You must `download()` an article first!",
     "output_type": "error",
     "traceback": [
      "\u001b[0;31m---------------------------------------------------------------------------\u001b[0m",
      "\u001b[0;31mArticleException\u001b[0m                          Traceback (most recent call last)",
      "Input \u001b[0;32mIn [83]\u001b[0m, in \u001b[0;36m<cell line: 1>\u001b[0;34m()\u001b[0m\n\u001b[0;32m----> 1\u001b[0m t \u001b[38;5;241m=\u001b[39m \u001b[43mNewsPlease\u001b[49m\u001b[38;5;241;43m.\u001b[39;49m\u001b[43mfrom_urls\u001b[49m\u001b[43m(\u001b[49m\u001b[43mdf\u001b[49m\u001b[43m[\u001b[49m\u001b[38;5;124;43m\"\u001b[39;49m\u001b[38;5;124;43mSOURCEURL\u001b[39;49m\u001b[38;5;124;43m\"\u001b[39;49m\u001b[43m]\u001b[49m\u001b[43m[\u001b[49m\u001b[38;5;241;43m100\u001b[39;49m\u001b[43m:\u001b[49m\u001b[38;5;241;43m200\u001b[39;49m\u001b[43m]\u001b[49m\u001b[43m)\u001b[49m\n",
      "File \u001b[0;32m~/.cache/pypoetry/virtualenvs/news-peErMUu7-py3.8/lib/python3.8/site-packages/newsplease/__init__.py:138\u001b[0m, in \u001b[0;36mNewsPlease.from_urls\u001b[0;34m(urls, timeout)\u001b[0m\n\u001b[1;32m    136\u001b[0m     results \u001b[38;5;241m=\u001b[39m SimpleCrawler\u001b[38;5;241m.\u001b[39mfetch_urls(urls)\n\u001b[1;32m    137\u001b[0m     \u001b[38;5;28;01mfor\u001b[39;00m url \u001b[38;5;129;01min\u001b[39;00m results:\n\u001b[0;32m--> 138\u001b[0m         results[url] \u001b[38;5;241m=\u001b[39m \u001b[43mNewsPlease\u001b[49m\u001b[38;5;241;43m.\u001b[39;49m\u001b[43mfrom_html\u001b[49m\u001b[43m(\u001b[49m\u001b[43mresults\u001b[49m\u001b[43m[\u001b[49m\u001b[43murl\u001b[49m\u001b[43m]\u001b[49m\u001b[43m,\u001b[49m\u001b[43m \u001b[49m\u001b[43murl\u001b[49m\u001b[43m,\u001b[49m\u001b[43m \u001b[49m\u001b[43mdownload_date\u001b[49m\u001b[43m)\u001b[49m\n\u001b[1;32m    140\u001b[0m \u001b[38;5;28;01mreturn\u001b[39;00m results\n",
      "File \u001b[0;32m~/.cache/pypoetry/virtualenvs/news-peErMUu7-py3.8/lib/python3.8/site-packages/newsplease/__init__.py:95\u001b[0m, in \u001b[0;36mNewsPlease.from_html\u001b[0;34m(html, url, download_date, fetch_images)\u001b[0m\n\u001b[1;32m     93\u001b[0m item[\u001b[38;5;124m'\u001b[39m\u001b[38;5;124mdownload_date\u001b[39m\u001b[38;5;124m'\u001b[39m] \u001b[38;5;241m=\u001b[39m download_date\n\u001b[1;32m     94\u001b[0m item[\u001b[38;5;124m'\u001b[39m\u001b[38;5;124mmodified_date\u001b[39m\u001b[38;5;124m'\u001b[39m] \u001b[38;5;241m=\u001b[39m \u001b[38;5;28;01mNone\u001b[39;00m\n\u001b[0;32m---> 95\u001b[0m item \u001b[38;5;241m=\u001b[39m \u001b[43mextractor\u001b[49m\u001b[38;5;241;43m.\u001b[39;49m\u001b[43mextract\u001b[49m\u001b[43m(\u001b[49m\u001b[43mitem\u001b[49m\u001b[43m)\u001b[49m\n\u001b[1;32m     97\u001b[0m tmp_article \u001b[38;5;241m=\u001b[39m ExtractedInformationStorage\u001b[38;5;241m.\u001b[39mextract_relevant_info(item)\n\u001b[1;32m     98\u001b[0m final_article \u001b[38;5;241m=\u001b[39m ExtractedInformationStorage\u001b[38;5;241m.\u001b[39mconvert_to_class(tmp_article)\n",
      "File \u001b[0;32m~/.cache/pypoetry/virtualenvs/news-peErMUu7-py3.8/lib/python3.8/site-packages/newsplease/pipeline/extractor/article_extractor.py:63\u001b[0m, in \u001b[0;36mExtractor.extract\u001b[0;34m(self, item)\u001b[0m\n\u001b[1;32m     60\u001b[0m article_candidates \u001b[38;5;241m=\u001b[39m []\n\u001b[1;32m     62\u001b[0m \u001b[38;5;28;01mfor\u001b[39;00m extractor \u001b[38;5;129;01min\u001b[39;00m \u001b[38;5;28mself\u001b[39m\u001b[38;5;241m.\u001b[39mextractor_list:\n\u001b[0;32m---> 63\u001b[0m     article_candidate \u001b[38;5;241m=\u001b[39m \u001b[43mextractor\u001b[49m\u001b[38;5;241;43m.\u001b[39;49m\u001b[43mextract\u001b[49m\u001b[43m(\u001b[49m\u001b[43mitem\u001b[49m\u001b[43m)\u001b[49m\n\u001b[1;32m     64\u001b[0m     article_candidates\u001b[38;5;241m.\u001b[39mappend(article_candidate)\n\u001b[1;32m     66\u001b[0m article_candidates \u001b[38;5;241m=\u001b[39m \u001b[38;5;28mself\u001b[39m\u001b[38;5;241m.\u001b[39mcleaner\u001b[38;5;241m.\u001b[39mclean(article_candidates)\n",
      "File \u001b[0;32m~/.cache/pypoetry/virtualenvs/news-peErMUu7-py3.8/lib/python3.8/site-packages/newsplease/pipeline/extractor/extractors/newspaper_extractor.py:33\u001b[0m, in \u001b[0;36mNewspaperExtractor.extract\u001b[0;34m(self, item)\u001b[0m\n\u001b[1;32m     31\u001b[0m article \u001b[38;5;241m=\u001b[39m Article(\u001b[38;5;124m'\u001b[39m\u001b[38;5;124m'\u001b[39m, \u001b[38;5;241m*\u001b[39m\u001b[38;5;241m*\u001b[39m\u001b[38;5;28mself\u001b[39m\u001b[38;5;241m.\u001b[39m_article_kwargs())\n\u001b[1;32m     32\u001b[0m article\u001b[38;5;241m.\u001b[39mset_html(item[\u001b[38;5;124m'\u001b[39m\u001b[38;5;124mspider_response\u001b[39m\u001b[38;5;124m'\u001b[39m]\u001b[38;5;241m.\u001b[39mbody)\n\u001b[0;32m---> 33\u001b[0m \u001b[43marticle\u001b[49m\u001b[38;5;241;43m.\u001b[39;49m\u001b[43mparse\u001b[49m\u001b[43m(\u001b[49m\u001b[43m)\u001b[49m\n\u001b[1;32m     34\u001b[0m article_candidate\u001b[38;5;241m.\u001b[39mtitle \u001b[38;5;241m=\u001b[39m article\u001b[38;5;241m.\u001b[39mtitle\n\u001b[1;32m     35\u001b[0m article_candidate\u001b[38;5;241m.\u001b[39mdescription \u001b[38;5;241m=\u001b[39m article\u001b[38;5;241m.\u001b[39mmeta_description\n",
      "File \u001b[0;32m~/.cache/pypoetry/virtualenvs/news-peErMUu7-py3.8/lib/python3.8/site-packages/newspaper/article.py:191\u001b[0m, in \u001b[0;36mArticle.parse\u001b[0;34m(self)\u001b[0m\n\u001b[1;32m    190\u001b[0m \u001b[38;5;28;01mdef\u001b[39;00m \u001b[38;5;21mparse\u001b[39m(\u001b[38;5;28mself\u001b[39m):\n\u001b[0;32m--> 191\u001b[0m     \u001b[38;5;28;43mself\u001b[39;49m\u001b[38;5;241;43m.\u001b[39;49m\u001b[43mthrow_if_not_downloaded_verbose\u001b[49m\u001b[43m(\u001b[49m\u001b[43m)\u001b[49m\n\u001b[1;32m    193\u001b[0m     \u001b[38;5;28mself\u001b[39m\u001b[38;5;241m.\u001b[39mdoc \u001b[38;5;241m=\u001b[39m \u001b[38;5;28mself\u001b[39m\u001b[38;5;241m.\u001b[39mconfig\u001b[38;5;241m.\u001b[39mget_parser()\u001b[38;5;241m.\u001b[39mfromstring(\u001b[38;5;28mself\u001b[39m\u001b[38;5;241m.\u001b[39mhtml)\n\u001b[1;32m    194\u001b[0m     \u001b[38;5;28mself\u001b[39m\u001b[38;5;241m.\u001b[39mclean_doc \u001b[38;5;241m=\u001b[39m copy\u001b[38;5;241m.\u001b[39mdeepcopy(\u001b[38;5;28mself\u001b[39m\u001b[38;5;241m.\u001b[39mdoc)\n",
      "File \u001b[0;32m~/.cache/pypoetry/virtualenvs/news-peErMUu7-py3.8/lib/python3.8/site-packages/newspaper/article.py:529\u001b[0m, in \u001b[0;36mArticle.throw_if_not_downloaded_verbose\u001b[0;34m(self)\u001b[0m\n\u001b[1;32m    525\u001b[0m \u001b[38;5;124;03m\"\"\"Parse ArticleDownloadState -> log readable status\u001b[39;00m\n\u001b[1;32m    526\u001b[0m \u001b[38;5;124;03m-> maybe throw ArticleException\u001b[39;00m\n\u001b[1;32m    527\u001b[0m \u001b[38;5;124;03m\"\"\"\u001b[39;00m\n\u001b[1;32m    528\u001b[0m \u001b[38;5;28;01mif\u001b[39;00m \u001b[38;5;28mself\u001b[39m\u001b[38;5;241m.\u001b[39mdownload_state \u001b[38;5;241m==\u001b[39m ArticleDownloadState\u001b[38;5;241m.\u001b[39mNOT_STARTED:\n\u001b[0;32m--> 529\u001b[0m     \u001b[38;5;28;01mraise\u001b[39;00m ArticleException(\u001b[38;5;124m'\u001b[39m\u001b[38;5;124mYou must `download()` an article first!\u001b[39m\u001b[38;5;124m'\u001b[39m)\n\u001b[1;32m    530\u001b[0m \u001b[38;5;28;01melif\u001b[39;00m \u001b[38;5;28mself\u001b[39m\u001b[38;5;241m.\u001b[39mdownload_state \u001b[38;5;241m==\u001b[39m ArticleDownloadState\u001b[38;5;241m.\u001b[39mFAILED_RESPONSE:\n\u001b[1;32m    531\u001b[0m     \u001b[38;5;28;01mraise\u001b[39;00m ArticleException(\u001b[38;5;124m'\u001b[39m\u001b[38;5;124mArticle `download()` failed with \u001b[39m\u001b[38;5;132;01m%s\u001b[39;00m\u001b[38;5;124m on URL \u001b[39m\u001b[38;5;132;01m%s\u001b[39;00m\u001b[38;5;124m'\u001b[39m \u001b[38;5;241m%\u001b[39m\n\u001b[1;32m    532\u001b[0m           (\u001b[38;5;28mself\u001b[39m\u001b[38;5;241m.\u001b[39mdownload_exception_msg, \u001b[38;5;28mself\u001b[39m\u001b[38;5;241m.\u001b[39murl))\n",
      "\u001b[0;31mArticleException\u001b[0m: You must `download()` an article first!"
     ]
    }
   ],
   "source": [
    "t = NewsPlease.from_urls(df[\"SOURCEURL\"][100:200])"
   ]
  },
  {
   "cell_type": "code",
   "execution_count": 84,
   "id": "5042e0f7-98f6-47e1-9a9d-4100e7de456c",
   "metadata": {},
   "outputs": [
    {
     "data": {
      "text/plain": [
       "{'https://www.businesstoday.in/latest/corporate/story/ukraine-war-threatens-cancellation-of-bharti-backed-onewebs-satellite-launch-324512-2022-03-02': <NewsArticle.NewsArticle at 0x7f1a5a0c90a0>,\n",
       " 'https://www.msn.com/en-us/news/politics/investigation-of-at-26t-contracts-in-pay-to-play-probe-orbiting-michael-madigan-examines-funds-to-lobbyists-former-state-rep-sources/ar-AAUvt2g': <NewsArticle.NewsArticle at 0x7f1a598ec340>,\n",
       " 'https://www.ok.co.uk/lifestyle/prince-william-kate-middleton-tradition-26365503': <NewsArticle.NewsArticle at 0x7f1a5a26cb50>,\n",
       " 'https://www.theepochtimes.com/oil-markets-hit-multiple-records-as-russia-sanctions-bite-disrupt-trade-flows_4311551.html': <NewsArticle.NewsArticle at 0x7f1a598ecbe0>,\n",
       " 'https://www.thenews.com.pk/latest/938067-cannes-film-festival-announces-refusal-to-welcome-russian-delegation': <NewsArticle.NewsArticle at 0x7f1a5981c7c0>,\n",
       " 'https://www.thehindu.com/news/cities/mumbai/mumbai-cruise-drugs-case-ncb-yet-to-receive-report-on-forensic-analysis-of-electronic-evidence/article65183547.ece': <NewsArticle.NewsArticle at 0x7f1a59b73f40>,\n",
       " 'https://www.wuft.org/news/2022/03/02/first-students-outside-florida-to-save-thousands-with-in-state-tuition-under-new-grandparents-law/': <NewsArticle.NewsArticle at 0x7f1a595aa940>}"
      ]
     },
     "execution_count": 84,
     "metadata": {},
     "output_type": "execute_result"
    }
   ],
   "source": [
    "t"
   ]
  },
  {
   "cell_type": "code",
   "execution_count": null,
   "id": "6dd11cd5-a3bf-4c32-9b0c-deb2c4dfc28f",
   "metadata": {},
   "outputs": [],
   "source": []
  },
  {
   "cell_type": "code",
   "execution_count": 77,
   "id": "c201e390-04ca-43c6-aefc-ac950673d62d",
   "metadata": {},
   "outputs": [],
   "source": [
    "article_obj = NewsPlease.from_url(article_url)\n",
    "article_obj.get_dict()"
   ]
  },
  {
   "cell_type": "code",
   "execution_count": 78,
   "id": "2efa4bcd-6b61-4c90-8af2-290976846781",
   "metadata": {},
   "outputs": [
    {
     "data": {
      "text/plain": [
       "{'authors': [],\n",
       " 'date_download': datetime.datetime(2022, 3, 2, 14, 16, 39),\n",
       " 'date_modify': None,\n",
       " 'date_publish': datetime.datetime(2022, 3, 2, 12, 16, 41),\n",
       " 'description': 'A number of celebrities and influencers are making the situation in Ukraine about themselves by promoting their projects or complaining.',\n",
       " 'filename': 'https%3A%2F%2Fthetab.com%2Fuk%2F2022%2F03%2F02%2Ftheyre-at-it-again-heres-a-bunch-of-celebs-making-ukraine-about-themselves-242666.json',\n",
       " 'image_url': 'https://media.thetab.com/blogs.dir/90/files/2022/03/celebs-ukraine.jpg',\n",
       " 'language': 'en',\n",
       " 'localpath': None,\n",
       " 'maintext': 'It’s been less than a week since Russian president Vladimir Putin ordered the invasion into Ukraine causing over 800,000 people to flee the country and yet some celebrities have still managed to make the war about themselves.\\nWhen it comes to wars, natural disasters or deadly diseases celebrities have a reputation of being tone deaf. They create cringey videos where they sing “Imagine” with their celebrity pals or they cry about being stuck inside their million dollar mansions whilst thousands die in the pandemic. Yes Ellen Degeneres I’m looking at you.\\nThe best thing celebrities can do in these situations is to donate their cash and shut up. No one needs to hear your unhelpful words or suggestions for how to deal with things.\\nAnd the conflict in Ukraine is no different. Celebrities and influencers are using it to promote their latest projects or complaining they can’t go on holiday to Italy because of the war. Must be tough.\\nThese are the celebrities making the war in Ukraine about themselves:\\nMolly-Mae Hague\\nMolly-Mae is a busy woman but she still found time in her 24 hours to share her feelings on Ukraine.\\nWhilst in Mexico for a work trip Molly-Mae shared a post on her Instagram Story asking her followers if they wanted her to carry on posting boujie pictures from Tulum.\\nShe wrote on Instagram: “Given everything that’s happening in the world right now I feel it’s impossible to carry on with life as normal without feeling guilty.\\n“I’m currently away for work shooting a campaign but haven’t known whether to share as usual for the people that come on Instagram to escape… I care about you guys so much and how my content makes you all feel.”\\nMolly-Mae added a poll below so her followers could vote on whether they wanted to see her content. Two thirds of voters wanted to see the content and so Molly-Mae has been sharing plenty of sunset photos and tanned shoots on the beach.\\nAnnaLynne McCord\\nEver since Gal Gadot released the “Imagine” video in the first week of lockdown I didn’t think it would be possible for a celebrity to create a more tone deaf video, and yet I was wrong.\\nLast week shortly after Russia invaded Ukraine former 90210 actress AnnaLynne McCord posted a video addressed to Putin in which she wrote a poem where she said she wished she was his mother.\\nDear Mister President Vladimir Putin… pic.twitter.com/LbDFBHVWJf — AnnaLynne McCord (@IAMannalynnemcc) February 24, 2022\\nIn the two and a half minute video she suggested if Putin had been more loved by his mother then Ukraine would be safe. Because of course it’s a woman’s fault Putin invaded Ukraine.\\nSome of the worst lines in the poem include “If I was your mother the world would have been warm, so much laughter and joy and nothing would harm,” and “I cannot believe I was born too late, in a different place when I would have loved you so.”\\nExcuse me whilst I go vomit.\\nA few days later AnnaLynne went onto defend her comments in a podcast where she asked: “would a happy person start a war?” She continued and argued if Putin had received more love when he was younger and was a happier man now he wouldn’t want to invade Ukraine.\\nAndy Cohen\\nSome celebrities share charity resources, others offer a prayer for those in Ukraine, what does Andy Cohen do? He creates a Wordle meme to condemn the war.\\nLast week Andy posted on his Instagram Story a picture of a Wordle with the word “peace” entered as a guess.\\nThe picture quickly went viral on Twitter and some argued Andy didn’t even enter the word as a guess because none of the letters had been colour coded.\\nCome on Andy if you’re gonna do performative activism at least commit to the Wordle guess.\\nJohn Cena\\nProfessional wrestler turned actor John Cena seemed to think the invasion in Ukraine was a good time to promote his new TV series.\\nIn the early hours of Thursday morning John tweeted to say how he wished he was his character called Peacemaker who is a killer who believes in achieving peace at any cost. Just a little bit contradictory?\\nIf I could somehow summon the powers of a real life #Peacemaker I think this would be a great time to do so. — John Cena (@JohnCena) February 24, 2022\\nHe said: “If I could somehow summon the powers of a real life #Peacemaker I think this would be a great time to do so.”\\nCheers John, I’m sure the people of Ukraine really appreciated those helpful words.\\nJoy Behar\\nPlay\\nJoy Behar is an American comedian and one of the hosts on the talkshow The View. During a discussion on the show last week about the situation in Ukraine Joy got very upset because it might disrupt her Italy holiday plans. Honestly what a disaster for her, I can’t believe Putin didn’t consider her trip when he ordered the missiles.\\nOn The View she said: “I’m scared of what’s going to happen in western Europe, too. You plan a trip, you want to go there, I’ve wanted to go to Italy for four years and I haven’t been able to make it because of the pandemic and now this. It’s like, what’s gonna happen there?”\\nBabe, I think your trip to Italy will be just fine.\\nDanielle Bernstein\\nOf course this list would not be complete without a tone deaf influencer. Fashion influencer Danielle Bernstein aka WeWoreWhat was accused of using the invasion to promote her new swimwear line.\\nLast week she posted a picture of herself in a bikini to her 2.8 million followers and captioned it saying you can care about world issues and fashion at the same time.\\nShe said: “When I say you can do both, I truly mean it. You can post about fashion and post about world issues. You can raise awareness for your new collection while also raising money to give back.\\n“You can go about your day while also showing compassion and reaching out to others.”\\nView this post on Instagram A post shared by 𝒟𝒶𝓃𝒾𝑒𝓁𝓁𝑒 𝐵𝑒𝓇𝓃𝓈𝓉𝑒𝒾𝓃 (@weworewhat)\\nDanielle finished the post by saying proceeds from her new swimwear collection release would be going to an “on the ground organisation in Ukraine”.\\nThe post received a lot of criticism from followers with one person commenting: “War is not the opportunity to promote your business” and another said: “performance activism, is quite literally, the death of change and reform. Scary to think about.”\\nThe comments have since been turned off on the post and Danielle changed her caption to say her team had sent $250,000 to refugee efforts in Ukraine and she was delaying the launch of her swimwear. She also said they would be sending more money once the swimwear line has been released.\\nRelated stories recommended by this writer:\\n•In pictures: Thousands gather around the UK in protests in solidarity with Ukraine\\n•Don’t worry guys! 90210’s AnnaLynne McCord has come to end the war with her poem to Putin\\n•‘I feel sick inside’: Ukrainian and Russian students speak out on the current situation',\n",
       " 'source_domain': 'thetab.com',\n",
       " 'text': None,\n",
       " 'title': 'All the celebrities making the situation in Ukraine about themselves',\n",
       " 'title_page': None,\n",
       " 'title_rss': None,\n",
       " 'url': 'https://thetab.com/uk/2022/03/02/theyre-at-it-again-heres-a-bunch-of-celebs-making-ukraine-about-themselves-242666'}"
      ]
     },
     "execution_count": 78,
     "metadata": {},
     "output_type": "execute_result"
    }
   ],
   "source": [
    "article_obj.get_dict()"
   ]
  },
  {
   "cell_type": "code",
   "execution_count": 4,
   "id": "3969d932-a8bd-4f1d-863e-67306a0a8e57",
   "metadata": {},
   "outputs": [],
   "source": [
    "url = df['url'].iloc[0]"
   ]
  },
  {
   "cell_type": "code",
   "execution_count": 5,
   "id": "4f155c53-a1cf-4517-94dc-5280e0b73166",
   "metadata": {},
   "outputs": [],
   "source": [
    "r = httpx.get(url)"
   ]
  },
  {
   "cell_type": "code",
   "execution_count": 6,
   "id": "ab15de37-e7a8-4d9d-99a5-73409e01167c",
   "metadata": {},
   "outputs": [],
   "source": [
    "#r.content"
   ]
  },
  {
   "cell_type": "code",
   "execution_count": 7,
   "id": "babb59bd-390f-4b49-b042-faf80642747f",
   "metadata": {},
   "outputs": [],
   "source": [
    "zipfile = ZipFile(BytesIO(r.content))"
   ]
  },
  {
   "cell_type": "code",
   "execution_count": 8,
   "id": "7f0b5e0d-920b-465e-8099-7fc868f98f00",
   "metadata": {},
   "outputs": [],
   "source": [
    "fn = zipfile.namelist()[0]"
   ]
  },
  {
   "cell_type": "code",
   "execution_count": 9,
   "id": "3b550de9-9aef-4c32-b023-37b31c71ee72",
   "metadata": {},
   "outputs": [],
   "source": [
    "df = pd.read_csv(zipfile.open(fn), sep=\"\\t\", names=gdel_event_headers)"
   ]
  },
  {
   "cell_type": "code",
   "execution_count": 13,
   "id": "993693dd-f813-4bdf-8dc1-dd447badfa28",
   "metadata": {},
   "outputs": [
    {
     "data": {
      "text/plain": [
       "0       https://www.unionleader.com/news/education/new...\n",
       "1       https://www.business-standard.com/content/pres...\n",
       "2       https://www.business-standard.com/content/pres...\n",
       "3       https://www.business-standard.com/content/pres...\n",
       "4       https://www.skynews.com.au/australia-news/evac...\n",
       "                              ...                        \n",
       "1313    https://www.malverngazette.co.uk/news/19961000...\n",
       "1314    https://www.bristolpost.co.uk/news/bristol-new...\n",
       "1315     https://focustaiwan.tw/cross-strait/202203020019\n",
       "1316     https://focustaiwan.tw/cross-strait/202203020019\n",
       "1317    https://www.thenation.com/article/world/india-...\n",
       "Name: SOURCEURL, Length: 1318, dtype: object"
      ]
     },
     "execution_count": 13,
     "metadata": {},
     "output_type": "execute_result"
    }
   ],
   "source": [
    "df[\"SOURCEURL\"]"
   ]
  },
  {
   "cell_type": "code",
   "execution_count": null,
   "id": "c8e207ed-5ecc-46e3-b32c-5bb5ee48cb61",
   "metadata": {},
   "outputs": [],
   "source": [
    "[\"http://data.gdeltproject.org/gdeltv2/20150218224500.translation.export.CSV.zip\"]"
   ]
  }
 ],
 "metadata": {
  "kernelspec": {
   "display_name": "Python 3 (ipykernel)",
   "language": "python",
   "name": "python3"
  },
  "language_info": {
   "codemirror_mode": {
    "name": "ipython",
    "version": 3
   },
   "file_extension": ".py",
   "mimetype": "text/x-python",
   "name": "python",
   "nbconvert_exporter": "python",
   "pygments_lexer": "ipython3",
   "version": "3.8.10"
  }
 },
 "nbformat": 4,
 "nbformat_minor": 5
}
