{
 "cells": [
  {
   "cell_type": "code",
   "execution_count": 1,
   "id": "66fea5d2-9e90-47ac-84ca-1467c3e109b2",
   "metadata": {},
   "outputs": [],
   "source": [
    "%load_ext autoreload\n",
    "%autoreload 2"
   ]
  },
  {
   "cell_type": "code",
   "execution_count": 2,
   "id": "748d6d7c-ec89-4ad9-b441-823503b6dc1c",
   "metadata": {},
   "outputs": [],
   "source": [
    "import news"
   ]
  },
  {
   "cell_type": "code",
   "execution_count": null,
   "id": "a87b9d41-a95a-4dd1-a456-123a43ed44c2",
   "metadata": {},
   "outputs": [],
   "source": []
  },
  {
   "cell_type": "code",
   "execution_count": 7,
   "id": "7aab07cf-a8b7-47f1-be9c-4508f32ad128",
   "metadata": {},
   "outputs": [],
   "source": [
    "from news.db.db.init_db import init_db"
   ]
  },
  {
   "cell_type": "code",
   "execution_count": 8,
   "id": "a27a8a60-8302-4418-9685-956b15cc6b2d",
   "metadata": {},
   "outputs": [],
   "source": [
    "init_db()"
   ]
  },
  {
   "cell_type": "code",
   "execution_count": 3,
   "id": "10a7b7c7-8525-4bcc-904c-13d60cb00c7c",
   "metadata": {},
   "outputs": [],
   "source": [
    "from sentence_transformers import SentenceTransformer\n",
    "from news.doc.db import doc_store\n",
    "from annlite import AnnLite\n",
    "import pandas as pd\n",
    "from docarray import Document, DocumentArray\n",
    "import numpy as np\n",
    "from datetime import datetime\n",
    "from tqdm import tqdm"
   ]
  },
  {
   "cell_type": "code",
   "execution_count": 6,
   "id": "9aafa487-b8bd-4c7f-a627-618feb85d4d7",
   "metadata": {},
   "outputs": [
    {
     "ename": "NameError",
     "evalue": "name 'DocumentArray' is not defined",
     "output_type": "error",
     "traceback": [
      "\u001b[0;31m---------------------------------------------------------------------------\u001b[0m",
      "\u001b[0;31mNameError\u001b[0m                                 Traceback (most recent call last)",
      "Input \u001b[0;32mIn [6]\u001b[0m, in \u001b[0;36m<cell line: 1>\u001b[0;34m()\u001b[0m\n\u001b[0;32m----> 1\u001b[0m docs \u001b[38;5;241m=\u001b[39m \u001b[43mDocumentArray\u001b[49m(doc_store)\n",
      "\u001b[0;31mNameError\u001b[0m: name 'DocumentArray' is not defined"
     ]
    }
   ],
   "source": [
    "docs = DocumentArray(doc_store)"
   ]
  },
  {
   "cell_type": "code",
   "execution_count": 97,
   "id": "7d52a8de-e269-45ac-af4e-366552adeddc",
   "metadata": {},
   "outputs": [],
   "source": [
    "doc = docs[5]"
   ]
  },
  {
   "cell_type": "code",
   "execution_count": 98,
   "id": "60720453-0e0f-420f-b24e-1000aa1995d0",
   "metadata": {},
   "outputs": [],
   "source": [
    "text = doc.chunks.split_by_tag(\"section\")[\"body\"].texts[0]"
   ]
  },
  {
   "cell_type": "code",
   "execution_count": 99,
   "id": "6c41852b-691e-4318-bf84-d9337b56b167",
   "metadata": {},
   "outputs": [
    {
     "data": {
      "text/plain": [
       "'Novak Djokovic (AFP)\\nNovak Djokovic was entered into the draw for this week’s ATP/WTA Indian Wells tournament on Tuesday but it is unclear whether he will take part in the tournament, organisers said.\\nA brief statement from tournament organisers said officials were in contact with Djokovic’s team to determine whether he would play in California or even be allowed to enter the United States because he has not been vaccinated against the coronavirus.\\n“Novak Djokovic is on the tournament entry list, and therefore is placed into the draw today,” tournament chiefs said.\\n“We are currently in communication with his team; however, it has not been determined if he will participate in the event by getting CDC approval to enter the country.”\\nDjokovic is a five-time champion at Indian Wells, where organisers have said proof of full vaccination will be required for spectator entry into the grounds for the tournament in the California desert.\\nUnder US government regulations, all non-US citizen travellers entering the United States must be vaccinated against Covid-19.\\nDjokovic was barred from the Australian Open in January after officials said he did not meet requirements for unvaccinated travellers trying to enter the nation.\\nDjokovic’s visa was eventually canceled and, after a legal appeal failed, he departed without playing.\\nWhile Djokovic’s status remains up in the air, Tuesday’s draw raised the possibility of another blockbuster showdown between newly minted world number one Daniil Medvedev and 21-time Grand Slam champion Rafael Nadal.\\nRussian star Medvedev is scheduled to face Nadal in the semi-finals in what would be the duo’s third meeting in less than two months.\\nBefore that however, top seed Medvedev may have to negotiate a tricky assignment against fifth seed Stefanos Tsitsipas in the quarter-finals.\\nNadal has won both of his meetings with Medvedev this year, winning an epic Australian Open final before claiming victory at the Mexican Open last month.\\nMedvedev has never won Indian Wells, and was eliminated in the last 16 at last year’s tournament.\\nFourth seed Nadal meanwhile is a three-time victor at the Californian showpiece, and will be playing the tournament for the first time since 2019.\\nThe 35-year-old Spaniard reached the semi-finals or better in eight straight appearances at the tournament between 2006 and 2013.\\nNadal, who joins the fray in Saturday’s second round, could face Sebastian Korda in his opening game.'"
      ]
     },
     "execution_count": 99,
     "metadata": {},
     "output_type": "execute_result"
    }
   ],
   "source": [
    "text"
   ]
  },
  {
   "cell_type": "code",
   "execution_count": null,
   "id": "06472966-18e2-4b37-8ee9-2288108f9cf5",
   "metadata": {},
   "outputs": [],
   "source": []
  },
  {
   "cell_type": "code",
   "execution_count": 3,
   "id": "fd5ca6b8-1f0f-4378-b675-83672bcd190a",
   "metadata": {},
   "outputs": [
    {
     "name": "stdout",
     "output_type": "stream",
     "text": [
      "{'pipeline': 'entity,quote,supersense,event,coref', 'model': 'small'}\n",
      "--- startup: 10.040 seconds ---\n"
     ]
    }
   ],
   "source": [
    "from booknlp.booknlp import BookNLP\n",
    "\n",
    "model_params={\n",
    "\t\t\"pipeline\":\"entity,quote,supersense,event,coref\", \n",
    "\t\t\"model\":\"small\"\n",
    "\t}\n",
    "\t\n",
    "booknlp=BookNLP(\"en\", model_params)"
   ]
  },
  {
   "cell_type": "code",
   "execution_count": 103,
   "id": "347b2b46-9608-4667-a2ff-90d89dff033e",
   "metadata": {},
   "outputs": [],
   "source": [
    "input_file = Path(\"/root/news/notebooks/input_file.txt\")\n",
    "with input_file.open(\"a\") as f:\n",
    "    f.write(text)"
   ]
  },
  {
   "cell_type": "code",
   "execution_count": 1,
   "id": "64f6891a-86a6-4a4c-a656-5c538ac18b61",
   "metadata": {},
   "outputs": [],
   "source": [
    "#print(text)"
   ]
  },
  {
   "cell_type": "code",
   "execution_count": null,
   "id": "228794ea-d3bc-47e3-8025-d5cf3436b430",
   "metadata": {},
   "outputs": [],
   "source": []
  },
  {
   "cell_type": "code",
   "execution_count": 5,
   "id": "a49ae20e-4fdc-44c3-a41e-e20e78eff806",
   "metadata": {},
   "outputs": [
    {
     "name": "stdout",
     "output_type": "stream",
     "text": [
      "--- spacy: 0.089 seconds ---\n",
      "--- entities: 3.010 seconds ---\n",
      "--- quotes: 0.001 seconds ---\n",
      "--- attribution: 0.275 seconds ---\n",
      "--- name coref: 0.001 seconds ---\n",
      "--- coref: 3.093 seconds ---\n",
      "--- TOTAL (excl. startup): 6.474 seconds ---, 456 words\n"
     ]
    }
   ],
   "source": [
    "inputFile=\"208_daisy_miller.txt\"\n",
    "outputDir=\"208_daisy_miller/\"\n",
    "idd=\"208_daisy_miller\"\n",
    "\n",
    "booknlp.process(\"/root/news/notebooks/input_file.txt\", \"/root/news/output/\", \"case_1\")"
   ]
  },
  {
   "cell_type": "code",
   "execution_count": 60,
   "id": "340aeb95-c6de-4a3c-aa31-c26f47d3ed48",
   "metadata": {},
   "outputs": [],
   "source": [
    "entities = pd.read_csv(\"booknlp_test.entities\", sep=\"\\t\")"
   ]
  },
  {
   "cell_type": "code",
   "execution_count": 106,
   "id": "4d577149-7b43-4510-9eab-76d706ca4a78",
   "metadata": {},
   "outputs": [],
   "source": [
    "quotes = pd.read_csv(\"booknlp_test.quotes\", sep=\"\\t\")"
   ]
  },
  {
   "cell_type": "code",
   "execution_count": 64,
   "id": "aea418e8-abde-4a9a-8d33-7cc795685699",
   "metadata": {},
   "outputs": [],
   "source": [
    "tokens = pd.read_csv(\"booknlp_test.tokens\", sep=\"\\t\")"
   ]
  },
  {
   "cell_type": "code",
   "execution_count": 107,
   "id": "bfde7536-8cc0-4984-bbe8-d9697a42358d",
   "metadata": {},
   "outputs": [
    {
     "data": {
      "text/html": [
       "<div>\n",
       "<style scoped>\n",
       "    .dataframe tbody tr th:only-of-type {\n",
       "        vertical-align: middle;\n",
       "    }\n",
       "\n",
       "    .dataframe tbody tr th {\n",
       "        vertical-align: top;\n",
       "    }\n",
       "\n",
       "    .dataframe thead th {\n",
       "        text-align: right;\n",
       "    }\n",
       "</style>\n",
       "<table border=\"1\" class=\"dataframe\">\n",
       "  <thead>\n",
       "    <tr style=\"text-align: right;\">\n",
       "      <th></th>\n",
       "      <th>quote_start</th>\n",
       "      <th>quote_end</th>\n",
       "      <th>mention_start</th>\n",
       "      <th>mention_end</th>\n",
       "      <th>mention_phrase</th>\n",
       "      <th>char_id</th>\n",
       "      <th>quote</th>\n",
       "    </tr>\n",
       "  </thead>\n",
       "  <tbody>\n",
       "    <tr>\n",
       "      <th>0</th>\n",
       "      <td>82</td>\n",
       "      <td>101</td>\n",
       "      <td>102</td>\n",
       "      <td>103</td>\n",
       "      <td>tournament chiefs</td>\n",
       "      <td>17</td>\n",
       "      <td>“ Novak Djokovic is on the tournament entry li...</td>\n",
       "    </tr>\n",
       "    <tr>\n",
       "      <th>1</th>\n",
       "      <td>106</td>\n",
       "      <td>139</td>\n",
       "      <td>102</td>\n",
       "      <td>103</td>\n",
       "      <td>tournament chiefs</td>\n",
       "      <td>17</td>\n",
       "      <td>“ We are currently in communication with his t...</td>\n",
       "    </tr>\n",
       "  </tbody>\n",
       "</table>\n",
       "</div>"
      ],
      "text/plain": [
       "   quote_start  quote_end  mention_start  mention_end     mention_phrase  \\\n",
       "0           82        101            102          103  tournament chiefs   \n",
       "1          106        139            102          103  tournament chiefs   \n",
       "\n",
       "   char_id                                              quote  \n",
       "0       17  “ Novak Djokovic is on the tournament entry li...  \n",
       "1       17  “ We are currently in communication with his t...  "
      ]
     },
     "execution_count": 107,
     "metadata": {},
     "output_type": "execute_result"
    }
   ],
   "source": [
    "quotes"
   ]
  },
  {
   "cell_type": "code",
   "execution_count": 79,
   "id": "1cc9e16d-6484-45f6-b8d4-e26ae58f80f3",
   "metadata": {},
   "outputs": [
    {
     "data": {
      "text/plain": [
       "paragraph_ID                   0\n",
       "sentence_ID                    0\n",
       "token_ID_within_sentence      15\n",
       "token_ID_within_document      15\n",
       "word                         its\n",
       "lemma                        its\n",
       "byte_onset                    92\n",
       "byte_offset                   95\n",
       "POS_tag                     PRON\n",
       "fine_POS_tag                PRP$\n",
       "dependency_relation         poss\n",
       "syntactic_head_ID             16\n",
       "event                          O\n",
       "Name: 15, dtype: object"
      ]
     },
     "execution_count": 79,
     "metadata": {},
     "output_type": "execute_result"
    }
   ],
   "source": [
    "tokens.loc[15]"
   ]
  },
  {
   "cell_type": "code",
   "execution_count": 82,
   "id": "a6224a10-2808-441b-b83f-532853f1770a",
   "metadata": {},
   "outputs": [],
   "source": [
    "df = entities.groupby(\"cat\")[\"text\"].value_counts()"
   ]
  },
  {
   "cell_type": "code",
   "execution_count": 83,
   "id": "9e539788-0d85-4b16-8e24-58251a8701a6",
   "metadata": {},
   "outputs": [
    {
     "data": {
      "text/plain": [
       "cat  text                                                                         \n",
       "FAC  Beijing 's liaison office in Macau                                               1\n",
       "     home                                                                             1\n",
       "GPE  China                                                                            8\n",
       "     Beijing                                                                          3\n",
       "     Washington                                                                       3\n",
       "     the United States                                                                3\n",
       "     South China                                                                      2\n",
       "     Asia                                                                             1\n",
       "     Europe                                                                           1\n",
       "     Hong Kong                                                                        1\n",
       "     Macau                                                                            1\n",
       "     Western countries                                                                1\n",
       "     his province in southern China                                                   1\n",
       "     other countries                                                                  1\n",
       "     our country                                                                      1\n",
       "     southern China                                                                   1\n",
       "     the US                                                                           1\n",
       "     the southernmost island province Hainan                                          1\n",
       "LOC  the West                                                                         4\n",
       "     the world                                                                        2\n",
       "     a \" turbulent world                                                              1\n",
       "     the East                                                                         1\n",
       "     the East rises                                                                   1\n",
       "ORG  the NPC                                                                          2\n",
       "     the foreign ministry                                                             1\n",
       "PER  our                                                                              5\n",
       "     China                                                                            4\n",
       "     its                                                                              3\n",
       "     its allies                                                                       3\n",
       "     the US                                                                           3\n",
       "     he                                                                               2\n",
       "     his                                                                              2\n",
       "     we                                                                               2\n",
       "     you                                                                              2\n",
       "     Bill Bensley                                                                     1\n",
       "     China 's minister of defence                                                     1\n",
       "     Fu Ying                                                                          1\n",
       "     General Wei Fenghe                                                               1\n",
       "     Guangdong provincial party boss Li Xi , who sits on the 25 - strong Politburo    1\n",
       "     Joanna Jedrzejczyk                                                               1\n",
       "Name: text, dtype: int64"
      ]
     },
     "execution_count": 83,
     "metadata": {},
     "output_type": "execute_result"
    }
   ],
   "source": [
    "df.head(40)"
   ]
  },
  {
   "cell_type": "code",
   "execution_count": 46,
   "id": "46b7db71-5a70-4706-8c5f-9a238b5b292d",
   "metadata": {},
   "outputs": [
    {
     "data": {
      "text/plain": [
       "PosixPath('.')"
      ]
     },
     "execution_count": 46,
     "metadata": {},
     "output_type": "execute_result"
    }
   ],
   "source": [
    "Path(\"input_file.txt\").parent"
   ]
  },
  {
   "cell_type": "code",
   "execution_count": 68,
   "id": "7dca050c-ffb3-4787-b3a0-2e4b1d04a100",
   "metadata": {},
   "outputs": [
    {
     "name": "stdout",
     "output_type": "stream",
     "text": [
      "Minutes released from the weekend's group discussions reveal several mentions of the US and its allies\n",
      "The annual meeting in Beijing is mostly focused on domestic affairs, but Washington is seen as the main source of uncertainty, at home and abroad\n",
      "China's annual government report skipped any mention of the United States, but Washington and its allies are definitely on the minds of the Chinese lawmakers meeting in Beijing this week.\n",
      "While discussions are predominantly focused on domestic affairs, deputies at this year's National People's Congress tend to see the West as in decline, according to meeting minutes made available to journalists.\n",
      "The lawmakers, some of them senior Chinese officials themselves, also see Washington as a main source of domestic and international uncertainties.\n",
      "Do you have questions about the biggest topics and trends from around the world? Get the answers with SCMP Knowledge, our new platform of curated content with explainers, FAQs, analyses and infographics brought to you by our award-winning team.\n",
      "The People's Liberation Army is expected to face \"unprecedented\" confrontation between major powers, said General Wei Fenghe, China's minister of defence, in a Sunday discussion at the NPC.\n",
      "\"Against the backdrop of the decline of the West and the rise of the East, confrontation between major powers is unprecedented and we need to focus on responding to containment and suppression from the outside,\" he said.\n",
      "Wei added that China's national security would be in a period of \"high pressure\" and \"high risks\" in the long term.\n",
      "The officials spoke of a \"turbulent world\" - a view reflected in China's plans to increase defence spending by 7.1 per cent this year, the fastest pace since 2019, announced on Saturday.\n",
      "Qi Yu, party boss at the foreign ministry, said global uncertainties required China to ramp up its diplomatic spending. \"It's necessary for international struggle now, it's also a strategic investment,\" he told the NPC's Tianjin group on Monday.\n",
      "\"It could help facilitate the trend of 'the East rises, the West declines\" and could help our country shape a new global order and improve our international environment.\"\n",
      "Diplomacy did see a budget increase in its annual finance report, also released on Saturday, but at 2.4 per cent it was dwarfed by defence and the 4.7 per cent increase for public security.\n",
      "The focus on alertness against the US and its allies is an indication that China is looking increasingly inward. The annual government report, delivered by Premier Li Keqiang on Saturday, skipped all mention of trade relations with the US and Europe, in a clear departure from past practice.\n",
      "Throughout the annual political gathering of lawmakers and advisers, senior Chinese officials, including President Xi Jinping, have fed the narrative that China is in good order while other countries are stumbling with their difficulties.\n",
      "\"The contrast between the orderly governance of China and the chaos of the West has grown more notable,\" Xi told members of the Chinese People's Political Consultative Conference on Sunday.\n",
      "The tensions with Western countries have even appeared occasionally in discussions of domestic issues, with some calling out the US by name, according to the released minutes.\n",
      "In another Sunday group discussion, Zhang Rongshun, deputy director of Beijing's liaison office in Macau, hailed China's economic performance as \"the best response to containment conducted by the United States and the West\".\n",
      "Also on Sunday, Luo Baoming, former party boss of the southernmost island province Hainan, said the United States was conducting an \"all-round suppression\" on China, while also celebrating last year's economic performance.\n",
      "Guangdong provincial party boss Li Xi, who sits on the 25-strong Politburo, praised his province in southern China for \"steadily handling influence by the Sino-US trade war\" and mitigating various risks.\n",
      "Conciliatory remarks on China's ties with the world were rare but not totally absent.\n",
      "Fu Ying, former foreign vice-minister who now focuses heavily on track two diplomacy with the US, called for the nurturing of a \"stable external environment\" during the Inner Mongolia group's Sunday discussion.\n",
      "\"[We] must ensure our external environment is not overturned or sabotaged, so that we can complete the tasks of domestic development in a relatively peaceful and stable environment in the future,\" she said.\n",
      "More Articles from SCMP\n",
      "Why best hotel in the world designer Bill Bensley now faces his most ambitious project\n",
      "UFC: Joe Rogan says Zhang Weili vs Joanna Jedrzejczyk proves ‘MMA is not a game’\n",
      "‘Two sessions’: top Beijing official says Hong Kong’s high degree of autonomy won’t be undermined by central government\n",
      "This article originally appeared on the South China Morning Post (www.scmp.com), the leading news media reporting on China and Asia.\n",
      "Copyright (c) 2022. South China Morning Post Publishers Ltd. All rights reserved.\n"
     ]
    }
   ],
   "source": [
    "print(text)"
   ]
  },
  {
   "cell_type": "code",
   "execution_count": null,
   "id": "726bbb81-4411-45f7-8da5-c947001ba238",
   "metadata": {},
   "outputs": [],
   "source": []
  },
  {
   "cell_type": "code",
   "execution_count": 15,
   "id": "511d2357-00c4-4539-9498-6042edec5d41",
   "metadata": {},
   "outputs": [],
   "source": [
    "import tempfile\n",
    "from pathlib import Path\n",
    "\n",
    "with tempfile.TemporaryDirectory() as tmp_dir:\n",
    "    dir_path = Path(tmp_dir)\n",
    "    \n",
    "    input_file = dir_path / \"input_file.txt\"\n",
    "    with input_file.open(\"a\") as f:\n",
    "        f.write(text)\n",
    "    \n",
    "    \n",
    "    with open(input_file) as file:\n",
    "        data=file.read()\n",
    "        print(data)"
   ]
  },
  {
   "cell_type": "code",
   "execution_count": 31,
   "id": "6febe3c9-ed1b-48fa-a50d-e19b7964291a",
   "metadata": {},
   "outputs": [
    {
     "name": "stdout",
     "output_type": "stream",
     "text": [
      "Minutes released from the weekend's group discussions reveal several mentions of the US and its allies\n",
      "The annual meeting in Beijing is mostly focused on domestic affairs, but Washington is seen as the main source of uncertainty, at home and abroad\n",
      "China's annual government report skipped any mention of the United States, but Washington and its allies are definitely on the minds of the Chinese lawmakers meeting in Beijing this week.\n",
      "While discussions are predominantly focused on domestic affairs, deputies at this year's National People's Congress tend to see the West as in decline, according to meeting minutes made available to journalists.\n",
      "The lawmakers, some of them senior Chinese officials themselves, also see Washington as a main source of domestic and international uncertainties.\n",
      "Do you have questions about the biggest topics and trends from around the world? Get the answers with SCMP Knowledge, our new platform of curated content with explainers, FAQs, analyses and infographics brought to you by our award-winning team.\n",
      "The People's Liberation Army is expected to face \"unprecedented\" confrontation between major powers, said General Wei Fenghe, China's minister of defence, in a Sunday discussion at the NPC.\n",
      "\"Against the backdrop of the decline of the West and the rise of the East, confrontation between major powers is unprecedented and we need to focus on responding to containment and suppression from the outside,\" he said.\n",
      "Wei added that China's national security would be in a period of \"high pressure\" and \"high risks\" in the long term.\n",
      "The officials spoke of a \"turbulent world\" - a view reflected in China's plans to increase defence spending by 7.1 per cent this year, the fastest pace since 2019, announced on Saturday.\n",
      "Qi Yu, party boss at the foreign ministry, said global uncertainties required China to ramp up its diplomatic spending. \"It's necessary for international struggle now, it's also a strategic investment,\" he told the NPC's Tianjin group on Monday.\n",
      "\"It could help facilitate the trend of 'the East rises, the West declines\" and could help our country shape a new global order and improve our international environment.\"\n",
      "Diplomacy did see a budget increase in its annual finance report, also released on Saturday, but at 2.4 per cent it was dwarfed by defence and the 4.7 per cent increase for public security.\n",
      "The focus on alertness against the US and its allies is an indication that China is looking increasingly inward. The annual government report, delivered by Premier Li Keqiang on Saturday, skipped all mention of trade relations with the US and Europe, in a clear departure from past practice.\n",
      "Throughout the annual political gathering of lawmakers and advisers, senior Chinese officials, including President Xi Jinping, have fed the narrative that China is in good order while other countries are stumbling with their difficulties.\n",
      "\"The contrast between the orderly governance of China and the chaos of the West has grown more notable,\" Xi told members of the Chinese People's Political Consultative Conference on Sunday.\n",
      "The tensions with Western countries have even appeared occasionally in discussions of domestic issues, with some calling out the US by name, according to the released minutes.\n",
      "In another Sunday group discussion, Zhang Rongshun, deputy director of Beijing's liaison office in Macau, hailed China's economic performance as \"the best response to containment conducted by the United States and the West\".\n",
      "Also on Sunday, Luo Baoming, former party boss of the southernmost island province Hainan, said the United States was conducting an \"all-round suppression\" on China, while also celebrating last year's economic performance.\n",
      "Guangdong provincial party boss Li Xi, who sits on the 25-strong Politburo, praised his province in southern China for \"steadily handling influence by the Sino-US trade war\" and mitigating various risks.\n",
      "Conciliatory remarks on China's ties with the world were rare but not totally absent.\n",
      "Fu Ying, former foreign vice-minister who now focuses heavily on track two diplomacy with the US, called for the nurturing of a \"stable external environment\" during the Inner Mongolia group's Sunday discussion.\n",
      "\"[We] must ensure our external environment is not overturned or sabotaged, so that we can complete the tasks of domestic development in a relatively peaceful and stable environment in the future,\" she said.\n",
      "More Articles from SCMP\n",
      "Why best hotel in the world designer Bill Bensley now faces his most ambitious project\n",
      "UFC: Joe Rogan says Zhang Weili vs Joanna Jedrzejczyk proves ‘MMA is not a game’\n",
      "‘Two sessions’: top Beijing official says Hong Kong’s high degree of autonomy won’t be undermined by central government\n",
      "This article originally appeared on the South China Morning Post (www.scmp.com), the leading news media reporting on China and Asia.\n",
      "Copyright (c) 2022. South China Morning Post Publishers Ltd. All rights reserved.\n"
     ]
    }
   ],
   "source": [
    "with tempfile.TemporaryDirectory() as tmp_dir:\n",
    "    dir_path = Path(tmp_dir)\n",
    "    \n",
    "    input_file = dir_path / \"input_file.txt\"\n",
    "    with input_file.open(\"a\") as f:\n",
    "        f.write(text)\n",
    "    \n",
    "    \n",
    "    with open(input_file) as file:\n",
    "        data=file.read()\n",
    "        print(data)"
   ]
  },
  {
   "cell_type": "code",
   "execution_count": 38,
   "id": "45c68f12-a2b4-4601-bd0f-cf39a236f5fc",
   "metadata": {},
   "outputs": [
    {
     "data": {
      "text/plain": [
       "False"
      ]
     },
     "execution_count": 38,
     "metadata": {},
     "output_type": "execute_result"
    }
   ],
   "source": [
    "input_file.exists()"
   ]
  },
  {
   "cell_type": "code",
   "execution_count": 25,
   "id": "b2d17bb3-2afd-4b63-b843-5950614c67ce",
   "metadata": {},
   "outputs": [
    {
     "data": {
      "text/plain": [
       "4"
      ]
     },
     "execution_count": 25,
     "metadata": {},
     "output_type": "execute_result"
    }
   ],
   "source": [
    "fp.write(b\"text\")"
   ]
  },
  {
   "cell_type": "code",
   "execution_count": 27,
   "id": "23fe2040-8f26-419b-974a-f59d56b6e16f",
   "metadata": {},
   "outputs": [
    {
     "data": {
      "text/plain": [
       "'Minutes released from the weekend\\'s group discussions reveal several mentions of the US and its allies\\nThe annual meeting in Beijing is mostly focused on domestic affairs, but Washington is seen as the main source of uncertainty, at home and abroad\\nChina\\'s annual government report skipped any mention of the United States, but Washington and its allies are definitely on the minds of the Chinese lawmakers meeting in Beijing this week.\\nWhile discussions are predominantly focused on domestic affairs, deputies at this year\\'s National People\\'s Congress tend to see the West as in decline, according to meeting minutes made available to journalists.\\nThe lawmakers, some of them senior Chinese officials themselves, also see Washington as a main source of domestic and international uncertainties.\\nDo you have questions about the biggest topics and trends from around the world? Get the answers with SCMP Knowledge, our new platform of curated content with explainers, FAQs, analyses and infographics brought to you by our award-winning team.\\nThe People\\'s Liberation Army is expected to face \"unprecedented\" confrontation between major powers, said General Wei Fenghe, China\\'s minister of defence, in a Sunday discussion at the NPC.\\n\"Against the backdrop of the decline of the West and the rise of the East, confrontation between major powers is unprecedented and we need to focus on responding to containment and suppression from the outside,\" he said.\\nWei added that China\\'s national security would be in a period of \"high pressure\" and \"high risks\" in the long term.\\nThe officials spoke of a \"turbulent world\" - a view reflected in China\\'s plans to increase defence spending by 7.1 per cent this year, the fastest pace since 2019, announced on Saturday.\\nQi Yu, party boss at the foreign ministry, said global uncertainties required China to ramp up its diplomatic spending. \"It\\'s necessary for international struggle now, it\\'s also a strategic investment,\" he told the NPC\\'s Tianjin group on Monday.\\n\"It could help facilitate the trend of \\'the East rises, the West declines\" and could help our country shape a new global order and improve our international environment.\"\\nDiplomacy did see a budget increase in its annual finance report, also released on Saturday, but at 2.4 per cent it was dwarfed by defence and the 4.7 per cent increase for public security.\\nThe focus on alertness against the US and its allies is an indication that China is looking increasingly inward. The annual government report, delivered by Premier Li Keqiang on Saturday, skipped all mention of trade relations with the US and Europe, in a clear departure from past practice.\\nThroughout the annual political gathering of lawmakers and advisers, senior Chinese officials, including President Xi Jinping, have fed the narrative that China is in good order while other countries are stumbling with their difficulties.\\n\"The contrast between the orderly governance of China and the chaos of the West has grown more notable,\" Xi told members of the Chinese People\\'s Political Consultative Conference on Sunday.\\nThe tensions with Western countries have even appeared occasionally in discussions of domestic issues, with some calling out the US by name, according to the released minutes.\\nIn another Sunday group discussion, Zhang Rongshun, deputy director of Beijing\\'s liaison office in Macau, hailed China\\'s economic performance as \"the best response to containment conducted by the United States and the West\".\\nAlso on Sunday, Luo Baoming, former party boss of the southernmost island province Hainan, said the United States was conducting an \"all-round suppression\" on China, while also celebrating last year\\'s economic performance.\\nGuangdong provincial party boss Li Xi, who sits on the 25-strong Politburo, praised his province in southern China for \"steadily handling influence by the Sino-US trade war\" and mitigating various risks.\\nConciliatory remarks on China\\'s ties with the world were rare but not totally absent.\\nFu Ying, former foreign vice-minister who now focuses heavily on track two diplomacy with the US, called for the nurturing of a \"stable external environment\" during the Inner Mongolia group\\'s Sunday discussion.\\n\"[We] must ensure our external environment is not overturned or sabotaged, so that we can complete the tasks of domestic development in a relatively peaceful and stable environment in the future,\" she said.\\nMore Articles from SCMP\\nWhy best hotel in the world designer Bill Bensley now faces his most ambitious project\\nUFC: Joe Rogan says Zhang Weili vs Joanna Jedrzejczyk proves ‘MMA is not a game’\\n‘Two sessions’: top Beijing official says Hong Kong’s high degree of autonomy won’t be undermined by central government\\nThis article originally appeared on the South China Morning Post (www.scmp.com), the leading news media reporting on China and Asia.\\nCopyright (c) 2022. South China Morning Post Publishers Ltd. All rights reserved.'"
      ]
     },
     "execution_count": 27,
     "metadata": {},
     "output_type": "execute_result"
    }
   ],
   "source": [
    "text"
   ]
  },
  {
   "cell_type": "code",
   "execution_count": 98,
   "id": "a30c8c2f-e067-4cfd-90a7-850c1a7900b0",
   "metadata": {},
   "outputs": [],
   "source": [
    "a = list(range(10))"
   ]
  },
  {
   "cell_type": "code",
   "execution_count": 104,
   "id": "28b7687d-6d72-43d4-8612-6283785f0bd1",
   "metadata": {},
   "outputs": [
    {
     "name": "stderr",
     "output_type": "stream",
     "text": [
      "100%|█████████████████████████████████████████████████████████████████████████████████████████████████████████████████████████████████████████████████| 10/10 [00:00<00:00, 18244.04it/s]"
     ]
    },
    {
     "name": "stdout",
     "output_type": "stream",
     "text": [
      "0\n",
      "1\n",
      "2\n",
      "3\n",
      "4\n",
      "5\n",
      "6\n",
      "7\n",
      "8\n",
      "9\n"
     ]
    },
    {
     "name": "stderr",
     "output_type": "stream",
     "text": [
      "\n"
     ]
    }
   ],
   "source": [
    "for i, n in tqdm(enumerate(a), total=len(a)):\n",
    "    print(i)"
   ]
  },
  {
   "cell_type": "code",
   "execution_count": 8,
   "id": "1c2cf4a1-9f69-472a-8c59-474d8097e58e",
   "metadata": {},
   "outputs": [],
   "source": [
    "indexer = AnnLite(dim=768, columns=[('date', datetime), (\"source\", str), (\"lang\", str)], data_path='/root/news/data/db/title_annlite')"
   ]
  },
  {
   "cell_type": "code",
   "execution_count": 108,
   "id": "e8303ffc-488e-4021-86ec-d56d82c7ff2b",
   "metadata": {},
   "outputs": [
    {
     "data": {
      "text/plain": [
       "0"
      ]
     },
     "execution_count": 108,
     "metadata": {},
     "output_type": "execute_result"
    }
   ],
   "source": [
    "200 % 100"
   ]
  },
  {
   "cell_type": "code",
   "execution_count": 59,
   "id": "c994f613-7c05-4a7a-8940-18899b06b90b",
   "metadata": {},
   "outputs": [],
   "source": [
    "doc_q = DocumentArray([doc])"
   ]
  },
  {
   "cell_type": "code",
   "execution_count": 68,
   "id": "87919778-5773-4f8e-bf41-e81983434724",
   "metadata": {},
   "outputs": [],
   "source": [
    "indexer.search(doc_q, filter={\"date\": {\"$gt\": datetime(2022, 3, 9, 6, 30, 0)}}, limit=5)"
   ]
  },
  {
   "cell_type": "code",
   "execution_count": 69,
   "id": "ad780428-5f33-49ec-8ac2-4e81cf48cdf6",
   "metadata": {},
   "outputs": [],
   "source": [
    "for d in doc_q:\n",
    "    break"
   ]
  },
  {
   "cell_type": "code",
   "execution_count": 70,
   "id": "1cfbf472-917f-48c4-ad65-2678742934be",
   "metadata": {},
   "outputs": [
    {
     "name": "stdout",
     "output_type": "stream",
     "text": [
      "{'date': datetime.datetime(2022, 3, 9, 12, 52, 50), 'source': 'www.antaranews.com', 'lang': 'id'}\n",
      "{'date': None, 'source': 'www.gla.ac.uk', 'lang': 'en'}\n",
      "{'date': datetime.datetime(2022, 3, 9, 19, 28, 39), 'source': 'en.antaranews.com', 'lang': 'en'}\n",
      "{'date': None, 'source': 'achi.net', 'lang': 'en'}\n",
      "{'date': datetime.datetime(2022, 3, 9, 19, 29, 10), 'source': 'en.antaranews.com', 'lang': 'en'}\n"
     ]
    }
   ],
   "source": [
    "for match in d.matches:\n",
    "    print( match.tags)"
   ]
  },
  {
   "cell_type": "code",
   "execution_count": 80,
   "id": "6b132229-8dd2-4bb4-bada-e7a62d0b0f1d",
   "metadata": {},
   "outputs": [],
   "source": [
    "from news.db import crud"
   ]
  },
  {
   "cell_type": "code",
   "execution_count": null,
   "id": "a05c8003-6e3d-4027-96b4-7a62fdac718d",
   "metadata": {},
   "outputs": [],
   "source": [
    "crud.article"
   ]
  },
  {
   "cell_type": "code",
   "execution_count": 85,
   "id": "9ba932fc-6642-4720-8ae3-bd8cfa3a4c55",
   "metadata": {},
   "outputs": [
    {
     "data": {
      "text/plain": [
       "1173"
      ]
     },
     "execution_count": 85,
     "metadata": {},
     "output_type": "execute_result"
    }
   ],
   "source": [
    "indexer.index_size"
   ]
  },
  {
   "cell_type": "code",
   "execution_count": 55,
   "id": "65d9b9de-a9c5-4aed-ac43-64be4b225313",
   "metadata": {},
   "outputs": [
    {
     "data": {
      "text/plain": [
       "{'authors': ['Yolanda Redrup', 'Sarah Thompson', 'Kanika Sood'],\n",
       " 'date_download': datetime.datetime(2022, 3, 9, 12, 27, 18),\n",
       " 'date_publish': datetime.datetime(2022, 3, 9, 6, 15, 9),\n",
       " 'language': 'en',\n",
       " 'source_domain': 'www.afr.com'}"
      ]
     },
     "execution_count": 55,
     "metadata": {},
     "output_type": "execute_result"
    }
   ],
   "source": [
    "indexer."
   ]
  },
  {
   "cell_type": "code",
   "execution_count": null,
   "id": "e12b548b-b3ea-48e6-b26e-6955e2c2da10",
   "metadata": {},
   "outputs": [],
   "source": []
  },
  {
   "cell_type": "code",
   "execution_count": 57,
   "id": "709196c3-59b1-4bca-ae9b-a6ab8dfb7ff4",
   "metadata": {},
   "outputs": [
    {
     "data": {
      "text/plain": [
       "datetime.datetime(2022, 3, 9, 6, 30)"
      ]
     },
     "execution_count": 57,
     "metadata": {},
     "output_type": "execute_result"
    }
   ],
   "source": [
    "datetime(2022, 3, 9, 6, 30, 0)"
   ]
  },
  {
   "cell_type": "code",
   "execution_count": 22,
   "id": "c892a137-4f24-4179-bbf5-e108413fbf0e",
   "metadata": {},
   "outputs": [],
   "source": [
    "indexer.search(doc_q, limit=5)"
   ]
  },
  {
   "cell_type": "code",
   "execution_count": 43,
   "id": "27be2072-2836-498f-a4b2-1575ac135a15",
   "metadata": {},
   "outputs": [],
   "source": [
    "da = DocumentArray(da_store, copy=True)"
   ]
  },
  {
   "cell_type": "code",
   "execution_count": 72,
   "id": "0dd89f6d-708a-4e2c-9e8d-7fb389f8c388",
   "metadata": {},
   "outputs": [],
   "source": [
    "da_sections = da[\"@c\"].split_by_tag(\"section\")"
   ]
  },
  {
   "cell_type": "code",
   "execution_count": 73,
   "id": "17bd98f5-382c-4f7a-a64d-931f59c306ac",
   "metadata": {},
   "outputs": [],
   "source": [
    "da_title = da_sections[\"title\"]"
   ]
  },
  {
   "cell_type": "code",
   "execution_count": 17,
   "id": "95eb82ce-8df3-4f90-b71a-b79fbc8ee798",
   "metadata": {},
   "outputs": [
    {
     "data": {
      "text/plain": [
       "0.015345268542199489"
      ]
     },
     "execution_count": 17,
     "metadata": {},
     "output_type": "execute_result"
    }
   ],
   "source": [
    "sum(np.array(da_sections[\"title\"].texts) == '') / len(da_descr) "
   ]
  },
  {
   "cell_type": "code",
   "execution_count": 6,
   "id": "b069d827-a051-4d13-baae-f907c7e5e0e3",
   "metadata": {},
   "outputs": [],
   "source": [
    "model = SentenceTransformer('sentence-transformers/paraphrase-xlm-r-multilingual-v1')"
   ]
  },
  {
   "cell_type": "code",
   "execution_count": 7,
   "id": "e3c7402c-ba42-4335-95ec-c960428b5bbd",
   "metadata": {},
   "outputs": [
    {
     "data": {
      "text/plain": [
       "(768,)"
      ]
     },
     "execution_count": 7,
     "metadata": {},
     "output_type": "execute_result"
    }
   ],
   "source": [
    "model.encode(\"text\").shape"
   ]
  },
  {
   "cell_type": "code",
   "execution_count": 92,
   "id": "7ffd7631-eb77-4069-8e56-312865fa1926",
   "metadata": {},
   "outputs": [],
   "source": [
    "indexer.index(docs_ann)"
   ]
  },
  {
   "cell_type": "code",
   "execution_count": 93,
   "id": "db931f3c-d942-4150-86f0-f92dd4218c04",
   "metadata": {},
   "outputs": [
    {
     "data": {
      "text/plain": [
       "1179"
      ]
     },
     "execution_count": 93,
     "metadata": {},
     "output_type": "execute_result"
    }
   ],
   "source": [
    "indexer.index_size"
   ]
  },
  {
   "cell_type": "code",
   "execution_count": 75,
   "id": "845caaf4-70a3-4420-b85e-de80116ec8a6",
   "metadata": {},
   "outputs": [],
   "source": [
    "da.embeddings = model.encode(da_title.texts)"
   ]
  },
  {
   "cell_type": "code",
   "execution_count": null,
   "id": "e4c70f26-57e5-40a2-a384-1219ea989701",
   "metadata": {},
   "outputs": [],
   "source": []
  },
  {
   "cell_type": "code",
   "execution_count": 30,
   "id": "165d4927-9982-4c29-85ee-e1fc932fd11c",
   "metadata": {},
   "outputs": [],
   "source": [
    "D = len(da_title[0].embedding)"
   ]
  },
  {
   "cell_type": "code",
   "execution_count": 42,
   "id": "a0712cd8-a679-4770-b033-7dbc3ca00bc6",
   "metadata": {},
   "outputs": [
    {
     "data": {
      "text/plain": [
       "{'authors': ['Yolanda Redrup', 'Sarah Thompson', 'Kanika Sood'],\n",
       " 'date_download': datetime.datetime(2022, 3, 9, 12, 27, 18),\n",
       " 'date_publish': datetime.datetime(2022, 3, 9, 6, 15, 9),\n",
       " 'language': 'en',\n",
       " 'source_domain': 'www.afr.com'}"
      ]
     },
     "execution_count": 42,
     "metadata": {},
     "output_type": "execute_result"
    }
   ],
   "source": [
    "da[0].tags"
   ]
  },
  {
   "cell_type": "code",
   "execution_count": 43,
   "id": "597dea87-695d-4ac3-a682-b817485416e5",
   "metadata": {},
   "outputs": [
    {
     "data": {
      "text/plain": [
       "'1'"
      ]
     },
     "execution_count": 43,
     "metadata": {},
     "output_type": "execute_result"
    }
   ],
   "source": [
    "da[0].id"
   ]
  },
  {
   "cell_type": "code",
   "execution_count": 45,
   "id": "83d9c32f-9405-4852-ae6b-542297bc02ed",
   "metadata": {},
   "outputs": [
    {
     "data": {
      "text/plain": [
       "'53648e4a9fa511ecaa8cd910485b4726'"
      ]
     },
     "execution_count": 45,
     "metadata": {},
     "output_type": "execute_result"
    }
   ],
   "source": [
    "da_title[0].id"
   ]
  },
  {
   "cell_type": "code",
   "execution_count": 46,
   "id": "66426a4a-7c79-495e-a24b-4b43c93affb3",
   "metadata": {},
   "outputs": [],
   "source": [
    "for d in da:\n",
    "    break"
   ]
  },
  {
   "cell_type": "code",
   "execution_count": 48,
   "id": "3ab39946-1e8e-4922-bda6-67362c056660",
   "metadata": {},
   "outputs": [
    {
     "data": {
      "text/html": [
       "<pre style=\"white-space:pre;overflow-x:auto;line-height:normal;font-family:Menlo,'DejaVu Sans Mono',consolas,'Courier New',monospace\"><span style=\"font-style: italic\">                  Documents Summary                   </span>\n",
       "                                                      \n",
       "  Length                    1173                      \n",
       "  Homogenous Documents      True                      \n",
       "  Has nested Documents in   ('chunks',)               \n",
       "  Common Attributes         ('id', 'tags', 'chunks')  \n",
       "                                                      \n",
       "<span style=\"font-style: italic\">                        Attributes Summary                        </span>\n",
       "                                                                  \n",
       " <span style=\"font-weight: bold\"> Attribute </span> <span style=\"font-weight: bold\"> Data type       </span> <span style=\"font-weight: bold\"> #Unique values </span> <span style=\"font-weight: bold\"> Has empty value </span> \n",
       " ──────────────────────────────────────────────────────────────── \n",
       "  chunks      ('ChunkArray',)   1173             False            \n",
       "  id          ('str',)          1173             False            \n",
       "  tags        ('dict',)         1173             False            \n",
       "                                                                  \n",
       "</pre>\n"
      ],
      "text/plain": [
       "\u001b[3m                  Documents Summary                   \u001b[0m\n",
       "                                                      \n",
       "  Length                    1173                      \n",
       "  Homogenous Documents      True                      \n",
       "  Has nested Documents in   ('chunks',)               \n",
       "  Common Attributes         ('id', 'tags', 'chunks')  \n",
       "                                                      \n",
       "\u001b[3m                        Attributes Summary                        \u001b[0m\n",
       "                                                                  \n",
       " \u001b[1m \u001b[0m\u001b[1mAttribute\u001b[0m\u001b[1m \u001b[0m \u001b[1m \u001b[0m\u001b[1mData type      \u001b[0m\u001b[1m \u001b[0m \u001b[1m \u001b[0m\u001b[1m#Unique values\u001b[0m\u001b[1m \u001b[0m \u001b[1m \u001b[0m\u001b[1mHas empty value\u001b[0m\u001b[1m \u001b[0m \n",
       " ──────────────────────────────────────────────────────────────── \n",
       "  chunks      ('ChunkArray',)   1173             False            \n",
       "  id          ('str',)          1173             False            \n",
       "  tags        ('dict',)         1173             False            \n",
       "                                                                  \n"
      ]
     },
     "metadata": {},
     "output_type": "display_data"
    }
   ],
   "source": [
    "da.embeddings"
   ]
  },
  {
   "cell_type": "code",
   "execution_count": 52,
   "id": "1d93e7a5-32c5-4d36-b806-951d7d94e3d8",
   "metadata": {},
   "outputs": [
    {
     "data": {
      "text/plain": [
       "{'authors': ['Yolanda Redrup', 'Sarah Thompson', 'Kanika Sood'],\n",
       " 'date_download': datetime.datetime(2022, 3, 9, 12, 27, 18),\n",
       " 'date_publish': datetime.datetime(2022, 3, 9, 6, 15, 9),\n",
       " 'language': 'en',\n",
       " 'source_domain': 'www.afr.com'}"
      ]
     },
     "execution_count": 52,
     "metadata": {},
     "output_type": "execute_result"
    }
   ],
   "source": [
    "d.tags"
   ]
  },
  {
   "cell_type": "code",
   "execution_count": 82,
   "id": "3f40cc0c-fab0-49b4-88a3-c606310e7221",
   "metadata": {},
   "outputs": [],
   "source": [
    "def get_section_texts(da, section):\n",
    "    bool_index = np.array(da[\"@c\", \"tags__section\"]) == section\n",
    "    return da[\"@c\"][bool_index].texts"
   ]
  },
  {
   "cell_type": "code",
   "execution_count": 113,
   "id": "1bf064e1-fc70-4990-98ac-144edb9d86a6",
   "metadata": {},
   "outputs": [
    {
     "name": "stdout",
     "output_type": "stream",
     "text": [
      "CPU times: user 5min 46s, sys: 342 ms, total: 5min 47s\n",
      "Wall time: 1min 29s\n"
     ]
    }
   ],
   "source": [
    "%%time\n",
    "texts = get_section_texts(da=da, section=\"title\")\n",
    "da.embeddings = model.encode(texts)"
   ]
  },
  {
   "cell_type": "code",
   "execution_count": 15,
   "id": "437fd30c-8e6b-4bf1-9372-4a708d6ec79d",
   "metadata": {},
   "outputs": [],
   "source": [
    "def get_section_text(doc, section):\n",
    "    texts = doc.chunks.split_by_tag(\"section\")[section].texts\n",
    "    return texts[0]"
   ]
  },
  {
   "cell_type": "code",
   "execution_count": 114,
   "id": "67013436-c661-4e9e-b8ef-448f34ca7543",
   "metadata": {},
   "outputs": [
    {
     "name": "stdout",
     "output_type": "stream",
     "text": [
      "CPU times: user 7min 50s, sys: 792 ms, total: 7min 51s\n",
      "Wall time: 2min\n"
     ]
    }
   ],
   "source": [
    "%%time\n",
    "embeddings = []\n",
    "for d in da:\n",
    "    text = get_section_text(doc=d, section=\"title\")\n",
    "    embedding = model.encode(text)\n",
    "    embeddings.append(embedding)"
   ]
  },
  {
   "cell_type": "code",
   "execution_count": null,
   "id": "4048a863-0216-4bea-b746-6608143ae034",
   "metadata": {},
   "outputs": [],
   "source": [
    "da[0].e"
   ]
  },
  {
   "cell_type": "code",
   "execution_count": 89,
   "id": "7e5dbaca-85b1-4927-86e9-6dc853c9a50f",
   "metadata": {},
   "outputs": [
    {
     "data": {
      "text/plain": [
       "'new_docs_1'"
      ]
     },
     "execution_count": 89,
     "metadata": {},
     "output_type": "execute_result"
    }
   ],
   "source": [
    "docs_ann[0].id"
   ]
  },
  {
   "cell_type": "code",
   "execution_count": 87,
   "id": "ebd2127d-0f68-463d-a2d2-0ec84b6713fa",
   "metadata": {},
   "outputs": [],
   "source": [
    "docs_ann = DocumentArray(docs_ann)"
   ]
  },
  {
   "cell_type": "code",
   "execution_count": 86,
   "id": "5126cff8-f128-492b-b90d-d4675d572d96",
   "metadata": {},
   "outputs": [],
   "source": [
    "docs_ann = []\n",
    "for i, d in enumerate(da):\n",
    "    text = get_section_text(doc=d, section=\"title\")\n",
    "    embedding = model.encode(\"testing test\")\n",
    "    \n",
    "    doc = Document(id=f\"new_docs_{d.id}\", embedding=embedding, tags={'date': d.tags[\"date_publish\"], \"source\": d.tags[\"source_domain\"], \"lang\": d.tags[\"language\"]})\n",
    "    \n",
    "    \n",
    "    docs_ann.append(doc)\n",
    "    \n",
    "    if i == 5:\n",
    "        break\n",
    "    \n",
    "#docs_ann = DocumentArray(docs_ann)"
   ]
  },
  {
   "cell_type": "code",
   "execution_count": null,
   "id": "40126dd5-eab8-4880-b70d-1db176495e2b",
   "metadata": {},
   "outputs": [],
   "source": [
    "date_publish, language, source_domain"
   ]
  },
  {
   "cell_type": "code",
   "execution_count": 150,
   "id": "888aab77-68d1-4de3-ab6e-5e0d3a654398",
   "metadata": {},
   "outputs": [],
   "source": [
    "indexer = AnnLite(dim=D, columns=[('date', datetime), (\"source\", str), (\"lang\", str)], data_path='/root/news/data/db/title_annlite')"
   ]
  },
  {
   "cell_type": "code",
   "execution_count": 151,
   "id": "f79f08bc-db23-49b0-9beb-329e057b2d87",
   "metadata": {},
   "outputs": [],
   "source": [
    "indexer.index(docs_ann)"
   ]
  },
  {
   "cell_type": "code",
   "execution_count": null,
   "id": "c13c32a2-72fe-4369-a9a0-1680dc06fd1a",
   "metadata": {},
   "outputs": [],
   "source": []
  },
  {
   "cell_type": "code",
   "execution_count": null,
   "id": "da4e2b0d-e9fa-4956-baf0-6f55f1ca0544",
   "metadata": {},
   "outputs": [],
   "source": []
  },
  {
   "cell_type": "code",
   "execution_count": null,
   "id": "e5729e08-004f-439c-ab9b-618ed7787434",
   "metadata": {},
   "outputs": [],
   "source": []
  },
  {
   "cell_type": "code",
   "execution_count": null,
   "id": "8477805a-6897-41ac-946e-f2801490b624",
   "metadata": {},
   "outputs": [],
   "source": []
  },
  {
   "cell_type": "code",
   "execution_count": 109,
   "id": "6874063d-8286-4be1-8730-95b5dc9947bc",
   "metadata": {},
   "outputs": [],
   "source": [
    " = d.chunks.split_by_tag(\"section\")[\"title\"].texts"
   ]
  },
  {
   "cell_type": "code",
   "execution_count": 110,
   "id": "78b6c981-3d86-4a03-a69c-f867dd7f0513",
   "metadata": {},
   "outputs": [
    {
     "data": {
      "text/plain": [
       "['Rat u Ukrajini uživo: Putin potpisao ukaz! Zabrana uvoza ruske nafte izazvala bi haos u Nemačkoj!']"
      ]
     },
     "execution_count": 110,
     "metadata": {},
     "output_type": "execute_result"
    }
   ],
   "source": [
    "for d in da:\n",
    "    embedding = "
   ]
  },
  {
   "cell_type": "code",
   "execution_count": 142,
   "id": "af571b6a-c937-495d-8a33-a064bfba380f",
   "metadata": {},
   "outputs": [
    {
     "data": {
      "text/plain": [
       "{'authors': [],\n",
       " 'date_download': datetime.datetime(2022, 3, 9, 12, 29, 22),\n",
       " 'date_publish': datetime.datetime(2022, 2, 26, 0, 0),\n",
       " 'language': 'sr',\n",
       " 'source_domain': 'naslovi.net'}"
      ]
     },
     "execution_count": 142,
     "metadata": {},
     "output_type": "execute_result"
    }
   ],
   "source": [
    "d.tags"
   ]
  },
  {
   "cell_type": "code",
   "execution_count": 86,
   "id": "99b54a3f-5070-41d3-a8ce-2c1d36b92072",
   "metadata": {},
   "outputs": [],
   "source": [
    "r = []\n",
    "for d, t in zip(da, texts):\n",
    "    text = d.chunks.split_by_tag(\"section\")[\"title\"].texts[0]\n",
    "    r.append(text == t)"
   ]
  },
  {
   "cell_type": "code",
   "execution_count": 88,
   "id": "44d61681-afbc-4bb7-9ed3-1bb764de88e7",
   "metadata": {},
   "outputs": [
    {
     "data": {
      "text/plain": [
       "True"
      ]
     },
     "execution_count": 88,
     "metadata": {},
     "output_type": "execute_result"
    }
   ],
   "source": [
    "all(r)"
   ]
  },
  {
   "cell_type": "code",
   "execution_count": null,
   "id": "0a5d1150-7849-4da7-9ec1-8af83da9373c",
   "metadata": {},
   "outputs": [],
   "source": []
  },
  {
   "cell_type": "code",
   "execution_count": 75,
   "id": "a29e364f-09f4-4a11-bbc8-a530e7e83b46",
   "metadata": {},
   "outputs": [
    {
     "data": {
      "text/plain": [
       "(768,)"
      ]
     },
     "execution_count": 75,
     "metadata": {},
     "output_type": "execute_result"
    }
   ],
   "source": [
    "model.encode(d.chunks.split_by_tag(\"section\")[\"title\"].texts[0]).shape"
   ]
  },
  {
   "cell_type": "code",
   "execution_count": 63,
   "id": "a8634046-54bc-4d7b-81e5-425e85a3d6af",
   "metadata": {},
   "outputs": [],
   "source": [
    "texts = da[\"@c\"][bool_index].texts"
   ]
  },
  {
   "cell_type": "code",
   "execution_count": 64,
   "id": "47571246-08d2-472b-8666-89f57dcbabaf",
   "metadata": {},
   "outputs": [
    {
     "data": {
      "text/plain": [
       "['UBS promotes Nick Brown to APAC M&A co-head',\n",
       " 'Initiatives approved to help flood affected residents and businesses',\n",
       " 'China lawmakers have West’s decline on their minds at ‘two sessions’',\n",
       " 'a fresh crossover for the C-segment',\n",
       " 'US-31 to Get Facelift South of Holland',\n",
       " 'Djokovic entered on Indian Wells draw but status unclear',\n",
       " 'EU Citizens Leaving Hong Kong Massively Due to Stringent COVID-19 Measures',\n",
       " 'Actor Aaron Aziz delays surgery for tumour, enduring chronic pain',\n",
       " 'Australia to declare east coast floods a national emergency',\n",
       " 'MSN',\n",
       " \"Disney CEO Addresses 'Don't Say Gay' FL Bill After Calls for Response\",\n",
       " 'New York Times pulls Russia news team over new law',\n",
       " 'Dewan Rakyat Speaker rejects call to discipline Najib, says he extended ex-PM’s time to explain 1MDB debt remark in Parliament',\n",
       " 'Why court sacked Gov Umahi, Deputy, 16 lawmakers',\n",
       " \"Lisa Curry arrives at a funeral home with her husband Mark Tabone following mother's death\",\n",
       " 'Royal Victoria Country Park will host the Walk For Hope',\n",
       " 'Kangaroo Island’s most luxurious accommodation',\n",
       " 'Death - Structure fire at Humpty Doo',\n",
       " \"Agenda of visit of UK Prime Minister's Trade Envoy for Azerb...\",\n",
       " 'Army ordered to respond quickly to potential Armenian provoc...']"
      ]
     },
     "execution_count": 64,
     "metadata": {},
     "output_type": "execute_result"
    }
   ],
   "source": [
    "texts[:20]"
   ]
  },
  {
   "cell_type": "code",
   "execution_count": null,
   "id": "10800a38-4d7a-4a13-89ae-851efb7a3e03",
   "metadata": {},
   "outputs": [],
   "source": []
  },
  {
   "cell_type": "code",
   "execution_count": null,
   "id": "689ff9dd-19f4-440f-9c76-7670dcb09bd7",
   "metadata": {},
   "outputs": [],
   "source": [
    "indexer = AnnLite(dim=D, columns=[('price', float)], data_path='./workspace_data')"
   ]
  },
  {
   "cell_type": "code",
   "execution_count": null,
   "id": "6a15b7e4-39ab-4b79-9901-74d946cf7d20",
   "metadata": {},
   "outputs": [],
   "source": []
  },
  {
   "cell_type": "code",
   "execution_count": null,
   "id": "46da0276-7bf6-453a-b996-0532a8a49ad8",
   "metadata": {},
   "outputs": [],
   "source": [
    "da_title_s.embeddings = model.encode(da_title_s.texts)\n",
    "crud.article.url_exists(url=\"asddaf sadf dasfaf\")"
   ]
  },
  {
   "cell_type": "code",
   "execution_count": null,
   "id": "163c6996-54f7-407a-889d-e67f418122b2",
   "metadata": {},
   "outputs": [],
   "source": [
    "model = SentenceTransformer('sentence-transformers/paraphrase-xlm-r-multilingual-v1')"
   ]
  },
  {
   "cell_type": "code",
   "execution_count": null,
   "id": "8daaaa7a-688b-4470-ae79-819d0ea5b1ea",
   "metadata": {},
   "outputs": [],
   "source": []
  },
  {
   "cell_type": "code",
   "execution_count": null,
   "id": "204b732d-efb7-4a41-8491-17ca1bb2e4a6",
   "metadata": {},
   "outputs": [],
   "source": []
  }
 ],
 "metadata": {
  "kernelspec": {
   "display_name": "Python 3 (ipykernel)",
   "language": "python",
   "name": "python3"
  },
  "language_info": {
   "codemirror_mode": {
    "name": "ipython",
    "version": 3
   },
   "file_extension": ".py",
   "mimetype": "text/x-python",
   "name": "python",
   "nbconvert_exporter": "python",
   "pygments_lexer": "ipython3",
   "version": "3.8.10"
  }
 },
 "nbformat": 4,
 "nbformat_minor": 5
}
