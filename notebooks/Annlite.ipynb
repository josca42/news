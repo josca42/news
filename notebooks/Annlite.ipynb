{
 "cells": [
  {
   "cell_type": "code",
   "execution_count": 1,
   "id": "66fea5d2-9e90-47ac-84ca-1467c3e109b2",
   "metadata": {},
   "outputs": [],
   "source": [
    "%load_ext autoreload\n",
    "%autoreload 2"
   ]
  },
  {
   "cell_type": "code",
   "execution_count": 103,
   "id": "10a7b7c7-8525-4bcc-904c-13d60cb00c7c",
   "metadata": {},
   "outputs": [],
   "source": [
    "from sentence_transformers import SentenceTransformer\n",
    "from news.doc.db import doc_store\n",
    "from annlite import AnnLite\n",
    "import pandas as pd\n",
    "from docarray import Document, DocumentArray\n",
    "import numpy as np\n",
    "from datetime import datetime\n",
    "from tqdm import tqdm"
   ]
  },
  {
   "cell_type": "code",
   "execution_count": 97,
   "id": "9aafa487-b8bd-4c7f-a627-618feb85d4d7",
   "metadata": {},
   "outputs": [
    {
     "name": "stdout",
     "output_type": "stream",
     "text": [
      " <Document ('id', 'tags', 'chunks') at 4>\n",
      "    └─ chunks\n",
      "          ├─ <Document ('id', 'parent_id', 'granularity', 'text', 'tags') at 53648e599fa511ecaa8cd910485b4726>\n",
      "          ├─ <Document ('id', 'parent_id', 'granularity', 'tags') at 53648e5a9fa511ecaa8cd910485b4726>\n",
      "          ├─ <Document ('id', 'parent_id', 'granularity', 'text', 'tags') at 53648e5b9fa511ecaa8cd910485b4726>\n",
      "          └─ <Document ('id', 'parent_id', 'granularity', 'tags', 'modality') at 53648e5c9fa511ecaa8cd910485b4726>\n"
     ]
    }
   ],
   "source": [
    "da_store[\"4\"]"
   ]
  },
  {
   "cell_type": "code",
   "execution_count": 98,
   "id": "a30c8c2f-e067-4cfd-90a7-850c1a7900b0",
   "metadata": {},
   "outputs": [],
   "source": [
    "a = list(range(10))"
   ]
  },
  {
   "cell_type": "code",
   "execution_count": 104,
   "id": "28b7687d-6d72-43d4-8612-6283785f0bd1",
   "metadata": {},
   "outputs": [
    {
     "name": "stderr",
     "output_type": "stream",
     "text": [
      "100%|█████████████████████████████████████████████████████████████████████████████████████████████████████████████████████████████████████████████████| 10/10 [00:00<00:00, 18244.04it/s]"
     ]
    },
    {
     "name": "stdout",
     "output_type": "stream",
     "text": [
      "0\n",
      "1\n",
      "2\n",
      "3\n",
      "4\n",
      "5\n",
      "6\n",
      "7\n",
      "8\n",
      "9\n"
     ]
    },
    {
     "name": "stderr",
     "output_type": "stream",
     "text": [
      "\n"
     ]
    }
   ],
   "source": [
    "for i, n in tqdm(enumerate(a), total=len(a)):\n",
    "    print(i)"
   ]
  },
  {
   "cell_type": "code",
   "execution_count": 8,
   "id": "1c2cf4a1-9f69-472a-8c59-474d8097e58e",
   "metadata": {},
   "outputs": [],
   "source": [
    "indexer = AnnLite(dim=768, columns=[('date', datetime), (\"source\", str), (\"lang\", str)], data_path='/root/news/data/db/title_annlite')"
   ]
  },
  {
   "cell_type": "code",
   "execution_count": 108,
   "id": "e8303ffc-488e-4021-86ec-d56d82c7ff2b",
   "metadata": {},
   "outputs": [
    {
     "data": {
      "text/plain": [
       "0"
      ]
     },
     "execution_count": 108,
     "metadata": {},
     "output_type": "execute_result"
    }
   ],
   "source": [
    "200 % 100"
   ]
  },
  {
   "cell_type": "code",
   "execution_count": 59,
   "id": "c994f613-7c05-4a7a-8940-18899b06b90b",
   "metadata": {},
   "outputs": [],
   "source": [
    "doc_q = DocumentArray([doc])"
   ]
  },
  {
   "cell_type": "code",
   "execution_count": 68,
   "id": "87919778-5773-4f8e-bf41-e81983434724",
   "metadata": {},
   "outputs": [],
   "source": [
    "indexer.search(doc_q, filter={\"date\": {\"$gt\": datetime(2022, 3, 9, 6, 30, 0)}}, limit=5)"
   ]
  },
  {
   "cell_type": "code",
   "execution_count": 69,
   "id": "ad780428-5f33-49ec-8ac2-4e81cf48cdf6",
   "metadata": {},
   "outputs": [],
   "source": [
    "for d in doc_q:\n",
    "    break"
   ]
  },
  {
   "cell_type": "code",
   "execution_count": 70,
   "id": "1cfbf472-917f-48c4-ad65-2678742934be",
   "metadata": {},
   "outputs": [
    {
     "name": "stdout",
     "output_type": "stream",
     "text": [
      "{'date': datetime.datetime(2022, 3, 9, 12, 52, 50), 'source': 'www.antaranews.com', 'lang': 'id'}\n",
      "{'date': None, 'source': 'www.gla.ac.uk', 'lang': 'en'}\n",
      "{'date': datetime.datetime(2022, 3, 9, 19, 28, 39), 'source': 'en.antaranews.com', 'lang': 'en'}\n",
      "{'date': None, 'source': 'achi.net', 'lang': 'en'}\n",
      "{'date': datetime.datetime(2022, 3, 9, 19, 29, 10), 'source': 'en.antaranews.com', 'lang': 'en'}\n"
     ]
    }
   ],
   "source": [
    "for match in d.matches:\n",
    "    print( match.tags)"
   ]
  },
  {
   "cell_type": "code",
   "execution_count": 80,
   "id": "6b132229-8dd2-4bb4-bada-e7a62d0b0f1d",
   "metadata": {},
   "outputs": [],
   "source": [
    "from news.db import crud"
   ]
  },
  {
   "cell_type": "code",
   "execution_count": null,
   "id": "a05c8003-6e3d-4027-96b4-7a62fdac718d",
   "metadata": {},
   "outputs": [],
   "source": [
    "crud.article"
   ]
  },
  {
   "cell_type": "code",
   "execution_count": 85,
   "id": "9ba932fc-6642-4720-8ae3-bd8cfa3a4c55",
   "metadata": {},
   "outputs": [
    {
     "data": {
      "text/plain": [
       "1173"
      ]
     },
     "execution_count": 85,
     "metadata": {},
     "output_type": "execute_result"
    }
   ],
   "source": [
    "indexer.index_size"
   ]
  },
  {
   "cell_type": "code",
   "execution_count": 55,
   "id": "65d9b9de-a9c5-4aed-ac43-64be4b225313",
   "metadata": {},
   "outputs": [
    {
     "data": {
      "text/plain": [
       "{'authors': ['Yolanda Redrup', 'Sarah Thompson', 'Kanika Sood'],\n",
       " 'date_download': datetime.datetime(2022, 3, 9, 12, 27, 18),\n",
       " 'date_publish': datetime.datetime(2022, 3, 9, 6, 15, 9),\n",
       " 'language': 'en',\n",
       " 'source_domain': 'www.afr.com'}"
      ]
     },
     "execution_count": 55,
     "metadata": {},
     "output_type": "execute_result"
    }
   ],
   "source": [
    "indexer."
   ]
  },
  {
   "cell_type": "code",
   "execution_count": null,
   "id": "e12b548b-b3ea-48e6-b26e-6955e2c2da10",
   "metadata": {},
   "outputs": [],
   "source": []
  },
  {
   "cell_type": "code",
   "execution_count": 57,
   "id": "709196c3-59b1-4bca-ae9b-a6ab8dfb7ff4",
   "metadata": {},
   "outputs": [
    {
     "data": {
      "text/plain": [
       "datetime.datetime(2022, 3, 9, 6, 30)"
      ]
     },
     "execution_count": 57,
     "metadata": {},
     "output_type": "execute_result"
    }
   ],
   "source": [
    "datetime(2022, 3, 9, 6, 30, 0)"
   ]
  },
  {
   "cell_type": "code",
   "execution_count": 22,
   "id": "c892a137-4f24-4179-bbf5-e108413fbf0e",
   "metadata": {},
   "outputs": [],
   "source": [
    "indexer.search(doc_q, limit=5)"
   ]
  },
  {
   "cell_type": "code",
   "execution_count": 43,
   "id": "27be2072-2836-498f-a4b2-1575ac135a15",
   "metadata": {},
   "outputs": [],
   "source": [
    "da = DocumentArray(da_store, copy=True)"
   ]
  },
  {
   "cell_type": "code",
   "execution_count": 72,
   "id": "0dd89f6d-708a-4e2c-9e8d-7fb389f8c388",
   "metadata": {},
   "outputs": [],
   "source": [
    "da_sections = da[\"@c\"].split_by_tag(\"section\")"
   ]
  },
  {
   "cell_type": "code",
   "execution_count": 73,
   "id": "17bd98f5-382c-4f7a-a64d-931f59c306ac",
   "metadata": {},
   "outputs": [],
   "source": [
    "da_title = da_sections[\"title\"]"
   ]
  },
  {
   "cell_type": "code",
   "execution_count": 17,
   "id": "95eb82ce-8df3-4f90-b71a-b79fbc8ee798",
   "metadata": {},
   "outputs": [
    {
     "data": {
      "text/plain": [
       "0.015345268542199489"
      ]
     },
     "execution_count": 17,
     "metadata": {},
     "output_type": "execute_result"
    }
   ],
   "source": [
    "sum(np.array(da_sections[\"title\"].texts) == '') / len(da_descr) "
   ]
  },
  {
   "cell_type": "code",
   "execution_count": 6,
   "id": "b069d827-a051-4d13-baae-f907c7e5e0e3",
   "metadata": {},
   "outputs": [],
   "source": [
    "model = SentenceTransformer('sentence-transformers/paraphrase-xlm-r-multilingual-v1')"
   ]
  },
  {
   "cell_type": "code",
   "execution_count": 7,
   "id": "e3c7402c-ba42-4335-95ec-c960428b5bbd",
   "metadata": {},
   "outputs": [
    {
     "data": {
      "text/plain": [
       "(768,)"
      ]
     },
     "execution_count": 7,
     "metadata": {},
     "output_type": "execute_result"
    }
   ],
   "source": [
    "model.encode(\"text\").shape"
   ]
  },
  {
   "cell_type": "code",
   "execution_count": 92,
   "id": "7ffd7631-eb77-4069-8e56-312865fa1926",
   "metadata": {},
   "outputs": [],
   "source": [
    "indexer.index(docs_ann)"
   ]
  },
  {
   "cell_type": "code",
   "execution_count": 93,
   "id": "db931f3c-d942-4150-86f0-f92dd4218c04",
   "metadata": {},
   "outputs": [
    {
     "data": {
      "text/plain": [
       "1179"
      ]
     },
     "execution_count": 93,
     "metadata": {},
     "output_type": "execute_result"
    }
   ],
   "source": [
    "indexer.index_size"
   ]
  },
  {
   "cell_type": "code",
   "execution_count": 75,
   "id": "845caaf4-70a3-4420-b85e-de80116ec8a6",
   "metadata": {},
   "outputs": [],
   "source": [
    "da.embeddings = model.encode(da_title.texts)"
   ]
  },
  {
   "cell_type": "code",
   "execution_count": null,
   "id": "e4c70f26-57e5-40a2-a384-1219ea989701",
   "metadata": {},
   "outputs": [],
   "source": []
  },
  {
   "cell_type": "code",
   "execution_count": 30,
   "id": "165d4927-9982-4c29-85ee-e1fc932fd11c",
   "metadata": {},
   "outputs": [],
   "source": [
    "D = len(da_title[0].embedding)"
   ]
  },
  {
   "cell_type": "code",
   "execution_count": 42,
   "id": "a0712cd8-a679-4770-b033-7dbc3ca00bc6",
   "metadata": {},
   "outputs": [
    {
     "data": {
      "text/plain": [
       "{'authors': ['Yolanda Redrup', 'Sarah Thompson', 'Kanika Sood'],\n",
       " 'date_download': datetime.datetime(2022, 3, 9, 12, 27, 18),\n",
       " 'date_publish': datetime.datetime(2022, 3, 9, 6, 15, 9),\n",
       " 'language': 'en',\n",
       " 'source_domain': 'www.afr.com'}"
      ]
     },
     "execution_count": 42,
     "metadata": {},
     "output_type": "execute_result"
    }
   ],
   "source": [
    "da[0].tags"
   ]
  },
  {
   "cell_type": "code",
   "execution_count": 43,
   "id": "597dea87-695d-4ac3-a682-b817485416e5",
   "metadata": {},
   "outputs": [
    {
     "data": {
      "text/plain": [
       "'1'"
      ]
     },
     "execution_count": 43,
     "metadata": {},
     "output_type": "execute_result"
    }
   ],
   "source": [
    "da[0].id"
   ]
  },
  {
   "cell_type": "code",
   "execution_count": 45,
   "id": "83d9c32f-9405-4852-ae6b-542297bc02ed",
   "metadata": {},
   "outputs": [
    {
     "data": {
      "text/plain": [
       "'53648e4a9fa511ecaa8cd910485b4726'"
      ]
     },
     "execution_count": 45,
     "metadata": {},
     "output_type": "execute_result"
    }
   ],
   "source": [
    "da_title[0].id"
   ]
  },
  {
   "cell_type": "code",
   "execution_count": 46,
   "id": "66426a4a-7c79-495e-a24b-4b43c93affb3",
   "metadata": {},
   "outputs": [],
   "source": [
    "for d in da:\n",
    "    break"
   ]
  },
  {
   "cell_type": "code",
   "execution_count": 48,
   "id": "3ab39946-1e8e-4922-bda6-67362c056660",
   "metadata": {},
   "outputs": [
    {
     "data": {
      "text/html": [
       "<pre style=\"white-space:pre;overflow-x:auto;line-height:normal;font-family:Menlo,'DejaVu Sans Mono',consolas,'Courier New',monospace\"><span style=\"font-style: italic\">                  Documents Summary                   </span>\n",
       "                                                      \n",
       "  Length                    1173                      \n",
       "  Homogenous Documents      True                      \n",
       "  Has nested Documents in   ('chunks',)               \n",
       "  Common Attributes         ('id', 'tags', 'chunks')  \n",
       "                                                      \n",
       "<span style=\"font-style: italic\">                        Attributes Summary                        </span>\n",
       "                                                                  \n",
       " <span style=\"font-weight: bold\"> Attribute </span> <span style=\"font-weight: bold\"> Data type       </span> <span style=\"font-weight: bold\"> #Unique values </span> <span style=\"font-weight: bold\"> Has empty value </span> \n",
       " ──────────────────────────────────────────────────────────────── \n",
       "  chunks      ('ChunkArray',)   1173             False            \n",
       "  id          ('str',)          1173             False            \n",
       "  tags        ('dict',)         1173             False            \n",
       "                                                                  \n",
       "</pre>\n"
      ],
      "text/plain": [
       "\u001b[3m                  Documents Summary                   \u001b[0m\n",
       "                                                      \n",
       "  Length                    1173                      \n",
       "  Homogenous Documents      True                      \n",
       "  Has nested Documents in   ('chunks',)               \n",
       "  Common Attributes         ('id', 'tags', 'chunks')  \n",
       "                                                      \n",
       "\u001b[3m                        Attributes Summary                        \u001b[0m\n",
       "                                                                  \n",
       " \u001b[1m \u001b[0m\u001b[1mAttribute\u001b[0m\u001b[1m \u001b[0m \u001b[1m \u001b[0m\u001b[1mData type      \u001b[0m\u001b[1m \u001b[0m \u001b[1m \u001b[0m\u001b[1m#Unique values\u001b[0m\u001b[1m \u001b[0m \u001b[1m \u001b[0m\u001b[1mHas empty value\u001b[0m\u001b[1m \u001b[0m \n",
       " ──────────────────────────────────────────────────────────────── \n",
       "  chunks      ('ChunkArray',)   1173             False            \n",
       "  id          ('str',)          1173             False            \n",
       "  tags        ('dict',)         1173             False            \n",
       "                                                                  \n"
      ]
     },
     "metadata": {},
     "output_type": "display_data"
    }
   ],
   "source": [
    "da.embeddings"
   ]
  },
  {
   "cell_type": "code",
   "execution_count": 52,
   "id": "1d93e7a5-32c5-4d36-b806-951d7d94e3d8",
   "metadata": {},
   "outputs": [
    {
     "data": {
      "text/plain": [
       "{'authors': ['Yolanda Redrup', 'Sarah Thompson', 'Kanika Sood'],\n",
       " 'date_download': datetime.datetime(2022, 3, 9, 12, 27, 18),\n",
       " 'date_publish': datetime.datetime(2022, 3, 9, 6, 15, 9),\n",
       " 'language': 'en',\n",
       " 'source_domain': 'www.afr.com'}"
      ]
     },
     "execution_count": 52,
     "metadata": {},
     "output_type": "execute_result"
    }
   ],
   "source": [
    "d.tags"
   ]
  },
  {
   "cell_type": "code",
   "execution_count": 82,
   "id": "3f40cc0c-fab0-49b4-88a3-c606310e7221",
   "metadata": {},
   "outputs": [],
   "source": [
    "def get_section_texts(da, section):\n",
    "    bool_index = np.array(da[\"@c\", \"tags__section\"]) == section\n",
    "    return da[\"@c\"][bool_index].texts"
   ]
  },
  {
   "cell_type": "code",
   "execution_count": 113,
   "id": "1bf064e1-fc70-4990-98ac-144edb9d86a6",
   "metadata": {},
   "outputs": [
    {
     "name": "stdout",
     "output_type": "stream",
     "text": [
      "CPU times: user 5min 46s, sys: 342 ms, total: 5min 47s\n",
      "Wall time: 1min 29s\n"
     ]
    }
   ],
   "source": [
    "%%time\n",
    "texts = get_section_texts(da=da, section=\"title\")\n",
    "da.embeddings = model.encode(texts)"
   ]
  },
  {
   "cell_type": "code",
   "execution_count": 15,
   "id": "437fd30c-8e6b-4bf1-9372-4a708d6ec79d",
   "metadata": {},
   "outputs": [],
   "source": [
    "def get_section_text(doc, section):\n",
    "    texts = doc.chunks.split_by_tag(\"section\")[section].texts\n",
    "    return texts[0]"
   ]
  },
  {
   "cell_type": "code",
   "execution_count": 114,
   "id": "67013436-c661-4e9e-b8ef-448f34ca7543",
   "metadata": {},
   "outputs": [
    {
     "name": "stdout",
     "output_type": "stream",
     "text": [
      "CPU times: user 7min 50s, sys: 792 ms, total: 7min 51s\n",
      "Wall time: 2min\n"
     ]
    }
   ],
   "source": [
    "%%time\n",
    "embeddings = []\n",
    "for d in da:\n",
    "    text = get_section_text(doc=d, section=\"title\")\n",
    "    embedding = model.encode(text)\n",
    "    embeddings.append(embedding)"
   ]
  },
  {
   "cell_type": "code",
   "execution_count": null,
   "id": "4048a863-0216-4bea-b746-6608143ae034",
   "metadata": {},
   "outputs": [],
   "source": [
    "da[0].e"
   ]
  },
  {
   "cell_type": "code",
   "execution_count": 89,
   "id": "7e5dbaca-85b1-4927-86e9-6dc853c9a50f",
   "metadata": {},
   "outputs": [
    {
     "data": {
      "text/plain": [
       "'new_docs_1'"
      ]
     },
     "execution_count": 89,
     "metadata": {},
     "output_type": "execute_result"
    }
   ],
   "source": [
    "docs_ann[0].id"
   ]
  },
  {
   "cell_type": "code",
   "execution_count": 87,
   "id": "ebd2127d-0f68-463d-a2d2-0ec84b6713fa",
   "metadata": {},
   "outputs": [],
   "source": [
    "docs_ann = DocumentArray(docs_ann)"
   ]
  },
  {
   "cell_type": "code",
   "execution_count": 86,
   "id": "5126cff8-f128-492b-b90d-d4675d572d96",
   "metadata": {},
   "outputs": [],
   "source": [
    "docs_ann = []\n",
    "for i, d in enumerate(da):\n",
    "    text = get_section_text(doc=d, section=\"title\")\n",
    "    embedding = model.encode(\"testing test\")\n",
    "    \n",
    "    doc = Document(id=f\"new_docs_{d.id}\", embedding=embedding, tags={'date': d.tags[\"date_publish\"], \"source\": d.tags[\"source_domain\"], \"lang\": d.tags[\"language\"]})\n",
    "    \n",
    "    \n",
    "    docs_ann.append(doc)\n",
    "    \n",
    "    if i == 5:\n",
    "        break\n",
    "    \n",
    "#docs_ann = DocumentArray(docs_ann)"
   ]
  },
  {
   "cell_type": "code",
   "execution_count": null,
   "id": "40126dd5-eab8-4880-b70d-1db176495e2b",
   "metadata": {},
   "outputs": [],
   "source": [
    "date_publish, language, source_domain"
   ]
  },
  {
   "cell_type": "code",
   "execution_count": 150,
   "id": "888aab77-68d1-4de3-ab6e-5e0d3a654398",
   "metadata": {},
   "outputs": [],
   "source": [
    "indexer = AnnLite(dim=D, columns=[('date', datetime), (\"source\", str), (\"lang\", str)], data_path='/root/news/data/db/title_annlite')"
   ]
  },
  {
   "cell_type": "code",
   "execution_count": 151,
   "id": "f79f08bc-db23-49b0-9beb-329e057b2d87",
   "metadata": {},
   "outputs": [],
   "source": [
    "indexer.index(docs_ann)"
   ]
  },
  {
   "cell_type": "code",
   "execution_count": null,
   "id": "c13c32a2-72fe-4369-a9a0-1680dc06fd1a",
   "metadata": {},
   "outputs": [],
   "source": []
  },
  {
   "cell_type": "code",
   "execution_count": null,
   "id": "da4e2b0d-e9fa-4956-baf0-6f55f1ca0544",
   "metadata": {},
   "outputs": [],
   "source": []
  },
  {
   "cell_type": "code",
   "execution_count": null,
   "id": "e5729e08-004f-439c-ab9b-618ed7787434",
   "metadata": {},
   "outputs": [],
   "source": []
  },
  {
   "cell_type": "code",
   "execution_count": null,
   "id": "8477805a-6897-41ac-946e-f2801490b624",
   "metadata": {},
   "outputs": [],
   "source": []
  },
  {
   "cell_type": "code",
   "execution_count": 109,
   "id": "6874063d-8286-4be1-8730-95b5dc9947bc",
   "metadata": {},
   "outputs": [],
   "source": [
    " = d.chunks.split_by_tag(\"section\")[\"title\"].texts"
   ]
  },
  {
   "cell_type": "code",
   "execution_count": 110,
   "id": "78b6c981-3d86-4a03-a69c-f867dd7f0513",
   "metadata": {},
   "outputs": [
    {
     "data": {
      "text/plain": [
       "['Rat u Ukrajini uživo: Putin potpisao ukaz! Zabrana uvoza ruske nafte izazvala bi haos u Nemačkoj!']"
      ]
     },
     "execution_count": 110,
     "metadata": {},
     "output_type": "execute_result"
    }
   ],
   "source": [
    "for d in da:\n",
    "    embedding = "
   ]
  },
  {
   "cell_type": "code",
   "execution_count": 142,
   "id": "af571b6a-c937-495d-8a33-a064bfba380f",
   "metadata": {},
   "outputs": [
    {
     "data": {
      "text/plain": [
       "{'authors': [],\n",
       " 'date_download': datetime.datetime(2022, 3, 9, 12, 29, 22),\n",
       " 'date_publish': datetime.datetime(2022, 2, 26, 0, 0),\n",
       " 'language': 'sr',\n",
       " 'source_domain': 'naslovi.net'}"
      ]
     },
     "execution_count": 142,
     "metadata": {},
     "output_type": "execute_result"
    }
   ],
   "source": [
    "d.tags"
   ]
  },
  {
   "cell_type": "code",
   "execution_count": 86,
   "id": "99b54a3f-5070-41d3-a8ce-2c1d36b92072",
   "metadata": {},
   "outputs": [],
   "source": [
    "r = []\n",
    "for d, t in zip(da, texts):\n",
    "    text = d.chunks.split_by_tag(\"section\")[\"title\"].texts[0]\n",
    "    r.append(text == t)"
   ]
  },
  {
   "cell_type": "code",
   "execution_count": 88,
   "id": "44d61681-afbc-4bb7-9ed3-1bb764de88e7",
   "metadata": {},
   "outputs": [
    {
     "data": {
      "text/plain": [
       "True"
      ]
     },
     "execution_count": 88,
     "metadata": {},
     "output_type": "execute_result"
    }
   ],
   "source": [
    "all(r)"
   ]
  },
  {
   "cell_type": "code",
   "execution_count": null,
   "id": "0a5d1150-7849-4da7-9ec1-8af83da9373c",
   "metadata": {},
   "outputs": [],
   "source": []
  },
  {
   "cell_type": "code",
   "execution_count": 75,
   "id": "a29e364f-09f4-4a11-bbc8-a530e7e83b46",
   "metadata": {},
   "outputs": [
    {
     "data": {
      "text/plain": [
       "(768,)"
      ]
     },
     "execution_count": 75,
     "metadata": {},
     "output_type": "execute_result"
    }
   ],
   "source": [
    "model.encode(d.chunks.split_by_tag(\"section\")[\"title\"].texts[0]).shape"
   ]
  },
  {
   "cell_type": "code",
   "execution_count": 63,
   "id": "a8634046-54bc-4d7b-81e5-425e85a3d6af",
   "metadata": {},
   "outputs": [],
   "source": [
    "texts = da[\"@c\"][bool_index].texts"
   ]
  },
  {
   "cell_type": "code",
   "execution_count": 64,
   "id": "47571246-08d2-472b-8666-89f57dcbabaf",
   "metadata": {},
   "outputs": [
    {
     "data": {
      "text/plain": [
       "['UBS promotes Nick Brown to APAC M&A co-head',\n",
       " 'Initiatives approved to help flood affected residents and businesses',\n",
       " 'China lawmakers have West’s decline on their minds at ‘two sessions’',\n",
       " 'a fresh crossover for the C-segment',\n",
       " 'US-31 to Get Facelift South of Holland',\n",
       " 'Djokovic entered on Indian Wells draw but status unclear',\n",
       " 'EU Citizens Leaving Hong Kong Massively Due to Stringent COVID-19 Measures',\n",
       " 'Actor Aaron Aziz delays surgery for tumour, enduring chronic pain',\n",
       " 'Australia to declare east coast floods a national emergency',\n",
       " 'MSN',\n",
       " \"Disney CEO Addresses 'Don't Say Gay' FL Bill After Calls for Response\",\n",
       " 'New York Times pulls Russia news team over new law',\n",
       " 'Dewan Rakyat Speaker rejects call to discipline Najib, says he extended ex-PM’s time to explain 1MDB debt remark in Parliament',\n",
       " 'Why court sacked Gov Umahi, Deputy, 16 lawmakers',\n",
       " \"Lisa Curry arrives at a funeral home with her husband Mark Tabone following mother's death\",\n",
       " 'Royal Victoria Country Park will host the Walk For Hope',\n",
       " 'Kangaroo Island’s most luxurious accommodation',\n",
       " 'Death - Structure fire at Humpty Doo',\n",
       " \"Agenda of visit of UK Prime Minister's Trade Envoy for Azerb...\",\n",
       " 'Army ordered to respond quickly to potential Armenian provoc...']"
      ]
     },
     "execution_count": 64,
     "metadata": {},
     "output_type": "execute_result"
    }
   ],
   "source": [
    "texts[:20]"
   ]
  },
  {
   "cell_type": "code",
   "execution_count": null,
   "id": "10800a38-4d7a-4a13-89ae-851efb7a3e03",
   "metadata": {},
   "outputs": [],
   "source": []
  },
  {
   "cell_type": "code",
   "execution_count": null,
   "id": "689ff9dd-19f4-440f-9c76-7670dcb09bd7",
   "metadata": {},
   "outputs": [],
   "source": [
    "indexer = AnnLite(dim=D, columns=[('price', float)], data_path='./workspace_data')"
   ]
  },
  {
   "cell_type": "code",
   "execution_count": null,
   "id": "6a15b7e4-39ab-4b79-9901-74d946cf7d20",
   "metadata": {},
   "outputs": [],
   "source": []
  },
  {
   "cell_type": "code",
   "execution_count": null,
   "id": "46da0276-7bf6-453a-b996-0532a8a49ad8",
   "metadata": {},
   "outputs": [],
   "source": [
    "da_title_s.embeddings = model.encode(da_title_s.texts)\n",
    "crud.article.url_exists(url=\"asddaf sadf dasfaf\")"
   ]
  },
  {
   "cell_type": "code",
   "execution_count": null,
   "id": "163c6996-54f7-407a-889d-e67f418122b2",
   "metadata": {},
   "outputs": [],
   "source": [
    "model = SentenceTransformer('sentence-transformers/paraphrase-xlm-r-multilingual-v1')"
   ]
  },
  {
   "cell_type": "code",
   "execution_count": null,
   "id": "8daaaa7a-688b-4470-ae79-819d0ea5b1ea",
   "metadata": {},
   "outputs": [],
   "source": []
  },
  {
   "cell_type": "code",
   "execution_count": null,
   "id": "204b732d-efb7-4a41-8491-17ca1bb2e4a6",
   "metadata": {},
   "outputs": [],
   "source": []
  }
 ],
 "metadata": {
  "kernelspec": {
   "display_name": "Python 3 (ipykernel)",
   "language": "python",
   "name": "python3"
  },
  "language_info": {
   "codemirror_mode": {
    "name": "ipython",
    "version": 3
   },
   "file_extension": ".py",
   "mimetype": "text/x-python",
   "name": "python",
   "nbconvert_exporter": "python",
   "pygments_lexer": "ipython3",
   "version": "3.8.10"
  }
 },
 "nbformat": 4,
 "nbformat_minor": 5
}
